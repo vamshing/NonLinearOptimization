{
 "cells": [
  {
   "cell_type": "markdown",
   "metadata": {},
   "source": [
    "##  Non-Linear Conjugate Gradient Method:"
   ]
  },
  {
   "cell_type": "markdown",
   "metadata": {},
   "source": [
    "\\\\begin{equation}\n",
    "min \\ f(x),\\ f(x) =\n",
    "\\\\end{equation}"
   ]
  },
  {
   "cell_type": "markdown",
   "metadata": {},
   "source": [
    "\\\\begin{equation}\n",
    "\\ Using \\ x_0 = [1,1.....1,1]T\n",
    "\\\\end{equation}"
   ]
  },
  {
   "cell_type": "code",
   "execution_count": 1,
   "metadata": {
    "collapsed": true
   },
   "outputs": [],
   "source": [
    "import math\n",
    "import numpy as np\n",
    "from sympy import *"
   ]
  },
  {
   "cell_type": "markdown",
   "metadata": {},
   "source": [
    "**Initializing the vectors**"
   ]
  },
  {
   "cell_type": "code",
   "execution_count": null,
   "metadata": {
    "collapsed": true
   },
   "outputs": [],
   "source": [
    "x0 = np.matrix([[0],[0],[0],[0],[0],[0]])\n",
    "A  = np.matrix([[4,0,0,1,0,0],[0,4,0,0,1,0],[0,0,5,0,0,1],[1,0,0,5,0,0],[0,1,0,0,6,0],[0,0,1,0,0,6]]) \n",
    "b =  np.matrix([[4],[-8],[16],[1],[-2],[9]])"
   ]
  },
  {
   "cell_type": "code",
   "execution_count": 10,
   "metadata": {
    "collapsed": false
   },
   "outputs": [],
   "source": [
    "#function Defition\n",
    "\n",
    "def func(a,b,c,d):\n",
    "    x,y,z,w=symbols('x y z w')\n",
    "    f = (x - 2*y**2)**2 + (y - 2*z**2)**2 + (z - 2*w**2)**2\n",
    "    return f.subs({x:a,y:b,z:c,w:d})\n",
    "\n",
    "def derv_x(a,b,c,d):\n",
    "    x,y,z,w=symbols('x y z w')\n",
    "    f = (x - 2*y**2)**2 + (y - 2*z**2)**2 + (z - 2*w**2)**2\n",
    "    return diff(f,x).subs({x:a,y:b,z:c,w:d})\n",
    "    \n",
    "def derv_y(a,b,c,d):\n",
    "    x,y,z,w=symbols('x y z w')\n",
    "    f = (x - 2*y**2)**2 + (y - 2*z**2)**2 + (z - 2*w**2)**2\n",
    "    return diff(f,y).subs({x:a,y:b,z:c,w:d})    \n",
    "    \n",
    "def derv_z(a,b,c,d):\n",
    "    x,y,z,w=symbols('x y z w')\n",
    "    f = (x - 2*y**2)**2 + (y - 2*z**2)**2 + (z - 2*w**2)**2\n",
    "    return diff(f,z).subs({x:a,y:b,z:c,w:d})\n",
    "    \n",
    "def derv_w(a,b,c,d):\n",
    "    x,y,z,w=symbols('x y z w')\n",
    "    f = (x - 2*y**2)**2 + (y - 2*z**2)**2 + (z - 2*w**2)**2\n",
    "    return diff(f,w).subs({x:a,y:b,z:c,w:d})\n",
    "\n",
    "def grad_vector(x0):\n",
    "    return np.matrix([derv_x(x0[0],x0[1],x0[2],x0[3]),derv_y(x0[0],x0[1],x0[2],x0[3]),\n",
    "                         derv_z(x0[0],x0[1],x0[2],x0[3]),derv_w(x0[0],x0[1],x0[2],x0[3])])"
   ]
  },
  {
   "cell_type": "code",
   "execution_count": null,
   "metadata": {
    "collapsed": false
   },
   "outputs": [],
   "source": []
  },
  {
   "cell_type": "markdown",
   "metadata": {},
   "source": [
    "**The Function to compute the minimizer vector by Conjugate gradient method**"
   ]
  },
  {
   "cell_type": "code",
   "execution_count": null,
   "metadata": {
    "collapsed": true
   },
   "outputs": [],
   "source": [
    "def non_linear_conjugate_gradient(A, b, x0, tol = 1.0e-8, max_iter = 100):\n",
    "    \"\"\"\n",
    "    A function to solve [A]{x} = {b} linear equation system with the \n",
    "    conjugate gradient method.\n",
    "    \n",
    "    :param A : array \n",
    "        A real symmetric positive definite matrix(assumed)\n",
    "        \n",
    "    :param b : vector\n",
    "        The vector of the system which is given in RHS.\n",
    "        \n",
    "    :param x0 : vector\n",
    "        The starting guess for the solution.\n",
    "        \n",
    "    :param max_iter : integer\n",
    "        Maximum number of iterations. Iteration will stop after max_iter \n",
    "        steps even if the specified tolerance has not been achieved.\n",
    "        \n",
    "    :param tol : float\n",
    "        Tolerance to achieve. The algorithm will terminate when either \n",
    "        the relative or the absolute residual is below tol.\n",
    "        \n",
    "    :var    r0 : vector\n",
    "                 Initialization stores the value (b - a * A )\n",
    "    \n",
    "    :var    d  : vector\n",
    "    \n",
    "    :var    a  : float\n",
    "                 Iteratively computes the scalar of (r1T.r1)/(r0T.r0)\n",
    "\n",
    "    :var    ri : vector\n",
    "                 Iteratively stores the value (r - a * A * d), used to check for the convergence\n",
    "    \n",
    "    :var    x  : vector \n",
    "                 Stores the solution for the next iteration iteratively\n",
    "                 \n",
    "    :var    b  : float\n",
    "                 Iteratively computes the scalar of (riT.ri)/(diT.A.di)\n",
    "    \"\"\"\n",
    "    x = x0\n",
    "    r0 = grad_vector(x0) * (-1)\n",
    "    d = r0\n",
    "\n",
    "#   Iterations:   \n",
    "    for i in xrange(max_iter):\n",
    "        a = float(np.dot(r0.T, r0)/np.dot(np.dot(d.T, A), d))\n",
    "        x = x + d*a\n",
    "        ri = r0 - np.dot(A*a, d)\n",
    "        \n",
    "        print \"iteration: \",i, \"r(i): \",round(np.linalg.norm(ri),5)\n",
    "\n",
    "        if np.linalg.norm(ri) < tol:\n",
    "            print \"\\nConverged Successfully in iterations :\",i\n",
    "            print \"The result of vector x:\"\n",
    "            return np.around(x,decimals=10)\n",
    "            break\n",
    "        b = float(np.dot(ri.T, ri)/np.dot(r0.T, r0))\n",
    "        d = ri + b * d\n",
    "        r0 = ri\n",
    "    return x"
   ]
  },
  {
   "cell_type": "code",
   "execution_count": null,
   "metadata": {
    "collapsed": true
   },
   "outputs": [],
   "source": [
    "non_linear_conjugate_gradient(A, b, x0, tol = 1.0e-10, max_iter = 100)"
   ]
  },
  {
   "cell_type": "code",
   "execution_count": 20,
   "metadata": {
    "collapsed": false
   },
   "outputs": [
    {
     "ename": "NameError",
     "evalue": "name 'A' is not defined",
     "output_type": "error",
     "traceback": [
      "\u001b[0;31m---------------------------------------------------------------------------\u001b[0m",
      "\u001b[0;31mNameError\u001b[0m                                 Traceback (most recent call last)",
      "\u001b[0;32m<ipython-input-20-36331facae6e>\u001b[0m in \u001b[0;36m<module>\u001b[0;34m()\u001b[0m\n\u001b[0;32m----> 1\u001b[0;31m \u001b[0ma\u001b[0m \u001b[0;34m=\u001b[0m \u001b[0mfloat\u001b[0m\u001b[0;34m(\u001b[0m\u001b[0mnp\u001b[0m\u001b[0;34m.\u001b[0m\u001b[0mdot\u001b[0m\u001b[0;34m(\u001b[0m\u001b[0mr0\u001b[0m\u001b[0;34m.\u001b[0m\u001b[0mT\u001b[0m\u001b[0;34m,\u001b[0m \u001b[0mr0\u001b[0m\u001b[0;34m)\u001b[0m\u001b[0;34m/\u001b[0m\u001b[0mnp\u001b[0m\u001b[0;34m.\u001b[0m\u001b[0mdot\u001b[0m\u001b[0;34m(\u001b[0m\u001b[0mnp\u001b[0m\u001b[0;34m.\u001b[0m\u001b[0mdot\u001b[0m\u001b[0;34m(\u001b[0m\u001b[0md\u001b[0m\u001b[0;34m.\u001b[0m\u001b[0mT\u001b[0m\u001b[0;34m,\u001b[0m \u001b[0mA\u001b[0m\u001b[0;34m)\u001b[0m\u001b[0;34m,\u001b[0m \u001b[0md\u001b[0m\u001b[0;34m)\u001b[0m\u001b[0;34m)\u001b[0m\u001b[0;34m\u001b[0m\u001b[0m\n\u001b[0m",
      "\u001b[0;31mNameError\u001b[0m: name 'A' is not defined"
     ]
    }
   ],
   "source": [
    "a = float(np.dot(r0.T, r0)/np.dot(np.dot(d.T, A), d))"
   ]
  },
  {
   "cell_type": "code",
   "execution_count": null,
   "metadata": {
    "collapsed": false
   },
   "outputs": [],
   "source": []
  },
  {
   "cell_type": "code",
   "execution_count": null,
   "metadata": {
    "collapsed": true
   },
   "outputs": [],
   "source": []
  }
 ],
 "metadata": {
  "kernelspec": {
   "display_name": "Python 2",
   "language": "python",
   "name": "python2"
  },
  "language_info": {
   "codemirror_mode": {
    "name": "ipython",
    "version": 2
   },
   "file_extension": ".py",
   "mimetype": "text/x-python",
   "name": "python",
   "nbconvert_exporter": "python",
   "pygments_lexer": "ipython2",
   "version": "2.7.10"
  }
 },
 "nbformat": 4,
 "nbformat_minor": 0
}
