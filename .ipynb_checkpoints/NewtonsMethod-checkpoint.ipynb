{
 "cells": [
  {
   "cell_type": "markdown",
   "metadata": {
    "collapsed": true
   },
   "source": [
    "Newtons Method : \n",
    "\\begin{equation}\n",
    "  f(x) =7x^4 + 3x^3 + 2x^2 + 9x + 4 = 0\n",
    "\\end{equation}"
   ]
  },
  {
   "cell_type": "markdown",
   "metadata": {},
   "source": [
    "**i.Newtons Method**\n",
    "Results:\n",
    "Comments on Result:\n",
    "- The tolerance for the convergence is set to be **0.000001**\n",
    "- Using the initial guess as **-1** approxiamated value of x is **-0.909306388848**\n",
    "- Using the initial guess as **1** approxiamated value of x is **-0.511041787678**\n",
    "- Since it is the order four equation, and with other trials, I found that the method converges to these two values only. Hence, the other two roots are **complex**\n",
    "- The computed values are cross-validates by checking plugging in these values and and checking for convergence ~0."
   ]
  },
  {
   "cell_type": "markdown",
   "metadata": {
    "collapsed": true
   },
   "source": [
    "### Implementation of Newtons method"
   ]
  },
  {
   "cell_type": "code",
   "execution_count": 1,
   "metadata": {
    "collapsed": false
   },
   "outputs": [],
   "source": [
    "import numpy as np\n",
    "import math\n",
    "\n",
    "def derivative(f): #method to compute the derivative\n",
    "    def compute(x, dx):\n",
    "        return (f(x+dx) - f(x))/dx\n",
    "    return compute\n",
    "\n",
    "def newtons_method(f, x, dx=0.000001, tolerance=0.000001): #newton method\n",
    "    df = derivative(f)\n",
    "    while True:\n",
    "        x1 = x - f(x)/df(x, dx) # loop to check\n",
    "        t = abs(x1 - x) # taking the absolute value for convergence\n",
    "        if t < tolerance:\n",
    "            break # breaks out the loops to return the value of x \n",
    "        x = x1\n",
    "    return x\n",
    "\n",
    "def f(x):\n",
    "    return 7*x**4 + 3*x**3 + 2*x**2 + 9*x + 4 # the function"
   ]
  },
  {
   "cell_type": "code",
   "execution_count": 2,
   "metadata": {
    "collapsed": false
   },
   "outputs": [
    {
     "name": "stdout",
     "output_type": "stream",
     "text": [
      "Solve for x in 7*x**4 + 3*x**3 + 2*x**2 + 9*x + 4 = 0\n",
      "x = -0.511041787678\n",
      "Testing with the above x value ...\n",
      "0.000000002000\n"
     ]
    }
   ],
   "source": [
    "x_approx = 1  # rough guess\n",
    "x = newtons_method(f, x_approx)\n",
    "print(\"Solve for x in 7*x**4 + 3*x**3 + 2*x**2 + 9*x + 4 = 0\")\n",
    "print(\"x = %0.12f\" % x)\n",
    "print(\"Testing with the above x value ...\")\n",
    "print(\"%0.12f\" % (7*x**4 + 3*x**3 + 2*x**2 + 9*x + 4))  "
   ]
  },
  {
   "cell_type": "code",
   "execution_count": 3,
   "metadata": {
    "collapsed": false
   },
   "outputs": [
    {
     "name": "stdout",
     "output_type": "stream",
     "text": [
      "Solve for x in 7*x**4 + 3*x**3 + 2*x**2 + 9*x + 4 = 0\n",
      "x = -0.909306388848\n",
      "Testing with the above x value ...\n",
      "0.000000000487\n"
     ]
    }
   ],
   "source": [
    "x_approx = -1  # rough guess\n",
    "x = newtons_method(f, x_approx) #compute\n",
    "print(\"Solve for x in 7*x**4 + 3*x**3 + 2*x**2 + 9*x + 4 = 0\")\n",
    "print(\"x = %0.12f\" % x)\n",
    "print(\"Testing with the above x value ...\")\n",
    "print(\"%0.12f\" % (7*x**4 + 3*x**3 + 2*x**2 + 9*x + 4))  "
   ]
  },
  {
   "cell_type": "code",
   "execution_count": null,
   "metadata": {
    "collapsed": true
   },
   "outputs": [],
   "source": []
  }
 ],
 "metadata": {
  "kernelspec": {
   "display_name": "Python 2",
   "language": "python",
   "name": "python2"
  },
  "language_info": {
   "codemirror_mode": {
    "name": "ipython",
    "version": 2
   },
   "file_extension": ".py",
   "mimetype": "text/x-python",
   "name": "python",
   "nbconvert_exporter": "python",
   "pygments_lexer": "ipython2",
   "version": "2.7.6"
  }
 },
 "nbformat": 4,
 "nbformat_minor": 0
}
