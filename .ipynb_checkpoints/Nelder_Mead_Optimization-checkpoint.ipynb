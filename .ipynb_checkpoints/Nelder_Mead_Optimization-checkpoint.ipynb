{
 "cells": [
  {
   "cell_type": "markdown",
   "metadata": {},
   "source": [
    "##  Nelder Mead Method:"
   ]
  },
  {
   "cell_type": "markdown",
   "metadata": {},
   "source": [
    "\n",
    "$min \\ f(x),\\ f(x) = x_1 - x_2 + 2x_1^2 + 2x_1x_2$\n"
   ]
  },
  {
   "cell_type": "code",
   "execution_count": 42,
   "metadata": {
    "collapsed": true
   },
   "outputs": [],
   "source": [
    "import math\n",
    "import numpy as np\n",
    "from sympy import *"
   ]
  },
  {
   "cell_type": "markdown",
   "metadata": {},
   "source": [
    "### Initial points defining the simplex"
   ]
  },
  {
   "cell_type": "code",
   "execution_count": 49,
   "metadata": {
    "collapsed": false
   },
   "outputs": [],
   "source": [
    "alpha  = 2\n",
    "beta = 0.5\n",
    "gamma = 2\n",
    "tol = 0.2\n",
    "radius = 10.0\n",
    "\n",
    "def func(x):\n",
    "    return x[0] - x[1] + 2*x[0]**2 + 2*x[0]*x[1]\n",
    "\n",
    "def qvd(m,x0):\n",
    "    return (func(m) - func(x0))**2\n",
    "\n",
    "def q_value(x1,x2,x3,x0):\n",
    "    return math.sqrt((1./3) * (qvd(x1,x0) + qvd(x2,x0) + qvd(x3,x0)))\n",
    "\n",
    "def return_xh(x1,x2,x3):\n",
    "    # compute xh\n",
    "    func_vector = [func(x1), func(x2), func(x3)]\n",
    "    if max(func_vector) == func_vector[0]:\n",
    "        return x1 \n",
    "    if max(func_vector) == func_vector[1]:\n",
    "        return x2 \n",
    "    if max(func_vector) == func_vector[2]:\n",
    "        return x3\n",
    "\n",
    "def return_xl(x1,x2,x3):\n",
    "    # compute xl\n",
    "    func_vector = [func(x1), func(x2), func(x3)]\n",
    "    if min(func_vector) == func_vector[0]:\n",
    "        return x1\n",
    "    if min(func_vector) == func_vector[1]:\n",
    "        return x2\n",
    "    if min(func_vector) == func_vector[2]:\n",
    "        return x3   \n",
    "\n",
    "#Reflection point xr:\n",
    "def xr_return(x0,xh):\n",
    "    return ((1+alpha)*x0 - (alpha*xh))"
   ]
  },
  {
   "cell_type": "code",
   "execution_count": 50,
   "metadata": {
    "collapsed": true
   },
   "outputs": [],
   "source": [
    "# Closed ball of radius 10\n",
    "x1 = np.array([4.,4.])\n",
    "x2 = np.array([x1[0] + radius,x1[1]])\n",
    "x3 = np.array([x1[0],x1[1] + radius])"
   ]
  },
  {
   "cell_type": "code",
   "execution_count": 51,
   "metadata": {
    "collapsed": false
   },
   "outputs": [],
   "source": [
    "# Centroid Calculation\n",
    "xh = return_xh(x1,x2,x3)\n",
    "xl = return_xl(x1,x2,x3)\n",
    "x0 = 0.5 * (xl + xh)\n",
    "\n",
    "def reset_variables(x1,x2,x3,x0,xh):\n",
    "        if xh == x1:\n",
    "            x1 = xh\n",
    "        if xh == x2:\n",
    "            x2 = xh\n",
    "        if xh == x3:\n",
    "            x3 = xh\n",
    "        \n",
    "        xh = return_xh(x1,x2,x3)\n",
    "        xl = return_xl(x1,x2,x3)\n",
    "        x0 = 0.5 * (xl + xh)\n",
    "\n",
    "while ((1./3.) * q_value(x1,x2,x3,x0)) < tol:\n",
    "    \n",
    "    print q_value(x1,x2,x3,x0)\n",
    "    #Reflection\n",
    "    xr = (1+alpha) * x0 - (alpha * xh)\n",
    "    \n",
    "    if func(xr) < func(xl):\n",
    "        #Expansion\n",
    "        xe = gamma * xr + (1-gamma) * x0\n",
    "        \n",
    "        if func(xe) < func(xl):\n",
    "            xh = xe\n",
    "            reset_variables(x1,x2,x3,x0,xh)    \n",
    "        else:\n",
    "            xh = xr\n",
    "            reset_variables(x1,x2,x3,x0,xh)    "
   ]
  },
  {
   "cell_type": "code",
   "execution_count": null,
   "metadata": {
    "collapsed": false
   },
   "outputs": [],
   "source": []
  },
  {
   "cell_type": "code",
   "execution_count": null,
   "metadata": {
    "collapsed": true
   },
   "outputs": [],
   "source": []
  }
 ],
 "metadata": {
  "kernelspec": {
   "display_name": "Python 2",
   "language": "python",
   "name": "python2"
  },
  "language_info": {
   "codemirror_mode": {
    "name": "ipython",
    "version": 2
   },
   "file_extension": ".py",
   "mimetype": "text/x-python",
   "name": "python",
   "nbconvert_exporter": "python",
   "pygments_lexer": "ipython2",
   "version": "2.7.10"
  }
 },
 "nbformat": 4,
 "nbformat_minor": 0
}
