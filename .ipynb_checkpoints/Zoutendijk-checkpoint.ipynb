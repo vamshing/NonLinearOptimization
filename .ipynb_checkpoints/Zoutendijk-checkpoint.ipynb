{
 "cells": [
  {
   "cell_type": "markdown",
   "metadata": {},
   "source": [
    "## Zoutendijk Method"
   ]
  },
  {
   "cell_type": "markdown",
   "metadata": {},
   "source": [
    "\\\\begin{equation}\n",
    "min \\ f(x),\\ f(x) = x_1^2 + x_2^2 - 6x_1 - 8x_2 + 10\n",
    "\\\\end{equation}"
   ]
  },
  {
   "cell_type": "markdown",
   "metadata": {},
   "source": [
    "\\\\begin{equation}\n",
    "constraints \\   4x_1^2 + x_2^2 <= 16 \\\n",
    "\\ 3x_1 + 5x_2 <= 4 \\\n",
    "\\ x_1,x_2 >= 0 \\\n",
    "\\\\end{equation}"
   ]
  },
  {
   "cell_type": "code",
   "execution_count": 2,
   "metadata": {
    "collapsed": true
   },
   "outputs": [],
   "source": [
    "import numpy as np\n",
    "from sympy import *\n",
    "import math\n",
    "import scipy"
   ]
  },
  {
   "cell_type": "code",
   "execution_count": 4,
   "metadata": {
    "collapsed": true
   },
   "outputs": [],
   "source": [
    "def function():\n",
    "    x, y=symbols('x y',real=True)\n",
    "    return x**2 + y**2 - 6*x - 8*y + 10\n",
    "\n",
    "def constratints():\n",
    "    x, y=symbols('x y',real=True)\n",
    "    g1 = (1)*(4*x**2 + y**2 - 16)\n",
    "    g2 = (1)*(3*x + 5*y - 4)\n",
    "    return g1,g2"
   ]
  },
  {
   "cell_type": "code",
   "execution_count": 5,
   "metadata": {
    "collapsed": true
   },
   "outputs": [],
   "source": [
    "soln0 = np.array([0,0])"
   ]
  },
  {
   "cell_type": "code",
   "execution_count": null,
   "metadata": {
    "collapsed": true
   },
   "outputs": [],
   "source": []
  }
 ],
 "metadata": {
  "kernelspec": {
   "display_name": "Python 2",
   "language": "python",
   "name": "python2"
  },
  "language_info": {
   "codemirror_mode": {
    "name": "ipython",
    "version": 2
   },
   "file_extension": ".py",
   "mimetype": "text/x-python",
   "name": "python",
   "nbconvert_exporter": "python",
   "pygments_lexer": "ipython2",
   "version": "2.7.10"
  }
 },
 "nbformat": 4,
 "nbformat_minor": 0
}
