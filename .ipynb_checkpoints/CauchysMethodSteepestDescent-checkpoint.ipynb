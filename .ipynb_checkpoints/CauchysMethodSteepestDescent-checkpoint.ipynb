{
 "cells": [
  {
   "cell_type": "code",
   "execution_count": 6,
   "metadata": {
    "collapsed": true
   },
   "outputs": [],
   "source": [
    "# Progarm : To find the minimum of a function using Cauchys method of steepest descent\n",
    "#\n",
    "# Author : Vamshi Guduguntla\n",
    "#\n",
    "# Date : 10/2/2015\n",
    "\n",
    "import numpy as np\n",
    "from sympy import *\n",
    "import math\n",
    "import scipy\n",
    "# Define the Max Iterations and the Tolerance:\n",
    "itmax = 1000\n",
    "tol = 10**(-8)\n",
    "alpha = 0.5"
   ]
  },
  {
   "cell_type": "code",
   "execution_count": 9,
   "metadata": {
    "collapsed": false
   },
   "outputs": [],
   "source": [
    "def cauchy():\n",
    "    itr = 0\n",
    "    guess = np.matrix([[100],[100]])\n",
    "    while itr < 1000:\n",
    "    # Define the symbolic equations\n",
    "        x, y=symbols('x y')\n",
    "    #function Defition\n",
    "        f = 5*x**2 + 7*y**2 - 3*x*y\n",
    "    \n",
    "        def fun(a,b):\n",
    "            return f.subs({x:a,y:b})\n",
    "    #function derivative w.r.t x\n",
    "        def fun_x(a,b):\n",
    "            return diff(f,x).subs({x:a,y:b})\n",
    "    #function derivative w.r.t y\n",
    "        def fun_y(a,b):\n",
    "            return diff(f,y).subs({x:a,y:b})\n",
    "    \n",
    "    # Compute the value of lambda\n",
    "        lmda = Symbol('lmda')\n",
    "    # the d vector\n",
    "        d = np.matrix([[fun_x(guess.item(0),guess.item(1))],[fun_y(guess.item(0),guess.item(1))]]) * (-1.0)\n",
    "    # function value at x0\n",
    "        f_x0 = fun(guess.item(0),guess.item(1))\n",
    "    # The Goldstien-Armijo criteria for the lambda selection\n",
    "        rhs = f_x0 + np.dot(np.matrix([[fun_x(guess.item(0),guess.item(1)),fun_y(guess.item(0),guess.item(1))]]),d)*(alpha)*(lmda)\n",
    "        lhs = f.subs({x:guess.item(0)+lmda*d.item(0),y:guess.item(1)+lmda*d.item(1)}) \n",
    "    # solver for the lamda value from quadratic inequality\n",
    "        try:\n",
    "            lmda_value = max(solve(lhs-rhs,lmda))\n",
    "        except ValueError: \n",
    "            pass\n",
    "    \n",
    "    # compute the Xk+1 value by Xk+1 = Xk + lambda*d\n",
    "        t = guess + np.matrix(map(lambda x: x * lmda_value, d)).reshape(2,1)\n",
    "    \n",
    "    # update the guess vector\n",
    "        guess = t.copy()\n",
    "        print \"iteration:\",itr,\"lambda:\",round(lmda_value,4),\"values is :\",round(t[0],4),round(t[1],4)\n",
    "        norm = sqrt(fun_x(t.item(0),t.item(1))**2 + fun_y(t.item(0),t.item(1))**2)\n",
    "    \n",
    "    #Stopping criteria if ∥∇f (x)∥/(1 + |f (x)|) ≤ 10^(-8)\n",
    "        if norm/(1+abs(fun(t.item(0),t.item(1)))) < 10**(-8):\n",
    "            break\n",
    "        itr += 1"
   ]
  },
  {
   "cell_type": "code",
   "execution_count": 10,
   "metadata": {
    "collapsed": false
   },
   "outputs": [
    {
     "name": "stdout",
     "output_type": "stream",
     "text": [
      "iteration: 0 lambda: 0.0987 values is : 30.8943 -8.5947\n",
      "iteration: 1 lambda: 0.0721 values is : 6.7622 6.7622\n",
      "iteration: 2 lambda: 0.0987 values is : 2.0891 -0.5812\n",
      "iteration: 3 lambda: 0.0721 values is : 0.4573 0.4573\n",
      "iteration: 4 lambda: 0.0987 values is : 0.1413 -0.0393\n",
      "iteration: 5 lambda: 0.0721 values is : 0.0309 0.0309\n",
      "iteration: 6 lambda: 0.0987 values is : 0.0096 -0.0027\n",
      "iteration: 7 lambda: 0.0721 values is : 0.0021 0.0021\n",
      "iteration: 8 lambda: 0.0987 values is : 0.0006 -0.0002\n",
      "iteration: 9 lambda: 0.0987 values is : -0.0 0.0003\n",
      "iteration: 10 lambda: 0.0987 values is : 0.0001 -0.0001\n",
      "iteration: 11 lambda: 0.0987 values is : -0.0 0.0001\n",
      "iteration: 12 lambda: 0.0987 values is : 0.0 -0.0\n",
      "iteration: 13 lambda: 0.0987 values is : -0.0 0.0\n",
      "iteration: 14 lambda: 0.0641 values is : 0.0 0.0\n",
      "iteration: 15 lambda: 0.1191 values is : -0.0 0.0\n"
     ]
    }
   ],
   "source": [
    "cauchy()"
   ]
  },
  {
   "cell_type": "markdown",
   "metadata": {
    "collapsed": false
   },
   "source": [
    "**Comments on Results**:\n",
    "- Convergence criteria is:** 1000 iterations or  ∥∇f (x)∥/(1 + |f (x)|) ≤ 10^(-8),**\n",
    "- Using the initial guess as **[100,100]** approxiamated value of x is **[0.0,0.0]**\n",
    "- The algorithm converged in **15** iterations using the above guess vector\n",
    "- The computed values are cross-validates by checking plugging in these values given by the criteria defined above and checking for convergence ~0.\n",
    "\n",
    "**Comments on Method**:\n",
    "- The lambda value is calculated using the maximum of the two roots from the quadratic inequality of the Goldstein - Armijo criteria\n",
    "- Please note that the lambda value can take any value between the roots, due to the inequality(squred lambda term to the L.H.S)"
   ]
  },
  {
   "cell_type": "code",
   "execution_count": null,
   "metadata": {
    "collapsed": false
   },
   "outputs": [],
   "source": []
  },
  {
   "cell_type": "code",
   "execution_count": null,
   "metadata": {
    "collapsed": false
   },
   "outputs": [],
   "source": []
  },
  {
   "cell_type": "code",
   "execution_count": null,
   "metadata": {
    "collapsed": true
   },
   "outputs": [],
   "source": []
  }
 ],
 "metadata": {
  "kernelspec": {
   "display_name": "Python 2",
   "language": "python",
   "name": "python2"
  },
  "language_info": {
   "codemirror_mode": {
    "name": "ipython",
    "version": 2
   },
   "file_extension": ".py",
   "mimetype": "text/x-python",
   "name": "python",
   "nbconvert_exporter": "python",
   "pygments_lexer": "ipython2",
   "version": "2.7.10"
  }
 },
 "nbformat": 4,
 "nbformat_minor": 0
}
