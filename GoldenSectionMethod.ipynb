{
 "cells": [
  {
   "cell_type": "markdown",
   "metadata": {},
   "source": [
    "**Golden Section Method**"
   ]
  },
  {
   "cell_type": "markdown",
   "metadata": {},
   "source": [
    "Approximate the minimum value of the function : \n",
    "\\begin{equation}\n",
    "  f(x) = exp(-x) + x^2\n",
    "\\end{equation}\n"
   ]
  },
  {
   "cell_type": "code",
   "execution_count": 2,
   "metadata": {
    "collapsed": true
   },
   "outputs": [],
   "source": [
    "# Import Libraries and setting the Golden ratio value\n",
    "import math\n",
    "R  = ((5 ** 0.5) - 1) / 2\n",
    "import numpy as np"
   ]
  },
  {
   "cell_type": "code",
   "execution_count": 4,
   "metadata": {
    "collapsed": false
   },
   "outputs": [],
   "source": [
    "# function definition\n",
    "def fun(x): return math.exp(-x) + x**2\n",
    "\n",
    "#method to compute the minima by golden section \n",
    "def Golden_section(lb,ub,tol):\n",
    "    iteration = 0          # counter to count the number of iterations \n",
    "    x1 = ub - ((ub-lb)*R)  # setting the x1 point by  golden ratio value property\n",
    "    x2 = lb + ((ub-lb)*R)  # setting the x2 point by  golden ratio value property\n",
    "    f1 = fun(x1)           \n",
    "    f2 = fun(x2)\n",
    "    print \"Starting with Upper and Lower Bound \",ub,lb\n",
    "    while (abs(ub-lb) > tol): #loop to check for the tolerance\n",
    "        iteration += 1       \n",
    "        if f1 < f2:           #condition to check for the location of minima, to the left\n",
    "            ub = x2\n",
    "            print round(ub,5),round(lb,5)\n",
    "            x2 = x1           # set the values accordingly\n",
    "            f2 = f1\n",
    "            x1 = ub - ((ub-lb)*R)\n",
    "            f1 = fun(x1)\n",
    "        else:\n",
    "            lb = x1           #condition otherwise\n",
    "            print round(ub,5),round(lb,5)\n",
    "            x1 = x2\n",
    "            f1 = f2\n",
    "            x2 = lb + ((ub-lb)*R)\n",
    "            f2 = fun(x2)\n",
    "\n",
    "    print \"\\nConverged after %g iterations \\nPoint is : \"%iteration,round(.5*(ub+lb),6)"
   ]
  },
  {
   "cell_type": "code",
   "execution_count": 5,
   "metadata": {
    "collapsed": false
   },
   "outputs": [
    {
     "name": "stdout",
     "output_type": "stream",
     "text": [
      "Starting with Upper and Lower Bound  100 -100\n",
      "100.0 -23.6068\n",
      "52.7864 -23.6068\n",
      "23.6068 -23.6068\n",
      "23.6068 -5.57281\n",
      "12.46118 -5.57281\n",
      "5.57281 -5.57281\n",
      "5.57281 -1.31556\n",
      "2.94169 -1.31556\n",
      "1.31556 -1.31556\n",
      "1.31556 -0.31056\n",
      "0.69444 -0.31056\n",
      "0.69444 0.07331\n",
      "0.45719 0.07331\n",
      "0.45719 0.21994\n",
      "0.45719 0.31056\n",
      "0.40118 0.31056\n",
      "0.36657 0.31056\n",
      "0.36657 0.33195\n",
      "0.36657 0.34518\n",
      "0.3584 0.34518\n",
      "0.35335 0.34518\n",
      "0.35335 0.3483\n",
      "0.35335 0.35023\n",
      "0.35216 0.35023\n",
      "0.35216 0.35096\n",
      "0.35216 0.35142\n",
      "\n",
      "Converged after 26 iterations \n",
      "Point is :  0.351787\n"
     ]
    }
   ],
   "source": [
    "Golden_section(-100,100,.001)"
   ]
  },
  {
   "cell_type": "markdown",
   "metadata": {},
   "source": [
    "Comments on Result:\n",
    "- The tolerance for the convergence is set to be **0.001**\n",
    "- The upper bound is **100** and the lower bound is **-100**\n",
    "- Using the above values, the golden section implementation converged after **26** iterations.\n",
    "- Therefore, the point of minima is **0.351787**"
   ]
  },
  {
   "cell_type": "code",
   "execution_count": null,
   "metadata": {
    "collapsed": true
   },
   "outputs": [],
   "source": []
  }
 ],
 "metadata": {
  "kernelspec": {
   "display_name": "Python 2",
   "language": "python",
   "name": "python2"
  },
  "language_info": {
   "codemirror_mode": {
    "name": "ipython",
    "version": 2
   },
   "file_extension": ".py",
   "mimetype": "text/x-python",
   "name": "python",
   "nbconvert_exporter": "python",
   "pygments_lexer": "ipython2",
   "version": "2.7.6"
  }
 },
 "nbformat": 4,
 "nbformat_minor": 0
}
