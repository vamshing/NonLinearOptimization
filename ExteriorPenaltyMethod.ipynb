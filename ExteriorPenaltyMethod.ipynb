{
 "cells": [
  {
   "cell_type": "markdown",
   "metadata": {},
   "source": [
    "##  Exterior Penalty Method:"
   ]
  },
  {
   "cell_type": "markdown",
   "metadata": {},
   "source": [
    "\\\\begin{equation}\n",
    "min \\ f(x),\\ f(x) = x_1^2 + x_2^2 - 6x_1 - 8x_2 + 10\n",
    "\\\\end{equation}"
   ]
  },
  {
   "cell_type": "markdown",
   "metadata": {},
   "source": [
    "\\\\begin{equation}\n",
    "constraints \\   4x_1^2 + x_2^2 <= 16 \\\n",
    "\\ 3x_1 + 5x_2 <= 4 \\\n",
    "\\ x_1,x_2 >= 0 \\\n",
    "\\\\end{equation}"
   ]
  },
  {
   "cell_type": "code",
   "execution_count": 1,
   "metadata": {
    "collapsed": false
   },
   "outputs": [],
   "source": [
    "import numpy as np\n",
    "from sympy import *\n",
    "import math\n",
    "import scipy"
   ]
  },
  {
   "cell_type": "code",
   "execution_count": 3,
   "metadata": {
    "collapsed": false
   },
   "outputs": [],
   "source": [
    "def function():\n",
    "    x, y=symbols('x y',real=True)\n",
    "    return x**2 + y**2 - 6*x - 8*y + 10\n",
    "\n",
    "def constratints():\n",
    "    x, y=symbols('x y',real=True)\n",
    "    g1 = 4*x**2 + y**2 - 16\n",
    "    g2 = 3*x + 5*y - 4\n",
    "    return g1,g2\n",
    "\n",
    "def penalized_function(mu,g1,g2):\n",
    "    return function() + mu * (g1**2 + g2**2)\n"
   ]
  },
  {
   "cell_type": "code",
   "execution_count": 4,
   "metadata": {
    "collapsed": false,
    "scrolled": true
   },
   "outputs": [
    {
     "name": "stdout",
     "output_type": "stream",
     "text": [
      "iteration 0 Mu:  1 x1 x2 =  0.857142857 0.428571429 f(x1,x2):  2.346938776\n",
      "iteration 1 Mu:  10 x1 x2 =  0.80058651 0.33431085 f(x1,x2):  3.27469664\n",
      "iteration 2 Mu:  100 x1 x2 =  0.794766245 0.324610409 f(x1,x2):  3.371544561\n",
      "iteration 3 Mu:  1000 x1 x2 =  0.794182524 0.32363754 f(x1,x2):  3.381271674\n",
      "iteration 4 Mu:  10000 x1 x2 =  0.794124135 0.323540225 f(x1,x2):  3.38224481\n",
      "iteration 5 Mu:  100000 x1 x2 =  0.794118296 0.323530493 f(x1,x2):  3.382342128\n",
      "iteration 6 Mu:  1000000 x1 x2 =  0.794117712 0.32352952 f(x1,x2):  3.38235186\n",
      "iteration 7 Mu:  10000000 x1 x2 =  0.794117654 0.323529423 f(x1,x2):  3.382352833\n",
      "iteration 8 Mu:  100000000 x1 x2 =  0.794117648 0.323529413 f(x1,x2):  3.38235293\n",
      "iteration 9 Mu:  1000000000 x1 x2 =  0.794117647 0.323529412 f(x1,x2):  3.38235294\n",
      "iteration 10 Mu:  10000000000 x1 x2 =  0.794117647 0.323529412 f(x1,x2):  3.382352941\n",
      "iteration 11 Mu:  100000000000 x1 x2 =  0.794117647 0.323529412 f(x1,x2):  3.382352941\n",
      "iteration 12 Mu:  1000000000000 x1 x2 =  0.794117647 0.323529412 f(x1,x2):  3.382352941\n",
      "iteration 13 Mu:  10000000000000 x1 x2 =  0.794117647 0.323529412 f(x1,x2):  3.382352941\n",
      "iteration 14 Mu:  100000000000000 x1 x2 =  0.794117647 0.323529412 f(x1,x2):  3.382352941\n",
      "iteration 15 Mu:  1000000000000000 x1 x2 =  0.794117648 0.323529411 f(x1,x2):  3.382352941\n",
      "iteration 16 Mu:  10000000000000000 x1 x2 =  0.794117655 0.323529407 f(x1,x2):  3.382352941\n",
      "Constraints Satisfied at iteration:  17\n",
      "Final Solution is :\n",
      "Mu:  100000000000000000 x1 x2 =  0.794117655 0.323529407 f(x1,x2):  3.382352941\n"
     ]
    }
   ],
   "source": [
    "x,y=symbols('x y',real=True)\n",
    "g1,g2 = constratints()\n",
    "soln = np.array(nsolve([diff(penalized_function(1,g1,g2),x),diff(penalized_function(1,g1,g2),y)],[x,y],[0,0]))\n",
    "function_value = function().subs({x:soln[0],y:soln[1]})\n",
    "\n",
    "for k in range(20):\n",
    "    if (g1.subs({x:soln[0],y:soln[1]}) <= 0) and (g2.subs({x:soln[0],y:soln[1]}) > 0):\n",
    "        F = penalized_function(10**k,0,g2)\n",
    "        soln = np.array(nsolve([diff(penalized_function(10**k,0,g2),x),diff(penalized_function(10**k,0,g2),y)],[x,y],[0,0]))\n",
    "        function_value = function().subs({x:soln[0],y:soln[1]})\n",
    "        print 'iteration',k,'Mu: ',10**k,'x1 x2 = ',round(soln[0],9),round(soln[1],9),'f(x1,x2): ',round(function_value,9)\n",
    "    elif (g1.subs({x:soln[0],y:soln[1]}) > 0) and (g2.subs({x:soln[0],y:soln[1]}) <= 0):\n",
    "        F = penalized_function(10**k,g1,0)\n",
    "        soln = np.array(nsolve([diff(penalized_function(10**k,g1,0),x),diff(penalized_function(10**k,g1,0),y)],[x,y],[0,0]))\n",
    "        function_value = function().subs({x:soln[0],y:soln[1]})\n",
    "        print 'iteration',k,'Mu: ',10**k,'x1 x2 = ',round(soln[0],9),round(soln[1],9),'f(x1,x2): ',round(function_value,9)\n",
    "    else:\n",
    "        print 'Constraints Satisfied at iteration: ',k\n",
    "        print 'Final Solution is :'\n",
    "        print 'Mu: ',10**k,'x1 x2 = ',round(soln[0],9),round(soln[1],9),'f(x1,x2): ',round(function_value,9)\n",
    "        break"
   ]
  },
  {
   "cell_type": "code",
   "execution_count": null,
   "metadata": {
    "collapsed": true
   },
   "outputs": [],
   "source": []
  }
 ],
 "metadata": {
  "kernelspec": {
   "display_name": "Python 2",
   "language": "python",
   "name": "python2"
  },
  "language_info": {
   "codemirror_mode": {
    "name": "ipython",
    "version": 2
   },
   "file_extension": ".py",
   "mimetype": "text/x-python",
   "name": "python",
   "nbconvert_exporter": "python",
   "pygments_lexer": "ipython2",
   "version": "2.7.10"
  }
 },
 "nbformat": 4,
 "nbformat_minor": 0
}
