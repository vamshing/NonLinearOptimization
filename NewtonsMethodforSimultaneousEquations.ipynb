{
 "cells": [
  {
   "cell_type": "markdown",
   "metadata": {},
   "source": [
    "Newtons Method for solving simultaneous equations: \n",
    "\\begin{equation}\n",
    "  f(x,y) = 3xy + 7x + 2y - 3 \\\\\n",
    "  g(x,y) = 5xy - 9x - 4y + 6\n",
    "\\end{equation}"
   ]
  },
  {
   "cell_type": "markdown",
   "metadata": {},
   "source": [
    "Result and Comments:\n",
    "- The tolerance vector for the convergence is set to be **0.000001**\n",
    "- Using the initial guess as **[-2,-2]** approxiamated value of x is **[0.693548,-0.454545]**\n",
    "- The algorithm converged in **7** iterations using the above guess vector\n",
    "- The computed values are cross-validates by checking plugging in these values and and checking for convergence ~0."
   ]
  },
  {
   "cell_type": "markdown",
   "metadata": {},
   "source": [
    "### Implementation"
   ]
  },
  {
   "cell_type": "code",
   "execution_count": 5,
   "metadata": {
    "collapsed": false
   },
   "outputs": [
    {
     "name": "stdout",
     "output_type": "stream",
     "text": [
      "Iteration :1 the guess vector is: -0.314286 2.385714\n",
      "Iteration :2 the guess vector is: -0.07471 1.710546\n",
      "Iteration :3 the guess vector is: -0.006621 1.51866\n",
      "Iteration :4 the guess vector is: -6.2e-05 1.500175\n",
      "Iteration :5 the guess vector is: -0.0 1.5\n",
      "Iteration :6 the guess vector is: -0.0 1.5\n",
      "\n",
      "The function value has converged! -0.0 0.0\n"
     ]
    }
   ],
   "source": [
    "import numpy as np\n",
    "import math\n",
    "from sympy import symbols, diff\n",
    "def f1(x,y): #function 1\n",
    "    return 3*x*y + 7*x + 2*y - 3\n",
    "def f2(x,y): #function 2\n",
    "    return 5*x*y - 9*x - 4*y + 6\n",
    "def f1_x(x,y): #derivatives wrt x\n",
    "    return 3*y + 7\n",
    "def f1_y(x,y): #derivatives wrt y\n",
    "    return 3*x + 2\n",
    "def f2_x(x,y): #derivatives wrt x\n",
    "    return 5*y - 9\n",
    "def f2_y(x,y): #derivatives wrt x\n",
    "    return 5*x - 4\n",
    "def newton_equation(f1,f2,guess):\n",
    "    iteration = 0\n",
    "    while True:\n",
    "        iteration += 1 #compute the matrix of derivatives in Dx\n",
    "        Dx = np.matrix([[f1_x(guess.item(0),guess.item(1)),f1_y(guess.item(0),guess.item(1))],[f2_x(guess.item(0),guess.item(1)),f2_y(guess.item(0),guess.item(1))]])\n",
    "        Dx_inv = np.linalg.inv(Dx)    # inverse of the derivative matrix Dx               \n",
    "        function_vector = np.matrix([[f1(guess.item(0),guess.item(1))],[f2(guess.item(0),guess.item(1))]])\n",
    "        #function vector\n",
    "        t = guess - np.dot(Dx_inv,function_vector) # new vector \n",
    "        function_vector1 = np.matrix([[f1(t.item(0),t.item(1))],[f2(t.item(0),t.item(1))]])\n",
    "        #function value at new vector\n",
    "        print \"Iteration :%g the guess vector is:\"%iteration,round(t.item(0),6),round(t.item(1),6)\n",
    "        if (abs(function_vector1.item(0)) < 0.00000000001 and abs(function_vector1.item(1)) < 0.00000000001):\n",
    "            break\n",
    "        guess = t #re-initialzing the guess vector to the computed value of current vector\n",
    "    print \"\\nThe function value has converged!\",round(function_vector1.item(0)),round(function_vector1.item(1))\n",
    "guess = np.matrix([[2],[2]])\n",
    "newton_equation(f1,f2,guess)             "
   ]
  },
  {
   "cell_type": "code",
   "execution_count": null,
   "metadata": {
    "collapsed": true
   },
   "outputs": [],
   "source": []
  }
 ],
 "metadata": {
  "kernelspec": {
   "display_name": "Python 2",
   "language": "python",
   "name": "python2"
  },
  "language_info": {
   "codemirror_mode": {
    "name": "ipython",
    "version": 2
   },
   "file_extension": ".py",
   "mimetype": "text/x-python",
   "name": "python",
   "nbconvert_exporter": "python",
   "pygments_lexer": "ipython2",
   "version": "2.7.10"
  }
 },
 "nbformat": 4,
 "nbformat_minor": 0
}
