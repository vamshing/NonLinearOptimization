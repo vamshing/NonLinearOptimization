{
 "cells": [
  {
   "cell_type": "markdown",
   "metadata": {},
   "source": [
    "##  Quasi_Newton_BFGS Method:"
   ]
  },
  {
   "cell_type": "markdown",
   "metadata": {},
   "source": [
    "***Minimize***"
   ]
  },
  {
   "cell_type": "markdown",
   "metadata": {},
   "source": [
    "\n",
    "\n",
    "(i) $min \\ f(x),\\ f(x) = x_1^2 + 2x_2^2 - 2x_1x_2 - 2x_2 , x_0 = (0,0)^T$\n",
    "\n",
    "(ii) $min \\ f(x),\\ f(x) = (x_1-1)^2 + (x_2-1)^2 + c(x_1^2 + x_2^2 - 0.25)^2 , x_0 = (1,-1)^T$"
   ]
  },
  {
   "cell_type": "code",
   "execution_count": 54,
   "metadata": {
    "collapsed": true
   },
   "outputs": [],
   "source": [
    "import math\n",
    "import numpy as np\n",
    "from sympy import *"
   ]
  },
  {
   "cell_type": "markdown",
   "metadata": {},
   "source": [
    "**Initializing the vectors**"
   ]
  },
  {
   "cell_type": "code",
   "execution_count": 65,
   "metadata": {
    "collapsed": false
   },
   "outputs": [],
   "source": [
    "x,y,z=symbols('x y z')\n",
    "\n",
    "f1 = (x)**2 + 2*(y)**2 - 2*x* y - 2*y + z*0.0\n",
    "f2 = f = (x-1)**2 + (y-1)**2 + z*(x**2 + y**2 - 0.25)**2\n",
    "\n",
    "x01 = np.matrix([[0],[0]])\n",
    "x02 = np.matrix([[1],[-1]])\n",
    "\n",
    "#J = np.matrix(np.identity(len(x0)))"
   ]
  },
  {
   "cell_type": "code",
   "execution_count": 66,
   "metadata": {
    "collapsed": false
   },
   "outputs": [],
   "source": [
    "#function Block\n",
    "\n",
    "def func(f,a,b,c):\n",
    "    x,y=symbols('x y')\n",
    "    return f.subs({x:a,y:b})\n",
    "\n",
    "def derv_x(f,a,b,c):\n",
    "    x,y,z=symbols('x y z')\n",
    "    return diff(f,x).subs({x:a,y:b,z:c})\n",
    "    \n",
    "def derv_y(f,a,b,c):\n",
    "    x,y,z=symbols('x y z')\n",
    "    return diff(f,y).subs({x:a,y:b,z:c})    \n",
    "\n",
    "def grad_vector(f,x0,c):\n",
    "    return np.matrix([derv_x(f,x0[0],x0[1],c),derv_y(f,x0[0],x0[1],c)])\n",
    "\n",
    "def grad_vector1(f,x,c):\n",
    "    return np.matrix([[derv_x(f,x.item(0),x.item(1),c)],[derv_y(f,x.item(0),x.item(1),c)]])"
   ]
  },
  {
   "cell_type": "code",
   "execution_count": 67,
   "metadata": {
    "collapsed": false
   },
   "outputs": [
    {
     "data": {
      "text/plain": [
       "matrix([[0],\n",
       "        [-2]], dtype=object)"
      ]
     },
     "execution_count": 67,
     "metadata": {},
     "output_type": "execute_result"
    }
   ],
   "source": [
    "grad_vector1(f1,x01,10) # gradient vector at x0 - guess vector"
   ]
  },
  {
   "cell_type": "code",
   "execution_count": null,
   "metadata": {
    "collapsed": false
   },
   "outputs": [],
   "source": []
  },
  {
   "cell_type": "markdown",
   "metadata": {},
   "source": [
    "## Only workspace"
   ]
  },
  {
   "cell_type": "code",
   "execution_count": 72,
   "metadata": {
    "collapsed": false
   },
   "outputs": [
    {
     "ename": "TypeError",
     "evalue": "unsupported operand type(s) for *: 'matrix' and 'Symbol'",
     "output_type": "error",
     "traceback": [
      "\u001b[0;31m---------------------------------------------------------------------------\u001b[0m",
      "\u001b[0;31mTypeError\u001b[0m                                 Traceback (most recent call last)",
      "\u001b[0;32m<ipython-input-72-726efb7bc000>\u001b[0m in \u001b[0;36m<module>\u001b[0;34m()\u001b[0m\n\u001b[1;32m      4\u001b[0m \u001b[0md0\u001b[0m \u001b[0;34m=\u001b[0m \u001b[0mgrad_vector1\u001b[0m\u001b[0;34m(\u001b[0m\u001b[0mf1\u001b[0m\u001b[0;34m,\u001b[0m\u001b[0mx01\u001b[0m\u001b[0;34m,\u001b[0m\u001b[0mc\u001b[0m\u001b[0;34m)\u001b[0m \u001b[0;34m*\u001b[0m \u001b[0;34m(\u001b[0m\u001b[0;34m-\u001b[0m\u001b[0;36m1\u001b[0m\u001b[0;34m)\u001b[0m\u001b[0;34m\u001b[0m\u001b[0m\n\u001b[1;32m      5\u001b[0m \u001b[0malpha\u001b[0m \u001b[0;34m=\u001b[0m \u001b[0;36m10\u001b[0m\u001b[0;34m**\u001b[0m\u001b[0;34m-\u001b[0m\u001b[0;36m4\u001b[0m\u001b[0;34m\u001b[0m\u001b[0m\n\u001b[0;32m----> 6\u001b[0;31m \u001b[0mlmda0\u001b[0m \u001b[0;34m=\u001b[0m \u001b[0mgoldstein_armijo1\u001b[0m\u001b[0;34m(\u001b[0m\u001b[0mf1\u001b[0m\u001b[0;34m,\u001b[0m\u001b[0mx01\u001b[0m\u001b[0;34m,\u001b[0m\u001b[0md0\u001b[0m\u001b[0;34m,\u001b[0m\u001b[0;36m10\u001b[0m\u001b[0;34m,\u001b[0m\u001b[0maplha\u001b[0m \u001b[0;34m=\u001b[0m \u001b[0;36m10\u001b[0m\u001b[0;34m**\u001b[0m\u001b[0;34m-\u001b[0m\u001b[0;36m4\u001b[0m\u001b[0;34m)\u001b[0m\u001b[0;34m\u001b[0m\u001b[0m\n\u001b[0m\u001b[1;32m      7\u001b[0m \u001b[0ms0\u001b[0m \u001b[0;34m=\u001b[0m  \u001b[0md0\u001b[0m \u001b[0;34m*\u001b[0m \u001b[0mfloat\u001b[0m\u001b[0;34m(\u001b[0m\u001b[0mlmda0\u001b[0m\u001b[0;34m)\u001b[0m\u001b[0;34m\u001b[0m\u001b[0m\n\u001b[1;32m      8\u001b[0m \u001b[0;34m\u001b[0m\u001b[0m\n",
      "\u001b[0;32m<ipython-input-71-cf879d600d8e>\u001b[0m in \u001b[0;36mgoldstein_armijo1\u001b[0;34m(f, x, d, c, aplha)\u001b[0m\n\u001b[1;32m     19\u001b[0m     \u001b[0mf_x0\u001b[0m \u001b[0;34m=\u001b[0m \u001b[0mfunc\u001b[0m\u001b[0;34m(\u001b[0m\u001b[0mf\u001b[0m\u001b[0;34m,\u001b[0m\u001b[0mx\u001b[0m\u001b[0;34m.\u001b[0m\u001b[0mitem\u001b[0m\u001b[0;34m(\u001b[0m\u001b[0;36m0\u001b[0m\u001b[0;34m)\u001b[0m\u001b[0;34m,\u001b[0m\u001b[0mx\u001b[0m\u001b[0;34m.\u001b[0m\u001b[0mitem\u001b[0m\u001b[0;34m(\u001b[0m\u001b[0;36m1\u001b[0m\u001b[0;34m)\u001b[0m\u001b[0;34m,\u001b[0m\u001b[0mc\u001b[0m\u001b[0;34m)\u001b[0m\u001b[0;34m\u001b[0m\u001b[0m\n\u001b[1;32m     20\u001b[0m         \u001b[0;31m# The Goldstien-Armijo criteria for the lambda selection\u001b[0m\u001b[0;34m\u001b[0m\u001b[0;34m\u001b[0m\u001b[0m\n\u001b[0;32m---> 21\u001b[0;31m     \u001b[0mrhs\u001b[0m \u001b[0;34m=\u001b[0m \u001b[0mf_x0\u001b[0m \u001b[0;34m+\u001b[0m \u001b[0mnp\u001b[0m\u001b[0;34m.\u001b[0m\u001b[0mdot\u001b[0m\u001b[0;34m(\u001b[0m\u001b[0mgrad_vector1\u001b[0m\u001b[0;34m(\u001b[0m\u001b[0mf\u001b[0m\u001b[0;34m,\u001b[0m\u001b[0mx\u001b[0m\u001b[0;34m,\u001b[0m\u001b[0mc\u001b[0m\u001b[0;34m)\u001b[0m\u001b[0;34m,\u001b[0m\u001b[0md\u001b[0m\u001b[0;34m.\u001b[0m\u001b[0mT\u001b[0m\u001b[0;34m)\u001b[0m \u001b[0;34m*\u001b[0m \u001b[0;34m(\u001b[0m\u001b[0malpha\u001b[0m\u001b[0;34m)\u001b[0m\u001b[0;34m*\u001b[0m\u001b[0;34m(\u001b[0m\u001b[0mlmda\u001b[0m\u001b[0;34m)\u001b[0m\u001b[0;34m\u001b[0m\u001b[0m\n\u001b[0m\u001b[1;32m     22\u001b[0m     \u001b[0mlhs\u001b[0m \u001b[0;34m=\u001b[0m \u001b[0mfunc\u001b[0m\u001b[0;34m(\u001b[0m\u001b[0mf\u001b[0m\u001b[0;34m,\u001b[0m\u001b[0mx\u001b[0m\u001b[0;34m.\u001b[0m\u001b[0mitem\u001b[0m\u001b[0;34m(\u001b[0m\u001b[0;36m0\u001b[0m\u001b[0;34m)\u001b[0m \u001b[0;34m+\u001b[0m \u001b[0mlmda\u001b[0m\u001b[0;34m*\u001b[0m\u001b[0md\u001b[0m\u001b[0;34m.\u001b[0m\u001b[0mitem\u001b[0m\u001b[0;34m(\u001b[0m\u001b[0;36m0\u001b[0m\u001b[0;34m)\u001b[0m\u001b[0;34m,\u001b[0m\u001b[0mx\u001b[0m\u001b[0;34m.\u001b[0m\u001b[0mitem\u001b[0m\u001b[0;34m(\u001b[0m\u001b[0;36m1\u001b[0m\u001b[0;34m)\u001b[0m \u001b[0;34m+\u001b[0m \u001b[0mlmda\u001b[0m\u001b[0;34m*\u001b[0m\u001b[0md\u001b[0m\u001b[0;34m.\u001b[0m\u001b[0mitem\u001b[0m\u001b[0;34m(\u001b[0m\u001b[0;36m1\u001b[0m\u001b[0;34m)\u001b[0m\u001b[0;34m,\u001b[0m\u001b[0mc\u001b[0m\u001b[0;34m)\u001b[0m\u001b[0;34m\u001b[0m\u001b[0m\n\u001b[1;32m     23\u001b[0m         \u001b[0;31m# solver for the lamda value from quadratic inequality\u001b[0m\u001b[0;34m\u001b[0m\u001b[0;34m\u001b[0m\u001b[0m\n",
      "\u001b[0;31mTypeError\u001b[0m: unsupported operand type(s) for *: 'matrix' and 'Symbol'"
     ]
    }
   ],
   "source": [
    "c = 10\n",
    "# stage - 0\n",
    "J0 = np.matrix(np.identity(2))\n",
    "d0 = grad_vector1(f1,x01,c) * (-1)\n",
    "alpha = 10**-4\n",
    "lmda0 = goldstein_armijo1(f1,x01,d0,10,aplha = 10**-4)\n",
    "s0 =  d0 * float(lmda0)\n",
    "    \n",
    "    #stage - 1\n",
    "x1 = np.matrix(x01) + s0\n",
    "y0 = grad_vector1(f1,x1,c) - grad_vector1(f,x01,c) \n",
    "v0 = np.dot(s0,J0.T) *  math.sqrt((np.dot(s0,y0.T)/np.dot(np.dot(s0,J0),np.dot(J0.T,s0.T))).item(0))\n",
    "J1 = J0 + (np.dot((v0 - np.dot(y0,J0.T)),(s0 - np.dot(v0,J0)).T)).item(0)/(np.dot(v0,(v0 - np.dot(y0,J0.T)).T)).item(0)"
   ]
  },
  {
   "cell_type": "code",
   "execution_count": 69,
   "metadata": {
    "collapsed": false
   },
   "outputs": [
    {
     "data": {
      "text/plain": [
       "matrix([[0],\n",
       "        [2]], dtype=object)"
      ]
     },
     "execution_count": 69,
     "metadata": {},
     "output_type": "execute_result"
    }
   ],
   "source": [
    "d0"
   ]
  },
  {
   "cell_type": "code",
   "execution_count": 71,
   "metadata": {
    "collapsed": true
   },
   "outputs": [],
   "source": [
    "def goldstein_armijo(f,x,d,c,aplha = 10**-4):\n",
    "#compute the lamda value by line search\n",
    "    lmda = Symbol('lmda',real = True)\n",
    "        # function value at x0\n",
    "    f_x0 = func(f,x[0],x[1],c)\n",
    "        # The Goldstien-Armijo criteria for the lambda selection\n",
    "    rhs = f_x0 +  (alpha)*(lmda)* np.dot(grad_vector(f,x,c),d.T) \n",
    "    lhs = func(f,x[0] + lmda*d.item(0),x[1] + lmda*d.item(1),c)\n",
    "        # solver for the lamda value from quadratic inequality\n",
    "    try:\n",
    "        return max(solve(lhs-rhs,lmda))\n",
    "    except ValueError: \n",
    "        pass\n",
    "        \n",
    "def goldstein_armijo1(f,x,d,c,aplha = 10**-4):\n",
    "        #compute the lamda value by line search\n",
    "    lmda = Symbol('lmda',real = True)\n",
    "        # function value at x0\n",
    "    f_x0 = func(f,x.item(0),x.item(1),c)\n",
    "        # The Goldstien-Armijo criteria for the lambda selection\n",
    "    rhs = f_x0 + np.dot(grad_vector1(f,x,c),d.T) * (alpha)*(lmda)\n",
    "    lhs = func(f,x.item(0) + lmda*d.item(0),x.item(1) + lmda*d.item(1),c)\n",
    "        # solver for the lamda value from quadratic inequality\n",
    "    try:\n",
    "        return max(solve(lhs-rhs,lmda))\n",
    "    except ValueError: \n",
    "        pass\n",
    "        "
   ]
  },
  {
   "cell_type": "code",
   "execution_count": null,
   "metadata": {
    "collapsed": false
   },
   "outputs": [],
   "source": [
    "        \n",
    "#   Iterations:   \n",
    "x0 = x1\n",
    "for i in xrange(1000):\n",
    "        \n",
    "    d = np.dot(grad_vector1(f1,x1,c),np.dot(J1,J1.T) * (-1))\n",
    "    lmda = goldstein_armijo1(f1,x1,d,c,aplha = 10**-4)\n",
    "    s = d * float(lmda)\n",
    "    x = x1 + s\n",
    "    y = grad_vector1(f1,x,c) - grad_vector1(f,x1,c)\n",
    "    v = np.dot(s,J1.T) *  math.sqrt((np.dot(s,y.T)/np.dot(np.dot(s,J1),np.dot(J1.T,s.T))).item(0))\n",
    "    J = J1 + (np.dot((v - np.dot(y,J1.T)),(s - np.dot(v,J1)).T)).item(0)/(np.dot(v,(v - np.dot(y,J1.T)).T)).item(0)\n",
    "        \n",
    "    print \"iteration: \",i, \"x: \",x\n",
    "    norm = sqrt(derv_x(f1,x.item(0),x.item(1),10)**2 + derv_x(f1,x.item(0),x.item(1),c)**2)\n",
    "    if norm/(1+abs(func(f1,x.item(0),x.item(1),10))) < 10**(-8):\n",
    "        print \"\\nConverged Successfully in iterations :\",i\n",
    "        print \"The result of vector x:\"\n",
    "        print x\n",
    "        break\n",
    "        \n",
    "    x1 = x\n",
    "    print x"
   ]
  },
  {
   "cell_type": "code",
   "execution_count": 45,
   "metadata": {
    "collapsed": false
   },
   "outputs": [],
   "source": [
    "v0 = np.dot(s0,J0.T) *  math.sqrt((np.dot(s0,y0.T)/np.dot(np.dot(s0,J0),np.dot(J0.T,s0.T))).item(0))"
   ]
  },
  {
   "cell_type": "code",
   "execution_count": 51,
   "metadata": {
    "collapsed": false
   },
   "outputs": [
    {
     "data": {
      "text/plain": [
       "matrix([[0, 0.999900000000000]], dtype=object)"
      ]
     },
     "execution_count": 51,
     "metadata": {},
     "output_type": "execute_result"
    }
   ],
   "source": [
    "s0"
   ]
  },
  {
   "cell_type": "code",
   "execution_count": 53,
   "metadata": {
    "collapsed": false
   },
   "outputs": [
    {
     "data": {
      "text/plain": [
       "matrix([[0, 0.999900000000000]], dtype=object)"
      ]
     },
     "execution_count": 53,
     "metadata": {},
     "output_type": "execute_result"
    }
   ],
   "source": [
    "s0 * J0.T"
   ]
  },
  {
   "cell_type": "code",
   "execution_count": null,
   "metadata": {
    "collapsed": false
   },
   "outputs": [],
   "source": []
  },
  {
   "cell_type": "markdown",
   "metadata": {},
   "source": [
    "**10 Iterations**"
   ]
  },
  {
   "cell_type": "code",
   "execution_count": null,
   "metadata": {
    "collapsed": false
   },
   "outputs": [],
   "source": [
    "non_linear_conjugate_gradient(x0, tol = 1.0e-8, max_iter = 10)"
   ]
  },
  {
   "cell_type": "markdown",
   "metadata": {},
   "source": [
    "**2 Iterations**"
   ]
  },
  {
   "cell_type": "code",
   "execution_count": null,
   "metadata": {
    "collapsed": false
   },
   "outputs": [],
   "source": [
    "non_linear_conjugate_gradient(x0, tol = 1.0e-8, max_iter = 2)"
   ]
  },
  {
   "cell_type": "markdown",
   "metadata": {
    "collapsed": false
   },
   "source": [
    "**Comments on Results**:\n",
    "- No. of Iterations :** 10 iterations**\n",
    "- Using the initial guess as **[1,1,1,1]** approxiamated value of x is **[1.106, 0.744, 0.61,0.55]**\n",
    "\n",
    "- After **2 iterations**, the value of **r(i) = 0.8224**,value of x is **[1.089, 0.764, 0.667,0.631]**\n",
    "\n",
    "\n",
    "**Comments on Method**:\n",
    "- The evaluation of the non - linear function is done using n = 4.\n",
    "- The alpha value is chosen to be **0.5**\n",
    "- The lambda value is calculated using the maximum of the two roots from the quadratic inequality of the Goldstein - Armijo criteria.\n",
    "- Please note that the lambda value can take any value between the roots, due to the inequality( lambda term to the L.H.S)\n"
   ]
  },
  {
   "cell_type": "code",
   "execution_count": null,
   "metadata": {
    "collapsed": false
   },
   "outputs": [],
   "source": []
  },
  {
   "cell_type": "code",
   "execution_count": null,
   "metadata": {
    "collapsed": false
   },
   "outputs": [],
   "source": []
  },
  {
   "cell_type": "code",
   "execution_count": null,
   "metadata": {
    "collapsed": false
   },
   "outputs": [],
   "source": []
  },
  {
   "cell_type": "code",
   "execution_count": null,
   "metadata": {
    "collapsed": true
   },
   "outputs": [],
   "source": []
  },
  {
   "cell_type": "code",
   "execution_count": null,
   "metadata": {
    "collapsed": true
   },
   "outputs": [],
   "source": []
  }
 ],
 "metadata": {
  "kernelspec": {
   "display_name": "Python 2",
   "language": "python",
   "name": "python2"
  },
  "language_info": {
   "codemirror_mode": {
    "name": "ipython",
    "version": 2
   },
   "file_extension": ".py",
   "mimetype": "text/x-python",
   "name": "python",
   "nbconvert_exporter": "python",
   "pygments_lexer": "ipython2",
   "version": "2.7.10"
  }
 },
 "nbformat": 4,
 "nbformat_minor": 0
}
