{
 "cells": [
  {
   "cell_type": "markdown",
   "metadata": {},
   "source": [
    "## OR 506: HomeWork-3\n",
    "**Created in iPython Notebook by Guduguntla Vamshi <gudugu@ncsu.edu>**"
   ]
  },
  {
   "cell_type": "markdown",
   "metadata": {},
   "source": [
    "**1.**Find a diagonal matrix E so that \\begin{equation} A + E = LDL^{T}  \\end{equation} and,\n",
    "D, a diagonal matrix with positive diagonal entries, \n",
    "L a lower triangular matrix.\n",
    "\n",
    "\\begin{eqnarray}\n",
    "\\ A = \\begin{pmatrix}\n",
    "1 & 4 & 3 \\\\\n",
    "4 & 2 & 5 \\\\\n",
    "3 & 5 & 3 \\\\\n",
    "\\end{pmatrix}\n",
    "\\end{eqnarray}"
   ]
  },
  {
   "cell_type": "markdown",
   "metadata": {},
   "source": [
    "**Solution**"
   ]
  },
  {
   "cell_type": "markdown",
   "metadata": {},
   "source": [
    "\\begin{eqnarray}\n",
    "\\ A = LDL^{T} = \\\n",
    "\\begin{pmatrix}\n",
    "I & 0 & 0 \\\\\n",
    "L_{21} & I & 0 \\\\\n",
    "L_{31} & L_{32} & I \\\\\n",
    "\\end{pmatrix}\n",
    "\\begin{pmatrix}\n",
    "D_{1} & 0 & 0 \\\\\n",
    "0 & D_{2} & 0 \\\\\n",
    "0 & 0 & D_{3} \\\\\n",
    "\\end{pmatrix}\n",
    "\\begin{pmatrix}\n",
    "I & L_{21} & L_{31} \\\\\n",
    "0 & I & L_{32} \\\\\n",
    "0 &0 & I \\\\\n",
    "\\end{pmatrix}\n",
    "\\end{eqnarray}\n",
    "\n",
    "\\begin{eqnarray}\n",
    "\\begin{pmatrix} \n",
    "D_{1} & - & - \\\\\n",
    "L_{21}.D_{1} & L_{21}.D_{1}.L_{21}^{T}+D_{2} & - \\\\\n",
    "L_{31}.D_{1} & L_{31}.D_{1}.L_{21}^{T}+L_{32}.D_{2} & L_{31}.D_{1}.L_{31}^{T}+L_{32}.D_{2}.L_{32}^{T}+D_{3} \\\\\n",
    "\\end{pmatrix}\n",
    "\\end{eqnarray}"
   ]
  },
  {
   "cell_type": "markdown",
   "metadata": {},
   "source": [
    "\\begin{eqnarray}\n",
    "\\ A = \\begin{pmatrix}\n",
    "1 & 4 & 3 \\\\\n",
    "4 & 2 & 5 \\\\\n",
    "3 & 5 & 3 \\\\\n",
    "\\end{pmatrix}\n",
    "\\ + \n",
    "\\begin{pmatrix}\n",
    "e_{1} & 0 & 0 \\\\\n",
    "0 & e_{2} & 0 \\\\\n",
    "0 & 0 & e_{3} \\\\\n",
    "\\end{pmatrix}\n",
    "= LDL^{T}\n",
    "\\end{eqnarray}\n",
    "\n",
    "\\begin{eqnarray}\n",
    "\\  = \\begin{pmatrix}\n",
    "1+e_{1} & 4 & 3 \\\\\n",
    "4 & 2+e_{2} & 5 \\\\\n",
    "3 & 5 & 3+e_{3} \\\\\n",
    "\\end{pmatrix}\n",
    "\\end{eqnarray}\n",
    "\n",
    "\\begin{eqnarray}\n",
    "\\  = \\\n",
    "\\begin{pmatrix}\n",
    "I & 0 & 0 \\\\\n",
    "L_{21} & I & 0 \\\\\n",
    "L_{31} & L_{32} & I \\\\\n",
    "\\end{pmatrix}\n",
    "\\begin{pmatrix}\n",
    "D_{1} & 0 & 0 \\\\\n",
    "0 & D_{2} & 0 \\\\\n",
    "0 & 0 & D_{3} \\\\\n",
    "\\end{pmatrix}\n",
    "\\begin{pmatrix}\n",
    "I & L_{21} & L_{31} \\\\\n",
    "0 & I & L_{32} \\\\\n",
    "0 &0 & I \\\\\n",
    "\\end{pmatrix}\n",
    "\\end{eqnarray}"
   ]
  },
  {
   "cell_type": "markdown",
   "metadata": {},
   "source": [
    "** By choosing the positive diagonal entry \\begin{eqnarray} D_{1} = 1 \\end{eqnarray} and solving the equations,**"
   ]
  },
  {
   "cell_type": "markdown",
   "metadata": {},
   "source": [
    "\\begin{eqnarray}\n",
    "L = \n",
    "\\begin{pmatrix}\n",
    "1 & 0 & 0 \\\\\n",
    "4 & 1 & 0 \\\\\n",
    "3 & -7 & 1 \\\\\n",
    "\\end{pmatrix}\n",
    "\\end{eqnarray}"
   ]
  },
  {
   "cell_type": "markdown",
   "metadata": {},
   "source": [
    "By using \n",
    "\\begin{eqnarray}\n",
    "D = \n",
    "\\begin{pmatrix}\n",
    "1 & 0 & 0 \\\\\n",
    "0 & 1 & 0 \\\\\n",
    "0 & 0 & 1 \\\\\n",
    "\\end{pmatrix}\n",
    "\\end{eqnarray}"
   ]
  },
  {
   "cell_type": "markdown",
   "metadata": {},
   "source": [
    "\\begin{eqnarray}\n",
    "E = \n",
    "\\begin{pmatrix}\n",
    "0 & 0 & 0 \\\\\n",
    "0 & 15 & 0 \\\\\n",
    "0 & 0 & 56 \\\\\n",
    "\\end{pmatrix}\n",
    "\\end{eqnarray}"
   ]
  },
  {
   "cell_type": "markdown",
   "metadata": {},
   "source": [
    "Hence,\n",
    "\\begin{eqnarray}\n",
    "A+E = \n",
    "\\begin{pmatrix}\n",
    "1 & 4 & 3 \\\\\n",
    "4 & 17 & 5 \\\\\n",
    "3 & 5 & 59 \\\\\n",
    "\\end{pmatrix}\n",
    "\\end{eqnarray}\n",
    "can be decomposed by Cholesky and LDLT"
   ]
  },
  {
   "cell_type": "markdown",
   "metadata": {},
   "source": [
    "**2.** Let\n",
    "\\begin{equation}\n",
    "f (x, y) = 2x^2 + y^2 − 2xy + 2x^3 + x^4 \\\\\n",
    "x_{0} = (0,-2)^{T} \\\\\n",
    "d_{0} = (0,1)^{T} \\\\\n",
    "\\end{equation}\n",
    "a.Verify whether \\begin{equation} d_{0} = (0,1)^{T} \\end{equation}is in the direction of descent"
   ]
  },
  {
   "cell_type": "markdown",
   "metadata": {},
   "source": [
    "Using Goldstein-Armijo Criteria:\n",
    "\\begin{equation}\n",
    "d_{0}^{T}.∇f(x_{0}) < 0 \\\\\n",
    "\\end{equation}\n"
   ]
  },
  {
   "cell_type": "markdown",
   "metadata": {},
   "source": [
    "Computing the dot product:\n",
    "\\begin{equation}\n",
    "(0,1)^{T}.∇f(x_{0}) < 0 \\\\\n",
    "(0,1)^{T}.(4x-2iy+6x^2+4x^3,2y-2x)_{x_{0}} < 0 \\\\\n",
    "(0,1)^{T}.(4x-2iy+6x^2+4x^3,2y-2x)_{0,-2} < 0 \\\\\n",
    "(0,1)^{T}.(4,-4) < 0 \\\\\n",
    "-4 < 0 \\\\\n",
    "\\end{equation}\n"
   ]
  },
  {
   "cell_type": "markdown",
   "metadata": {},
   "source": [
    "Therefore, \\begin{equation} d_{0} = (0,1)^{T} \\end{equation}is **in the direction of descent**"
   ]
  },
  {
   "cell_type": "markdown",
   "metadata": {},
   "source": [
    "**b.**\n",
    "\n",
    "i.Does λ = 1 satisfy the sufficient decrease condition for α = .5?\n",
    "\n",
    "Using Goldstein-Armijo Criteria for sufficient decrease:\n",
    "\\begin{equation}\n",
    "\\\\\n",
    "f(x_{0} + λ.d_{0}) <= f(x_{0}) + α.λ.f^1(x_{0};d_{0})  \\\\\n",
    "f(x_{0} + λ.d_{0}) <= f(x_{0}) + (0.5).(1).f^1(x_{0};d_{0})  \\\\\n",
    "f((0,-2) + 1.(0,1)) <= f(0,-2)+ (0.5).(1).f^1(x_{0};d_{0})  \\\\\n",
    "f(0,-1) <= f(0,-2)+ (0.5).(1).f^1(x_{0};d_{0})  \\\\\n",
    "f(0,-1) <= f(0,-2)+ (0.5).(1).(-4) \\\\\n",
    "1 <= 4+ (0.5).(1).(-4) \\\\\n",
    "1 <= 2 \\\\\n",
    "True \\\\\n",
    "\\end{equation}\n",
    "\n",
    "Therefore,  λ = 1 **satisfies the sufficient decrease condition** for α = 0.5\n"
   ]
  },
  {
   "cell_type": "markdown",
   "metadata": {},
   "source": [
    "ii.For what values of α does λ = 1 satisfy the sufficient decrease condition?\n",
    "\n",
    "Using Goldstein-Armijo Criteria for sufficient decrease:\n",
    "\\begin{equation}\n",
    "\\\\\n",
    "f(x_{0} + λ.d_{0}) <= f(x_{0}) + α.λ.f^1(x_{0};d_{0})  \\\\\n",
    "f(x_{0} + λ.d_{0}) <= f(x_{0}) + (α).(1).f^1(x_{0};d_{0})  \\\\\n",
    "f((0,-2) + 1.(0,1)) <= f(0,-2)+ (α).(1).f^1(x_{0};d_{0})  \\\\\n",
    "f(0,-1) <= f(0,-2)+ (α).(1).f^1(x_{0};d_{0})  \\\\\n",
    "f(0,-1) <= f(0,-2)+ (α).(1).(-4) \\\\\n",
    "1 <= 4+ (α).(1).(-4) \\\\\n",
    "**α <= 0.75** \\\\\n",
    "\\end{equation}\n",
    "\n",
    "Therefore,  for λ = 1 **α <= 0.75** satisfies the sufficient decrease condition\n"
   ]
  },
  {
   "cell_type": "markdown",
   "metadata": {},
   "source": [
    "**3.** Use Cauchy’s method of steepest descent to find the minimum of \n",
    "\\begin{equation}\n",
    "f(x,y)=5x^2 +7y^2 −3xy\n",
    "\\end{equation}"
   ]
  },
  {
   "cell_type": "markdown",
   "metadata": {},
   "source": [
    "**Results**:"
   ]
  },
  {
   "cell_type": "raw",
   "metadata": {},
   "source": [
    "iteration: 0 lambda: 0.0987 values is : 30.8943 -8.5947\n",
    "iteration: 1 lambda: 0.0721 values is : 6.7622 6.7622\n",
    "iteration: 2 lambda: 0.0987 values is : 2.0891 -0.5812\n",
    "iteration: 3 lambda: 0.0721 values is : 0.4573 0.4573\n",
    "iteration: 4 lambda: 0.0987 values is : 0.1413 -0.0393\n",
    "iteration: 5 lambda: 0.0721 values is : 0.0309 0.0309\n",
    "iteration: 6 lambda: 0.0987 values is : 0.0096 -0.0027\n",
    "iteration: 7 lambda: 0.0721 values is : 0.0021 0.0021\n",
    "iteration: 8 lambda: 0.0987 values is : 0.0006 -0.0002\n",
    "iteration: 9 lambda: 0.0987 values is : -0.0 0.0003\n",
    "iteration: 10 lambda: 0.0987 values is : 0.0001 -0.0001\n",
    "iteration: 11 lambda: 0.0987 values is : -0.0 0.0001\n",
    "iteration: 12 lambda: 0.0987 values is : 0.0 -0.0\n",
    "iteration: 13 lambda: 0.0987 values is : -0.0 0.0\n",
    "iteration: 14 lambda: 0.0641 values is : 0.0 0.0\n",
    "iteration: 15 lambda: 0.1191 values is : -0.0 0.0"
   ]
  },
  {
   "cell_type": "markdown",
   "metadata": {},
   "source": [
    "**Comments on Results**:\n",
    "- Convergence criteria is:** 1000 iterations or  ∥∇f (x)∥/(1 + |f (x)|) ≤ 10^(-8),**\n",
    "- Using the initial guess as **[100,100]** approxiamated value of x is **[0.0,0.0]**\n",
    "- The algorithm converged in **15** iterations using the above guess vector\n",
    "- The computed values are cross-validates by checking plugging in these values given by the criteria defined above and checking for convergence ~0.\n",
    "\n",
    "**Comments on Method**:\n",
    "- The lambda value is calculated using the maximum of the two roots from the quadratic inequality of the Goldstein - Armijo criteria\n",
    "- Please note that the lambda value can take any value between the roots, due to the inequality(squred lambda term to the L.H.S)"
   ]
  },
  {
   "cell_type": "markdown",
   "metadata": {},
   "source": [
    "## Implementation "
   ]
  },
  {
   "cell_type": "markdown",
   "metadata": {},
   "source": [
    "**Import Libraries**"
   ]
  },
  {
   "cell_type": "code",
   "execution_count": 17,
   "metadata": {
    "collapsed": true
   },
   "outputs": [],
   "source": [
    "import numpy as np\n",
    "from sympy import *\n",
    "import math\n",
    "import scipy"
   ]
  },
  {
   "cell_type": "markdown",
   "metadata": {},
   "source": [
    "**Define the Max Iterations and the Tolerance:**"
   ]
  },
  {
   "cell_type": "code",
   "execution_count": 18,
   "metadata": {
    "collapsed": true
   },
   "outputs": [],
   "source": [
    "itmax = 1000\n",
    "tol = 10**(-8)\n",
    "alpha = 0.5"
   ]
  },
  {
   "cell_type": "code",
   "execution_count": 19,
   "metadata": {
    "collapsed": true
   },
   "outputs": [],
   "source": [
    "# Iterations counter\n",
    "itr = 0\n",
    "# Guess Vector\n",
    "guess = np.matrix([[100],[100]])"
   ]
  },
  {
   "cell_type": "markdown",
   "metadata": {},
   "source": [
    "**Iteration **"
   ]
  },
  {
   "cell_type": "code",
   "execution_count": 16,
   "metadata": {
    "collapsed": false
   },
   "outputs": [
    {
     "name": "stdout",
     "output_type": "stream",
     "text": [
      "iteration: 0 lambda: 0.0987 values is : 30.8943 -8.5947\n",
      "iteration: 1 lambda: 0.0721 values is : 6.7622 6.7622\n",
      "iteration: 2 lambda: 0.0987 values is : 2.0891 -0.5812\n",
      "iteration: 3 lambda: 0.0721 values is : 0.4573 0.4573\n",
      "iteration: 4 lambda: 0.0987 values is : 0.1413 -0.0393\n",
      "iteration: 5 lambda: 0.0721 values is : 0.0309 0.0309\n",
      "iteration: 6 lambda: 0.0987 values is : 0.0096 -0.0027\n",
      "iteration: 7 lambda: 0.0721 values is : 0.0021 0.0021\n",
      "iteration: 8 lambda: 0.0987 values is : 0.0006 -0.0002\n",
      "iteration: 9 lambda: 0.0987 values is : -0.0 0.0003\n",
      "iteration: 10 lambda: 0.0987 values is : 0.0001 -0.0001\n",
      "iteration: 11 lambda: 0.0987 values is : -0.0 0.0001\n",
      "iteration: 12 lambda: 0.0987 values is : 0.0 -0.0\n",
      "iteration: 13 lambda: 0.0987 values is : -0.0 0.0\n",
      "iteration: 14 lambda: 0.0641 values is : 0.0 0.0\n",
      "iteration: 15 lambda: 0.1191 values is : -0.0 0.0\n"
     ]
    }
   ],
   "source": [
    "while itr < 1000:\n",
    "    # Define the symbolic equations\n",
    "    x, y=symbols('x y')\n",
    "    #function Defition\n",
    "    f = 5*x**2 + 7*y**2 - 3*x*y\n",
    "    \n",
    "    def fun(a,b):\n",
    "        return f.subs({x:a,y:b})\n",
    "    #function derivative w.r.t x\n",
    "    def fun_x(a,b):\n",
    "        return diff(f,x).subs({x:a,y:b})\n",
    "    #function derivative w.r.t y\n",
    "    def fun_y(a,b):\n",
    "        return diff(f,y).subs({x:a,y:b})\n",
    "    \n",
    "    # Compute the value of lambda\n",
    "    lmda = Symbol('lmda')\n",
    "    # the d vector\n",
    "    d = np.matrix([[fun_x(guess.item(0),guess.item(1))],\n",
    "                   [fun_y(guess.item(0),guess.item(1))]]) * (-1.0)\n",
    "    # function value at x0\n",
    "    f_x0 = fun(guess.item(0),guess.item(1))\n",
    "    # The Goldstien-Armijo criteria for the lambda selection\n",
    "    rhs = f_x0 + np.dot(np.matrix([[\n",
    "                    fun_x(guess.item(0),guess.item(1)),\n",
    "                    fun_y(guess.item(0),guess.item(1))]]),d)*(alpha)*(lmda)\n",
    "    lhs = f.subs({x:guess.item(0)+lmda*d.item(0),y:guess.item(1)+lmda*d.item(1)}) \n",
    "    # solver for the lamda value from quadratic inequality\n",
    "    try:\n",
    "        lmda_value = max(solve(lhs-rhs,lmda))\n",
    "    except ValueError: \n",
    "        pass\n",
    "    \n",
    "    # compute the Xk+1 value by Xk+1 = Xk + lambda*d\n",
    "    t = guess + np.matrix(map(lambda x: x * lmda_value, d)).reshape(2,1)\n",
    "    \n",
    "    # update the guess vector\n",
    "    guess = t.copy()\n",
    "    print \"iteration:\",itr,\"lambda:\",round(lmda_value,4),\n",
    "    \"values is :\",round(t[0],4),round(t[1],4)\n",
    "    norm = sqrt(fun_x(t.item(0),t.item(1))**2 + fun_y(t.item(0)\n",
    "                                                      ,t.item(1))**2)\n",
    "    \n",
    "    #Stopping criteria if ∥∇f (x)∥/(1 + |f (x)|) ≤ 10^(-8)\n",
    "    if norm/(1+abs(fun(t.item(0),t.item(1)))) < 10**(-8):\n",
    "        break\n",
    "    itr += 1"
   ]
  },
  {
   "cell_type": "code",
   "execution_count": null,
   "metadata": {
    "collapsed": true
   },
   "outputs": [],
   "source": []
  }
 ],
 "metadata": {
  "kernelspec": {
   "display_name": "Python 2",
   "language": "python",
   "name": "python2"
  },
  "language_info": {
   "codemirror_mode": {
    "name": "ipython",
    "version": 2
   },
   "file_extension": ".py",
   "mimetype": "text/x-python",
   "name": "python",
   "nbconvert_exporter": "python",
   "pygments_lexer": "ipython2",
   "version": "2.7.6"
  }
 },
 "nbformat": 4,
 "nbformat_minor": 0
}
