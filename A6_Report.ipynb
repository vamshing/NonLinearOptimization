{
 "cells": [
  {
   "cell_type": "markdown",
   "metadata": {},
   "source": [
    "## OR 506: HomeWork-6\n",
    "**Created in iPython Notebook by Guduguntla Vamshi <gudugu@ncsu.edu>**"
   ]
  },
  {
   "cell_type": "markdown",
   "metadata": {},
   "source": [
    "\\\\begin{equation}\n",
    "min \\ f(x),\\ f(x) = x_1^2 + x_2^2 - 6x_1 - 8x_2 + 10\n",
    "\\\\end{equation}\n",
    "\n",
    "\\\\begin{equation}\n",
    "constraints \\   4x_1^2 + x_2^2 <= 16 \\\n",
    "\\ 3x_1 + 5x_2 <= 4 \\\n",
    "\\ x_1,x_2 >= 0 \\\n",
    "\\\\end{equation}"
   ]
  },
  {
   "cell_type": "markdown",
   "metadata": {},
   "source": [
    "### 1. Exterior Penalty Method:"
   ]
  },
  {
   "cell_type": "markdown",
   "metadata": {},
   "source": [
    "**Method Used:**\n",
    "\n",
    "$$\n",
    "\\begin{align*}\n",
    "    \\psi(x,\\rho_p) &= J(X) + \\rho_p*P(X)\\\\\n",
    "    P(X) &= {\\sum_{j=1}^{n}max [0,g_j(X)]^2} + {\\sum_{k=1}^{m_2} h_k(x)^2}\\\\\n",
    "\\end{align*}\n",
    "$$\n"
   ]
  },
  {
   "cell_type": "markdown",
   "metadata": {},
   "source": [
    "- if all constraints are satisfied, then **P(x)=0**\n",
    "- **$ \\rho_p $** = penalty parameter; starts as a small number and increases\n",
    "- if **$ \\rho_p $** is small, **$ \\psi(x,\\rho_p) $** is easy to minimize but yields large constraint violations\n",
    "- if **$ \\rho_p $** is large, constraints are all nearly satisfied but optimization problem is numerically ill-conditioned\n",
    "- if optimization stops before convergence is reached, the design will be infeasible"
   ]
  },
  {
   "cell_type": "markdown",
   "metadata": {},
   "source": [
    "**Penalty Function Used:**\n",
    "\n",
    "$$\n",
    "\\begin{align*}\n",
    "    \\psi(x,\\rho_p) &= J(X) + \\rho_p*({\\sum_{j=1}^{n} [g_j(X)]^2} + {\\sum_{k=1}^{m_2} h_k(x)^2})\\\\\n",
    "\\end{align*}\n",
    "$$\n",
    "\n",
    "- **$g_j(X)$** contains those inequality constraints that are violated at x\n",
    "- It can be shown that as $\\rho_p->large$ $lim (x*(\\rho_p))=x*$\n",
    "- $\\psi(x,\\rho_p)$ is defined everywhere"
   ]
  },
  {
   "cell_type": "markdown",
   "metadata": {},
   "source": [
    "**Algorithm Used:**\n",
    "\n",
    "- choose $\\rho_0$, set $k=10^0$\n",
    "- find min $\\psi(x,\\rho_k)$ => $x_k*$\n",
    "- if not converged, set $ 10^{k+1} $ > $ 10^{k} $ , k <- k+1 and repeat"
   ]
  },
  {
   "cell_type": "markdown",
   "metadata": {},
   "source": [
    "**Implementation**"
   ]
  },
  {
   "cell_type": "code",
   "execution_count": 14,
   "metadata": {
    "collapsed": true
   },
   "outputs": [],
   "source": [
    "import numpy as np\n",
    "from sympy import *\n",
    "import math\n",
    "import scipy"
   ]
  },
  {
   "cell_type": "markdown",
   "metadata": {},
   "source": [
    "**Function Definition**"
   ]
  },
  {
   "cell_type": "code",
   "execution_count": 2,
   "metadata": {
    "collapsed": true
   },
   "outputs": [],
   "source": [
    "def function():\n",
    "    x, y=symbols('x y',real=True)\n",
    "    return x**2 + y**2 - 6*x - 8*y + 10\n",
    "\n",
    "def constratints():\n",
    "    x, y=symbols('x y',real=True)\n",
    "    g1 = 4*x**2 + y**2 - 16\n",
    "    g2 = 3*x + 5*y - 4\n",
    "    return g1,g2\n",
    "\n",
    "def penalized_function(mu,g1,g2):\n",
    "    return function() + mu * (g1**2 + g2**2)"
   ]
  },
  {
   "cell_type": "code",
   "execution_count": 3,
   "metadata": {
    "collapsed": false
   },
   "outputs": [
    {
     "name": "stdout",
     "output_type": "stream",
     "text": [
      "iteration 0 Mu:  1 x1 x2 =  0.857142857 0.428571429 f(x1,x2):  2.346938776\n",
      "iteration 1 Mu:  10 x1 x2 =  0.80058651 0.33431085 f(x1,x2):  3.27469664\n",
      "iteration 2 Mu:  100 x1 x2 =  0.794766245 0.324610409 f(x1,x2):  3.371544561\n",
      "iteration 3 Mu:  1000 x1 x2 =  0.794182524 0.32363754 f(x1,x2):  3.381271674\n",
      "iteration 4 Mu:  10000 x1 x2 =  0.794124135 0.323540225 f(x1,x2):  3.38224481\n",
      "iteration 5 Mu:  100000 x1 x2 =  0.794118296 0.323530493 f(x1,x2):  3.382342128\n",
      "iteration 6 Mu:  1000000 x1 x2 =  0.794117712 0.32352952 f(x1,x2):  3.38235186\n",
      "iteration 7 Mu:  10000000 x1 x2 =  0.794117654 0.323529423 f(x1,x2):  3.382352833\n",
      "iteration 8 Mu:  100000000 x1 x2 =  0.794117648 0.323529413 f(x1,x2):  3.38235293\n",
      "iteration 9 Mu:  1000000000 x1 x2 =  0.794117647 0.323529412 f(x1,x2):  3.38235294\n",
      "iteration 10 Mu:  10000000000 x1 x2 =  0.794117647 0.323529412 f(x1,x2):  3.382352941\n",
      "iteration 11 Mu:  100000000000 x1 x2 =  0.794117647 0.323529412 f(x1,x2):  3.382352941\n",
      "iteration 12 Mu:  1000000000000 x1 x2 =  0.794117647 0.323529412 f(x1,x2):  3.382352941\n",
      "iteration 13 Mu:  10000000000000 x1 x2 =  0.794117647 0.323529412 f(x1,x2):  3.382352941\n",
      "iteration 14 Mu:  100000000000000 x1 x2 =  0.794117647 0.323529412 f(x1,x2):  3.382352941\n",
      "iteration 15 Mu:  1000000000000000 x1 x2 =  0.794117648 0.323529411 f(x1,x2):  3.382352941\n",
      "iteration 16 Mu:  10000000000000000 x1 x2 =  0.794117655 0.323529407 f(x1,x2):  3.382352941\n",
      "Constraints Satisfied at iteration:  17\n",
      "Final Solution is :\n",
      "Mu:  100000000000000000 x1 x2 =  0.794117655 0.323529407 f(x1,x2):  3.382352941\n"
     ]
    }
   ],
   "source": [
    "x,y=symbols('x y',real=True)\n",
    "g1,g2 = constratints()\n",
    "soln = np.array(nsolve([diff(penalized_function(1,g1,g2),x),diff(penalized_function(1,g1,g2),y)],[x,y],[0,0]))\n",
    "function_value = function().subs({x:soln[0],y:soln[1]})\n",
    "\n",
    "for k in range(20):\n",
    "    if (g1.subs({x:soln[0],y:soln[1]}) <= 0) and (g2.subs({x:soln[0],y:soln[1]}) > 0):\n",
    "        F = penalized_function(10**k,0,g2)\n",
    "        soln = np.array(nsolve([diff(penalized_function(10**k,0,g2),x),diff(penalized_function(10**k,0,g2),y)],[x,y],[0,0]))\n",
    "        function_value = function().subs({x:soln[0],y:soln[1]})\n",
    "        print 'iteration',k,'Mu: ',10**k,'x1 x2 = ',round(soln[0],9),round(soln[1],9),'f(x1,x2): ',round(function_value,9)\n",
    "    elif (g1.subs({x:soln[0],y:soln[1]}) > 0) and (g2.subs({x:soln[0],y:soln[1]}) <= 0):\n",
    "        F = penalized_function(10**k,g1,0)\n",
    "        soln = np.array(nsolve([diff(penalized_function(10**k,g1,0),x),diff(penalized_function(10**k,g1,0),y)],[x,y],[0,0]))\n",
    "        function_value = function().subs({x:soln[0],y:soln[1]})\n",
    "        print 'iteration',k,'Mu: ',10**k,'x1 x2 = ',round(soln[0],9),round(soln[1],9),'f(x1,x2): ',round(function_value,9)\n",
    "    else:\n",
    "        print 'Constraints Satisfied at iteration: ',k\n",
    "        print 'Final Solution is :'\n",
    "        print 'Mu: ',10**k,'x1 x2 = ',round(soln[0],9),round(soln[1],9),'f(x1,x2): ',round(function_value,9)\n",
    "        break"
   ]
  },
  {
   "cell_type": "markdown",
   "metadata": {},
   "source": [
    "**Comments on Results:**\n",
    "\n",
    "- Convergence criteria is: 20 maximum iterations or **constraints satisfied**\n",
    "- Using the initial value as Mu = 10^0 = 1 final solution of x is **[0.794117655,0.323529407]**\n",
    "- The solution is obtained at 2 iterations at **Mu = 100**, x is **[0.794766245,0.324610409]**\n",
    "- However, allowing for tolerance in the constraints around **10^-8**, the iterations are further increased\n",
    "- Mu values in **16 iterations** increase to the powers of 10.\n",
    "- The converging function value is **3.382352941**\n",
    "- The algorithm converged in **16 iterations** using the above mu values and tolerance of **10^-8** in constraints\n",
    "- The computed values are cross-validated by checking plugging in these values given by the criteria defined above and   checking for constraints."
   ]
  },
  {
   "cell_type": "markdown",
   "metadata": {},
   "source": [
    "### 2. Interior Penalty Method:"
   ]
  },
  {
   "cell_type": "markdown",
   "metadata": {
    "collapsed": true
   },
   "source": [
    "**Method Used:**\n",
    "\n",
    "$$\n",
    "\\begin{align*}\n",
    "    \\psi(x,\\rho_p,r_p) &= J(X) + \\rho_p*P(X)\\\\\n",
    "    P(X) &= r_p * {\\sum_{j=1}^{n} - ln [g_j(X)]} + \\rho_p*{\\sum_{k=1}^{m_2} h_k(x)^2}\\\\\n",
    "\\end{align*}\n",
    "$$\n",
    "\n",
    "- $r_p$ = barrier parameter; starts as a large positive number and decreases\n",
    "- barrier function is defined for inequality constraints only\n",
    "- sequence of improving feasible designs\n",
    "- $psi(x,\\rho_p,r_p)$ discontinuous at constraint boundaries\n",
    "\n"
   ]
  },
  {
   "cell_type": "markdown",
   "metadata": {},
   "source": [
    "**Penalty Function Used:**\n",
    "\n",
    "$$\n",
    "\\begin{align*}\n",
    "    P(X) &= {\\sum_{j=1}^{m_!} - ln [-g_j(X)]}\\\\\n",
    "    \\psi(x,\\rho_p,r_p) &= J(X) - \\rho_p*{\\sum_{j=1}^{m_!} - ln [-g_j(X)]}\\\\\n",
    "\\end{align*}\n",
    "$$\n",
    "\n",
    "\n",
    "\n",
    "- penalty function has a positive singularity at the boundary of the feasible region\n",
    "- penalty function is undefined for gi(x)>0\n",
    "- It can be shown that as $r_p->0$ $lim (x*(r_p))=x*$"
   ]
  },
  {
   "cell_type": "markdown",
   "metadata": {},
   "source": [
    "**Algorithm Used:**\n",
    "\n",
    "- choose $\\rho_0$, set $k=10^0$\n",
    "- find min $\\psi(x,\\rho_k)$ => $x_k*$\n",
    "- if not converged, set $ 10^{-(k+1)} $ < $ 10^{k} $ , k <- k+1 and repeat"
   ]
  },
  {
   "cell_type": "markdown",
   "metadata": {},
   "source": [
    "**Implementation**"
   ]
  },
  {
   "cell_type": "code",
   "execution_count": 19,
   "metadata": {
    "collapsed": true
   },
   "outputs": [],
   "source": [
    "import numpy as np\n",
    "from sympy import *\n",
    "import math\n",
    "import scipy"
   ]
  },
  {
   "cell_type": "code",
   "execution_count": 20,
   "metadata": {
    "collapsed": true
   },
   "outputs": [],
   "source": [
    "def function():\n",
    "    x, y=symbols('x y',real=True)\n",
    "    return x**2 + y**2 - 6*x - 8*y + 10\n",
    "\n",
    "def constratints():\n",
    "    x, y=symbols('x y',real=True)\n",
    "    g1 = (-1)*(4*x**2 + y**2 - 16)\n",
    "    g2 = (-1)*(3*x + 5*y - 4)\n",
    "    return g1,g2\n",
    "\n",
    "def penalized_function(mu,g1,g2):\n",
    "    return function() - mu * (log(g1) + log(g2))"
   ]
  },
  {
   "cell_type": "code",
   "execution_count": 21,
   "metadata": {
    "collapsed": false
   },
   "outputs": [
    {
     "name": "stdout",
     "output_type": "stream",
     "text": [
      "[mpf('0.61714266168678841') mpf('0.29404825032408209')] 4.41208746567912\n",
      "iteration 1 Mu:  0.99 x1 x2 =  0.618573055 0.294534793 f(x1,x2):  4.401666694\n",
      "iteration 2 Mu:  0.98 x1 x2 =  0.620008585 0.295018625 f(x1,x2):  4.391246127\n",
      "iteration 3 Mu:  0.97 x1 x2 =  0.621449288 0.29549972 f(x1,x2):  4.380825813\n",
      "iteration 4 Mu:  0.96 x1 x2 =  0.622895201 0.295978054 f(x1,x2):  4.370405801\n",
      "iteration 5 Mu:  0.95 x1 x2 =  0.624346362 0.296453601 f(x1,x2):  4.359986138\n",
      "iteration 6 Mu:  0.94 x1 x2 =  0.62580281 0.296926334 f(x1,x2):  4.349566876\n",
      "iteration 7 Mu:  0.93 x1 x2 =  0.627264582 0.297396227 f(x1,x2):  4.339148065\n",
      "iteration 8 Mu:  0.92 x1 x2 =  0.628731718 0.297863253 f(x1,x2):  4.328729754\n",
      "iteration 9 Mu:  0.91 x1 x2 =  0.630204258 0.298327387 f(x1,x2):  4.318311997\n",
      "iteration 10 Mu:  0.9 x1 x2 =  0.63168224 0.298788599 f(x1,x2):  4.307894844\n",
      "iteration 11 Mu:  0.89 x1 x2 =  0.633165707 0.299246863 f(x1,x2):  4.29747835\n",
      "iteration 12 Mu:  0.88 x1 x2 =  0.634654698 0.299702151 f(x1,x2):  4.287062568\n",
      "iteration 13 Mu:  0.87 x1 x2 =  0.636149255 0.300154435 f(x1,x2):  4.276647552\n",
      "iteration 14 Mu:  0.86 x1 x2 =  0.637649421 0.300603685 f(x1,x2):  4.266233357\n",
      "iteration 15 Mu:  0.85 x1 x2 =  0.639155237 0.301049873 f(x1,x2):  4.255820039\n",
      "iteration 16 Mu:  0.84 x1 x2 =  0.640666747 0.301492969 f(x1,x2):  4.245407655\n",
      "iteration 17 Mu:  0.83 x1 x2 =  0.642183994 0.301932945 f(x1,x2):  4.234996262\n",
      "iteration 18 Mu:  0.82 x1 x2 =  0.643707023 0.302369769 f(x1,x2):  4.224585918\n",
      "iteration 19 Mu:  0.81 x1 x2 =  0.645235878 0.302803412 f(x1,x2):  4.214176683\n",
      "iteration 20 Mu:  0.8 x1 x2 =  0.646770605 0.303233842 f(x1,x2):  4.203768615\n",
      "iteration 21 Mu:  0.79 x1 x2 =  0.648311249 0.303661028 f(x1,x2):  4.193361775\n",
      "iteration 22 Mu:  0.78 x1 x2 =  0.649857858 0.304084939 f(x1,x2):  4.182956225\n",
      "iteration 23 Mu:  0.77 x1 x2 =  0.651410477 0.304505543 f(x1,x2):  4.172552028\n",
      "iteration 24 Mu:  0.76 x1 x2 =  0.652969155 0.304922808 f(x1,x2):  4.162149245\n",
      "iteration 25 Mu:  0.75 x1 x2 =  0.65453394 0.3053367 f(x1,x2):  4.151747941\n",
      "iteration 26 Mu:  0.74 x1 x2 =  0.656104882 0.305747186 f(x1,x2):  4.141348181\n",
      "iteration 27 Mu:  0.73 x1 x2 =  0.657682028 0.306154233 f(x1,x2):  4.130950031\n",
      "iteration 28 Mu:  0.72 x1 x2 =  0.659265431 0.306557807 f(x1,x2):  4.120553557\n",
      "iteration 29 Mu:  0.71 x1 x2 =  0.660855141 0.306957872 f(x1,x2):  4.110158827\n",
      "iteration 30 Mu:  0.7 x1 x2 =  0.66245121 0.307354395 f(x1,x2):  4.09976591\n",
      "iteration 31 Mu:  0.69 x1 x2 =  0.66405369 0.307747339 f(x1,x2):  4.089374876\n",
      "iteration 32 Mu:  0.68 x1 x2 =  0.665662633 0.308136669 f(x1,x2):  4.078985794\n",
      "iteration 33 Mu:  0.67 x1 x2 =  0.667278095 0.308522348 f(x1,x2):  4.068598737\n",
      "iteration 34 Mu:  0.66 x1 x2 =  0.66890013 0.30890434 f(x1,x2):  4.058213778\n",
      "iteration 35 Mu:  0.65 x1 x2 =  0.670528792 0.309282606 f(x1,x2):  4.04783099\n",
      "iteration 36 Mu:  0.64 x1 x2 =  0.672164138 0.30965711 f(x1,x2):  4.037450447\n",
      "iteration 37 Mu:  0.63 x1 x2 =  0.673806225 0.310027812 f(x1,x2):  4.027072227\n",
      "iteration 38 Mu:  0.62 x1 x2 =  0.675455111 0.310394673 f(x1,x2):  4.016696407\n",
      "iteration 39 Mu:  0.61 x1 x2 =  0.677110854 0.310757655 f(x1,x2):  4.006323064\n",
      "iteration 40 Mu:  0.6 x1 x2 =  0.678773514 0.311116717 f(x1,x2):  3.995952278\n",
      "iteration 41 Mu:  0.59 x1 x2 =  0.68044315 0.311471818 f(x1,x2):  3.985584129\n",
      "iteration 42 Mu:  0.58 x1 x2 =  0.682119825 0.311822917 f(x1,x2):  3.975218701\n",
      "iteration 43 Mu:  0.57 x1 x2 =  0.683803599 0.312169973 f(x1,x2):  3.964856075\n",
      "iteration 44 Mu:  0.56 x1 x2 =  0.685494537 0.312512943 f(x1,x2):  3.954496337\n",
      "iteration 45 Mu:  0.55 x1 x2 =  0.687192701 0.312851783 f(x1,x2):  3.944139572\n",
      "iteration 46 Mu:  0.54 x1 x2 =  0.688898157 0.313186452 f(x1,x2):  3.933785868\n",
      "iteration 47 Mu:  0.53 x1 x2 =  0.690610971 0.313516903 f(x1,x2):  3.923435312\n",
      "iteration 48 Mu:  0.52 x1 x2 =  0.692331208 0.313843093 f(x1,x2):  3.913087995\n",
      "iteration 49 Mu:  0.51 x1 x2 =  0.694058938 0.314164976 f(x1,x2):  3.902744009\n",
      "iteration 50 Mu:  0.5 x1 x2 =  0.695794229 0.314482505 f(x1,x2):  3.892403445\n",
      "iteration 51 Mu:  0.49 x1 x2 =  0.69753715 0.314795634 f(x1,x2):  3.882066398\n",
      "iteration 52 Mu:  0.48 x1 x2 =  0.699287773 0.315104314 f(x1,x2):  3.871732965\n",
      "iteration 53 Mu:  0.47 x1 x2 =  0.70104617 0.315408499 f(x1,x2):  3.861403242\n",
      "iteration 54 Mu:  0.46 x1 x2 =  0.702812415 0.315708138 f(x1,x2):  3.851077329\n",
      "iteration 55 Mu:  0.45 x1 x2 =  0.704586581 0.316003181 f(x1,x2):  3.840755326\n",
      "iteration 56 Mu:  0.44 x1 x2 =  0.706368744 0.316293579 f(x1,x2):  3.830437335\n",
      "iteration 57 Mu:  0.43 x1 x2 =  0.70815898 0.31657928 f(x1,x2):  3.820123461\n",
      "iteration 58 Mu:  0.42 x1 x2 =  0.709957369 0.316860231 f(x1,x2):  3.809813809\n",
      "iteration 59 Mu:  0.41 x1 x2 =  0.711763989 0.31713638 f(x1,x2):  3.799508487\n",
      "iteration 60 Mu:  0.4 x1 x2 =  0.713578921 0.317407672 f(x1,x2):  3.789207604\n",
      "iteration 61 Mu:  0.39 x1 x2 =  0.715402247 0.317674053 f(x1,x2):  3.778911272\n",
      "iteration 62 Mu:  0.38 x1 x2 =  0.717234049 0.317935468 f(x1,x2):  3.768619603\n",
      "iteration 63 Mu:  0.37 x1 x2 =  0.719074413 0.31819186 f(x1,x2):  3.758332713\n",
      "iteration 64 Mu:  0.36 x1 x2 =  0.720923425 0.318443171 f(x1,x2):  3.748050719\n",
      "iteration 65 Mu:  0.35 x1 x2 =  0.722781172 0.318689343 f(x1,x2):  3.737773741\n",
      "iteration 66 Mu:  0.34 x1 x2 =  0.724647743 0.318930318 f(x1,x2):  3.727501899\n",
      "iteration 67 Mu:  0.33 x1 x2 =  0.726523229 0.319166033 f(x1,x2):  3.717235317\n",
      "iteration 68 Mu:  0.32 x1 x2 =  0.728407723 0.319396429 f(x1,x2):  3.70697412\n",
      "iteration 69 Mu:  0.31 x1 x2 =  0.730301316 0.319621443 f(x1,x2):  3.696718438\n",
      "iteration 70 Mu:  0.3 x1 x2 =  0.732204106 0.319841011 f(x1,x2):  3.686468399\n",
      "iteration 71 Mu:  0.29 x1 x2 =  0.734116189 0.32005507 f(x1,x2):  3.676224138\n",
      "iteration 72 Mu:  0.28 x1 x2 =  0.736037663 0.320263552 f(x1,x2):  3.665985788\n",
      "iteration 73 Mu:  0.27 x1 x2 =  0.73796863 0.320466392 f(x1,x2):  3.655753488\n",
      "iteration 74 Mu:  0.26 x1 x2 =  0.739909192 0.320663522 f(x1,x2):  3.645527378\n",
      "iteration 75 Mu:  0.25 x1 x2 =  0.741859452 0.320854873 f(x1,x2):  3.6353076\n",
      "iteration 76 Mu:  0.24 x1 x2 =  0.743819518 0.321040374 f(x1,x2):  3.625094301\n",
      "iteration 77 Mu:  0.23 x1 x2 =  0.745789497 0.321219953 f(x1,x2):  3.614887629\n",
      "iteration 78 Mu:  0.22 x1 x2 =  0.747769498 0.321393538 f(x1,x2):  3.604687735\n",
      "iteration 79 Mu:  0.21 x1 x2 =  0.749759636 0.321561055 f(x1,x2):  3.594494773\n",
      "iteration 80 Mu:  0.2 x1 x2 =  0.751760023 0.321722427 f(x1,x2):  3.5843089\n",
      "iteration 81 Mu:  0.19 x1 x2 =  0.753770776 0.321877578 f(x1,x2):  3.574130277\n",
      "iteration 82 Mu:  0.18 x1 x2 =  0.755792013 0.32202643 f(x1,x2):  3.563959068\n",
      "iteration 83 Mu:  0.17 x1 x2 =  0.757823857 0.322168903 f(x1,x2):  3.553795438\n",
      "iteration 84 Mu:  0.16 x1 x2 =  0.75986643 0.322304914 f(x1,x2):  3.543639558\n",
      "iteration 85 Mu:  0.15 x1 x2 =  0.761919857 0.322434382 f(x1,x2):  3.533491602\n"
     ]
    }
   ],
   "source": [
    "x,y=symbols('x y',real=True)\n",
    "g1,g2 = constratints()\n",
    "soln = np.array(nsolve([diff(penalized_function(1,g1,g2),x),diff(penalized_function(1,g1,g2),y)],[x,y],[.6,.3]))\n",
    "function_value = function().subs({x:soln[0],y:soln[1]})\n",
    "print soln,function_value\n",
    "k = 0\n",
    "\n",
    "soln0 = np.array([0,0])\n",
    "\n",
    "while k < 85:\n",
    "    k += 1\n",
    "    F = penalized_function(1-.01*k,g1,g2)\n",
    "    soln = np.array(nsolve([diff(penalized_function(1-.01*k,g1,g2),x),diff(penalized_function(1-.01*k,g1,g2),y)],[x,y],[.6,.3]))\n",
    "    function_value = function().subs({x:soln[0],y:soln[1]})\n",
    "    print 'iteration',k,'Mu: ',1-.01*k,'x1 x2 = ',round(soln[0],9),round(soln[1],9),'f(x1,x2): ',round(function_value,9)\n",
    "    \n",
    "    if np.linalg.norm(soln-soln0) < 0.001:\n",
    "        break\n",
    "    else:\n",
    "        soln0 = soln\n",
    "        continue"
   ]
  },
  {
   "cell_type": "markdown",
   "metadata": {},
   "source": [
    "**Comments on Results:**\n",
    "\n",
    "- Convergence criteria is: 100 maximum iterations or **constraints satisfied**\n",
    "- Using the initial value as Mu = 10^0 = 1 final solution of x is **[0.761919857,0.322434382]**\n",
    "- The solution is obtained at 85 iterations at **Mu = 0.15**, x is **[0.761919857,0.322434382]**\n",
    "- However, allowing for tolerance in the constraints around **10^-8**, the iterations are further increased\n",
    "- Mu values in **16 iterations** decrease by *1-.01*k* as k is the iteration number.\n",
    "- The converging function value is **3.533491602**\n",
    "- The algorithm converged in **85 iterations** using the above mu values and tolerance of **10^-8** in constraints\n",
    "- The computed values are cross-validated by checking plugging in these values given by the criteria defined above and   checking for constraints."
   ]
  },
  {
   "cell_type": "markdown",
   "metadata": {},
   "source": [
    "### 3. Zoutendijk Method:"
   ]
  },
  {
   "cell_type": "markdown",
   "metadata": {},
   "source": [
    "**Implementation**"
   ]
  },
  {
   "cell_type": "code",
   "execution_count": null,
   "metadata": {
    "collapsed": true
   },
   "outputs": [],
   "source": [
    "%%python%%\n",
    "\n",
    "def function():\n",
    "    x, y=symbols('x y',real=True)\n",
    "    return x1**2 + x2**2 - 6*x1 - 8*x2 + 10\n",
    "\n",
    "def constratints():\n",
    "    x, y=symbols('x1 x2',real=True)\n",
    "    g1 = 4*x1**2 + x2**2 - 16\n",
    "    g2 = 3*x1 + 5*x2 - 4\n",
    "    g3 = -1*x1\n",
    "    g4 = -1*x2\n",
    "    return g1,g2,g3,g4\n",
    "\n",
    "f = function()\n",
    "g1,g2,g3,g4 = constratints()"
   ]
  },
  {
   "cell_type": "code",
   "execution_count": null,
   "metadata": {
    "collapsed": true
   },
   "outputs": [],
   "source": [
    "%%matlab%%\n",
    "\n",
    "syms x1 x2\n",
    "x = [0 0]\n",
    "g = [g1;g2;g3;g4]\n",
    "eps = 10^-8\n",
    "xfinal = Zoutendijks_Method(f,g,x,eps,20)"
   ]
  },
  {
   "cell_type": "code",
   "execution_count": null,
   "metadata": {
    "collapsed": true
   },
   "outputs": [],
   "source": [
    "# define the function\n",
    "function xopt = Zoutendijks_Method(f , g , x_1, eps,maxit)\n",
    "    itr = 0\n",
    "    sze = size(g,1);\n",
    "varlist = symvar(f);\n",
    "    while(itr < maxit)\n",
    "        c=0;\n",
    "        itr = itr + 1;\n",
    "        for i = 1:sze\n",
    "            if(subs(g(i,1) , varlist , x_1)<0)\n",
    "                c=c+1;\n",
    "            end\n",
    "        end\n",
    "\n",
    "        if(c==sze)\n",
    "            S = double(-1*subs(gradient(f,varlist),varlist,x_1));\n",
    "            S = S/norm(S);\n",
    "            lam = zout_optlam(f,g,S,x_1);\n",
    "            x = x_1 + lam*S.';\n",
    "            if (abs((subs(f, varlist, x_1)-subs(f, varlist, x))/subs(f, varlist, x_1))<=eps && norm(x_1-x)<=eps)\n",
    "                xopt = x;\n",
    "                break;\n",
    "            end\n",
    "            x_1 = x\n",
    "            continue;\n",
    "        end\n",
    "\n",
    "        fcons = double([subs(gradient(f, varlist),varlist,x_1)]).';\n",
    "\n",
    "        acoe = [];\n",
    "        for i = 1:sze\n",
    "            if(subs(g(i,1) , varlist , x_1)==0)\n",
    "                ccoe = [subs(gradient(g(i,1), varlist),varlist,x_1)].';\n",
    "                acoe = [acoe;ccoe];\n",
    "            end\n",
    "        end\n",
    "        A = [acoe;fcons];\n",
    "        A = double(A);\n",
    "        A = [ones(size(A,1),1) A];\n",
    "        B = zeros(size(A,1),1);\n",
    "        fl = [-1 zeros(1,size(A,2)-1)];\n",
    "        lb = [-Inf -1*ones(1,size(A,2)-1)];\n",
    "        ub = [Inf ones(1,size(A,2)-1)];\n",
    "        xlp = linprog(fl , A , B , [] , [] , lb , ub);\n",
    "\n",
    "        if(abs(xlp(1,1))<eps)\n",
    "            xopt = x_1;\n",
    "            break;\n",
    "        end\n",
    "\n",
    "        S = double(xlp(2:size(xlp,1),1));\n",
    "        S = S/norm(S);\n",
    "        lam = zout_optlam(f,g,S,x_1);\n",
    "        x = x_1 + lam*S.';\n",
    "        if (abs((subs(f, varlist, x_1)-subs(f, varlist, x))/subs(f, varlist, x_1))<=eps && norm(x_1-x)<=eps)\n",
    "            xopt = x;\n",
    "            break;\n",
    "            end\n",
    "        x_1 = x\n",
    "    end\n",
    "end"
   ]
  },
  {
   "cell_type": "code",
   "execution_count": null,
   "metadata": {
    "collapsed": true
   },
   "outputs": [],
   "source": [
    "\"\"\"\n",
    "iteration  x1       x2       f(x1,x2)\n",
    "1\t0.353553391\t0.353553391\t5.300252527\n",
    "2\t0.426974751\t0.454718126\t4.189482498\n",
    "3\t0.463685432\t0.505300494\t3.645816225\n",
    "4\t0.468274267\t0.51162329\t3.578407258\n",
    "5\t0.470568684\t0.514784688\t3.544748553\n",
    "6\t0.471715893\t0.516365387\t3.527930643\n",
    "7\t0.472002695\t0.516760562\t3.523727357\n",
    "8\t0.47202062\t0.516785261\t3.523464664\n",
    "9\t0.472021741\t0.516786804\t3.523448247\n",
    "10\t0.472021811\t0.516786901\t3.523447217\n",
    "60\t0.793624047\t0.323825246\t3.382355668\n",
    "61\t0.793624169\t0.323825451\t3.382353622\n",
    "62\t0.793833508\t0.323699825\t3.382353567\n",
    "63\t0.794042851\t0.323574206\t3.382353562\n",
    "64\t0.794095188\t0.323542803\t3.382353561\n",
    "65\t0.794108272\t0.323534952\t3.382353565\n",
    "66\t0.794114814\t0.323531027\t3.382353563\n",
    "67\t0.79411645\t0.323530046\t3.382353559\n",
    "68\t0.794117268\t0.323529555\t3.38235356\n",
    "\"\"\""
   ]
  },
  {
   "cell_type": "markdown",
   "metadata": {},
   "source": [
    "**Comments on Results:**\n",
    "\n",
    "- final solution of x is **[0.794117268,0.323529555]**\n",
    "- However, allowing for tolerance in the constraints around **10^-8**, the iterations are further increased\n",
    "- The converging function value is **3.38235356**\n",
    "- The algorithm converged in **68 iterations** \n",
    "- The computed values are cross-validated by checking plugging in these values given by the criteria defined above and  checking for constraints."
   ]
  }
 ],
 "metadata": {
  "kernelspec": {
   "display_name": "Python 2",
   "language": "python",
   "name": "python2"
  },
  "language_info": {
   "codemirror_mode": {
    "name": "ipython",
    "version": 2
   },
   "file_extension": ".py",
   "mimetype": "text/x-python",
   "name": "python",
   "nbconvert_exporter": "python",
   "pygments_lexer": "ipython2",
   "version": "2.7.10"
  }
 },
 "nbformat": 4,
 "nbformat_minor": 0
}
