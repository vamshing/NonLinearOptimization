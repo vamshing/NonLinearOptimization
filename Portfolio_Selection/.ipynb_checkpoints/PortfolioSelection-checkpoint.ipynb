{
 "cells": [
  {
   "cell_type": "code",
   "execution_count": 1,
   "metadata": {
    "collapsed": false
   },
   "outputs": [],
   "source": [
    "import numpy as np\n",
    "from sympy import *\n",
    "import math\n",
    "import scipy\n",
    "import pandas as pd"
   ]
  },
  {
   "cell_type": "code",
   "execution_count": 15,
   "metadata": {
    "collapsed": true
   },
   "outputs": [],
   "source": [
    "Return_table  = pd.DataFrame()\n",
    "Return_table['A'] = np.array([.0063,.0015,.01861,.0356,.1011,.0911,.0981,.1009,.0670,.1819])\n",
    "Return_table['B'] = np.array([.0066,.00762,-.0248,-.0551,.0112,.0019,.7891,.0912,.0781,.0911])\n",
    "Return_table['C'] = np.array([.00107,-.0684,.02876,.0320,.1181,-.01123,-.00121,.01231,.0791,.0812])\n",
    "Return_table['D'] = np.array([.0234,-.0753,.08761,.0315,.1039,-.1009,-.0121,.0978,.0782,.1012])\n",
    "\n",
    "def geom_mean():\n",
    "    mu_A,mu_B,mu_C,mu_D = 1,1,1,1\n",
    "    for i in range(len(Return_table)):\n",
    "        mu_A *= (1+Return_table.loc[i,'A'])\n",
    "        mu_B *= (1+Return_table.loc[i,'B'])\n",
    "        mu_C *= (1+Return_table.loc[i,'C'])\n",
    "        mu_D *= (1+Return_table.loc[i,'D'])\n",
    "    return [mu_A**(.1) - 1,mu_B**.10 - 1,mu_C**.10 - 1,mu_D**.10 - 1]\n",
    "\n",
    "geom_mu = geom_mean()\n",
    "sigma_i_j = np.cov(np.array([Return_table['A'], Return_table['B'], Return_table['C'],Return_table['D']]))"
   ]
  },
  {
   "cell_type": "code",
   "execution_count": 25,
   "metadata": {
    "collapsed": false
   },
   "outputs": [],
   "source": [
    "def function():\n",
    "    x, y, z, w = symbols('x y z w',real=True)\n",
    "    arr = np.matrix([[x],[y],[z],[w]])\n",
    "    return (((arr.T) * sigma_i_j * arr)*.5 - (geom_mu * arr)*.5).item(0)\n",
    "\n",
    "def constratints():\n",
    "    x, y, z, w = symbols('x y z w',real=True)\n",
    "    g1 = x + y + z + w - 1\n",
    "    g2 = x\n",
    "    g3 = y\n",
    "    g4 = z\n",
    "    g5 = w\n",
    "    return g1,g2,g3,g4,g5\n",
    "\n",
    "def penalized_function(mu,g1,g2,g3,g4,g5):\n",
    "    return function() + mu * (g1**2) + mu*((g2**2) + (g3**2) + (g4**2) + (g5**2))\n",
    "\n",
    "def non_linear_solve(mu,g1,g2,g3,g4,g5,starting_vector):\n",
    "    return np.array(nsolve([diff(penalized_function(mu,g1,g2,g3,g4,g5),x),diff(penalized_function(mu,g1,g2,g3,g4,g5),y),diff(penalized_function(mu,g1,g2,g3,g4,g5),z),diff(penalized_function(mu,g1,g2,g3,g4,g5),w)],[x,y,z,w],starting_vector))\n",
    "   \n",
    "def check_for_constraints(a):\n",
    "    idx = np.array([])\n",
    "    for i in range(len(a)):\n",
    "        if a[i] < 0.: \n",
    "            idx = np.append(idx,1)\n",
    "        else: \n",
    "            idx = np.append(idx,0)\n",
    "    return idx"
   ]
  },
  {
   "cell_type": "code",
   "execution_count": 26,
   "metadata": {
    "collapsed": false
   },
   "outputs": [
    {
     "name": "stdout",
     "output_type": "stream",
     "text": [
      "[mpf('0.2075883241369827') mpf('0.20531456483686268')\n",
      " mpf('0.19728868279278215') mpf('0.19839297663596496')]\n",
      "-0.0192902092737843\n",
      "-0.191415451597408\n"
     ]
    }
   ],
   "source": [
    "x, y, z, w = symbols('x y z w',real=True)\n",
    "starting_vector = [1 for _ in range(4)]\n",
    "g1,g2,g3,g4,g5 = constratints()\n",
    "\n",
    "# penalize everything to get the initial vector\n",
    "soln0 = non_linear_solve(1,g1,g2,g3,g4,g5,starting_vector)\n",
    "function_value = function().subs({x:soln0[0],y:soln0[1],z:soln0[2],w:soln0[3]})\n",
    "print soln0\n",
    "print function_value\n",
    "print g1.subs({x:soln0[0],y:soln0[1],z:soln0[2],w:soln0[3]})"
   ]
  },
  {
   "cell_type": "code",
   "execution_count": 34,
   "metadata": {
    "collapsed": false,
    "scrolled": false
   },
   "outputs": [
    {
     "name": "stdout",
     "output_type": "stream",
     "text": [
      "iteration 0 Mu:  1 x1 x2 x3 x4 =  0.947 0.086 -0.01 -0.008 f(x1,x2):  -0.03391799\n",
      "iteration 1 Mu:  10 x1 x2 x3 x4 =  0.916 0.088 -0.001 -0.001 f(x1,x2):  -0.033182842\n",
      "iteration 2 Mu:  100 x1 x2 x3 x4 =  0.912 0.088 -0.0 -0.0 f(x1,x2):  -0.033108964\n",
      "iteration 3 Mu:  1000 x1 x2 x3 x4 =  0.912 0.088 -0.0 -0.0 f(x1,x2):  -0.033101573\n",
      "iteration 4 Mu:  10000 x1 x2 x3 x4 =  0.912 0.088 -0.0 -0.0 f(x1,x2):  -0.033100834\n",
      "iteration 5 Mu:  100000 x1 x2 x3 x4 =  0.912 0.088 -0.0 -0.0 f(x1,x2):  -0.03310076\n",
      "iteration 6 Mu:  1000000 x1 x2 x3 x4 =  0.912 0.088 -0.0 -0.0 f(x1,x2):  -0.033100752\n",
      "iteration 7 Mu:  10000000 x1 x2 x3 x4 =  0.912 0.088 -0.0 -0.0 f(x1,x2):  -0.033100752\n",
      "iteration 8 Mu:  100000000 x1 x2 x3 x4 =  0.912 0.088 -0.0 -0.0 f(x1,x2):  -0.033100751\n",
      "iteration 9 Mu:  1000000000 x1 x2 x3 x4 =  0.912 0.088 -0.0 -0.0 f(x1,x2):  -0.033100751\n",
      "iteration 10 Mu:  10000000000 x1 x2 x3 x4 =  0.914 0.086 -0.0 -0.0 f(x1,x2):  -0.033100646\n",
      "iteration 11 Mu:  100000000000 x1 x2 x3 x4 =  0.911 0.089 -0.0 -0.0 f(x1,x2):  -0.0331007\n",
      "iteration 12 Mu:  1000000000000 x1 x2 x3 x4 =  0.833 0.167 -0.0 -0.0 f(x1,x2):  -0.032927723\n",
      "Converged Successfully in iterations:  12\n"
     ]
    }
   ],
   "source": [
    "for k in range(13):\n",
    "    idx = check_for_constraints(soln0)\n",
    "    soln = non_linear_solve(10**k,g1,g2*idx[0],g3*idx[1],g4*idx[2],g5*idx[3],starting_vector)\n",
    "    function_value = function().subs({x:soln[0],y:soln[1],z:soln[2],w:soln[3]})\n",
    "    print 'iteration',k,'Mu: ',10**k,'x1 x2 x3 x4 = ',round(soln[0],3),round(soln[1],3),round(soln[2],3),round(soln[3],3),'f(x1,x2): ',round(function_value,9)\n",
    "    soln0 = soln  \n",
    "    if abs((g1.subs({x:soln[0],y:soln[1],z:soln[2],w:soln[3]}))) < 10**(-17):\n",
    "        break\n",
    "print \"Converged Successfully in iterations: \",k\n"
   ]
  },
  {
   "cell_type": "code",
   "execution_count": null,
   "metadata": {
    "collapsed": false
   },
   "outputs": [],
   "source": []
  },
  {
   "cell_type": "code",
   "execution_count": null,
   "metadata": {
    "collapsed": true
   },
   "outputs": [],
   "source": []
  },
  {
   "cell_type": "code",
   "execution_count": null,
   "metadata": {
    "collapsed": true
   },
   "outputs": [],
   "source": []
  },
  {
   "cell_type": "code",
   "execution_count": null,
   "metadata": {
    "collapsed": false
   },
   "outputs": [],
   "source": []
  },
  {
   "cell_type": "code",
   "execution_count": null,
   "metadata": {
    "collapsed": true
   },
   "outputs": [],
   "source": []
  },
  {
   "cell_type": "code",
   "execution_count": null,
   "metadata": {
    "collapsed": true
   },
   "outputs": [],
   "source": []
  }
 ],
 "metadata": {
  "kernelspec": {
   "display_name": "Python 2",
   "language": "python",
   "name": "python2"
  },
  "language_info": {
   "codemirror_mode": {
    "name": "ipython",
    "version": 2
   },
   "file_extension": ".py",
   "mimetype": "text/x-python",
   "name": "python",
   "nbconvert_exporter": "python",
   "pygments_lexer": "ipython2",
   "version": "2.7.10"
  }
 },
 "nbformat": 4,
 "nbformat_minor": 0
}
