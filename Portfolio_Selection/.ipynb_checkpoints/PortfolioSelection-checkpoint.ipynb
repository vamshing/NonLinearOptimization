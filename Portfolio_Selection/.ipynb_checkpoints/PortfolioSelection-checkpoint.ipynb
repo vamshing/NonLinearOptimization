{
 "cells": [
  {
   "cell_type": "markdown",
   "metadata": {},
   "source": [
    "### Portfolio Selection"
   ]
  },
  {
   "cell_type": "markdown",
   "metadata": {},
   "source": [
    "#### Objective: \n",
    "\n",
    "The goal of this problem is to find the optimal portfolio of securities. \n",
    "An optimal portfolio is one that maximizes return on investment, while \n",
    "it mitigates the variance, thereby the risk. The two competing objectives - \n",
    "in **Risk** and **Return**, will formulate the problem as a multi-objective \n",
    "problem.\n",
    "\n",
    "\n",
    "**The objective is defined as:**\n",
    "\n",
    "\\\\begin{equation}\n",
    "min \\ {f_1(x),f_2(x)}\n",
    "\\\\end{equation}\n",
    "\n",
    "\\\\begin{equation}\n",
    "such \\ that \\ x_1 + x_2 + x_3 + x_4  = 1\n",
    "\\\\end{equation}\n",
    "\n",
    "\\\\begin{equation}\n",
    "subject \\ to \\  x_1,x_2,x_3,x_4 >= 0\n",
    "\\\\end{equation}\n",
    "\n",
    "\\\\begin{equation}\n",
    " \\ f_1(x) =  0.5 x^T \\sigma_c x_i\n",
    "\\\\end{equation}\n",
    "\n",
    "\\\\begin{equation}\n",
    " \\ f_2(x) =  - \\sum_1^n \\mu_i x_i\n",
    "\\\\end{equation}\n",
    "\n",
    "- f1 the variance in the returns from the assets\n",
    "- f2 the return from the assets\n",
    "- $\\mu_i$ is the Expected value of the security i and variance $\\sigma_i$\n",
    "- $\\sigma_c$ is the covariance between assets i and j\n",
    "- $x_1,x_2,x_3,x_4$ are the proportion of the investment in the portfolios - A,B,C,D\n",
    "- We are going to maximize the returns while minimize the variance"
   ]
  },
  {
   "cell_type": "markdown",
   "metadata": {},
   "source": [
    "#### Returns:\n",
    "- Expected Return of Assets - A,B,C,D\n",
    "- rit = (r1t, r2t, r3t, r4t)\n",
    "- The quantities $\\mu$ and $\\sigma$ are determined from stock market data."
   ]
  },
  {
   "cell_type": "code",
   "execution_count": 44,
   "metadata": {
    "collapsed": false
   },
   "outputs": [
    {
     "data": {
      "text/html": [
       "<div style=\"max-height:1000px;max-width:1500px;overflow:auto;\">\n",
       "<table border=\"1\" class=\"dataframe\">\n",
       "  <thead>\n",
       "    <tr style=\"text-align: right;\">\n",
       "      <th></th>\n",
       "      <th>A</th>\n",
       "      <th>B</th>\n",
       "      <th>C</th>\n",
       "      <th>D</th>\n",
       "    </tr>\n",
       "  </thead>\n",
       "  <tbody>\n",
       "    <tr>\n",
       "      <th>0</th>\n",
       "      <td>0.00630</td>\n",
       "      <td>0.00660</td>\n",
       "      <td>0.00107</td>\n",
       "      <td>0.02340</td>\n",
       "    </tr>\n",
       "    <tr>\n",
       "      <th>1</th>\n",
       "      <td>0.00150</td>\n",
       "      <td>0.00762</td>\n",
       "      <td>-0.06840</td>\n",
       "      <td>-0.07530</td>\n",
       "    </tr>\n",
       "    <tr>\n",
       "      <th>2</th>\n",
       "      <td>0.01861</td>\n",
       "      <td>-0.02480</td>\n",
       "      <td>0.02876</td>\n",
       "      <td>0.08761</td>\n",
       "    </tr>\n",
       "    <tr>\n",
       "      <th>3</th>\n",
       "      <td>0.03560</td>\n",
       "      <td>-0.05510</td>\n",
       "      <td>0.03200</td>\n",
       "      <td>0.03150</td>\n",
       "    </tr>\n",
       "    <tr>\n",
       "      <th>4</th>\n",
       "      <td>0.10110</td>\n",
       "      <td>0.01120</td>\n",
       "      <td>0.11810</td>\n",
       "      <td>0.10390</td>\n",
       "    </tr>\n",
       "    <tr>\n",
       "      <th>5</th>\n",
       "      <td>0.09110</td>\n",
       "      <td>0.00190</td>\n",
       "      <td>-0.01123</td>\n",
       "      <td>-0.10090</td>\n",
       "    </tr>\n",
       "    <tr>\n",
       "      <th>6</th>\n",
       "      <td>0.09810</td>\n",
       "      <td>0.78910</td>\n",
       "      <td>-0.00121</td>\n",
       "      <td>-0.01210</td>\n",
       "    </tr>\n",
       "    <tr>\n",
       "      <th>7</th>\n",
       "      <td>0.10090</td>\n",
       "      <td>0.09120</td>\n",
       "      <td>0.01231</td>\n",
       "      <td>0.09780</td>\n",
       "    </tr>\n",
       "    <tr>\n",
       "      <th>8</th>\n",
       "      <td>0.06700</td>\n",
       "      <td>0.07810</td>\n",
       "      <td>0.07910</td>\n",
       "      <td>0.07820</td>\n",
       "    </tr>\n",
       "    <tr>\n",
       "      <th>9</th>\n",
       "      <td>0.18190</td>\n",
       "      <td>0.09110</td>\n",
       "      <td>0.08120</td>\n",
       "      <td>0.10120</td>\n",
       "    </tr>\n",
       "  </tbody>\n",
       "</table>\n",
       "</div>"
      ],
      "text/plain": [
       "         A        B        C        D\n",
       "0  0.00630  0.00660  0.00107  0.02340\n",
       "1  0.00150  0.00762 -0.06840 -0.07530\n",
       "2  0.01861 -0.02480  0.02876  0.08761\n",
       "3  0.03560 -0.05510  0.03200  0.03150\n",
       "4  0.10110  0.01120  0.11810  0.10390\n",
       "5  0.09110  0.00190 -0.01123 -0.10090\n",
       "6  0.09810  0.78910 -0.00121 -0.01210\n",
       "7  0.10090  0.09120  0.01231  0.09780\n",
       "8  0.06700  0.07810  0.07910  0.07820\n",
       "9  0.18190  0.09110  0.08120  0.10120"
      ]
     },
     "execution_count": 44,
     "metadata": {},
     "output_type": "execute_result"
    }
   ],
   "source": [
    "Return_table"
   ]
  },
  {
   "cell_type": "markdown",
   "metadata": {},
   "source": [
    "#### Further calculations: \n",
    "- The geometric mean for asset i is calculated as:\n",
    "$ \\mu_i $ is the geometric mean of all the assets i\n",
    "\n",
    "\\\\begin{equation}\n",
    " \\\\pi_{i=1}^{10} ( 1+ r_ij )^{T^-1} - 1\n",
    "\\\\end{equation}\n",
    "\n",
    "- The covariance between the assets i and j is calculated as:\n",
    "\n",
    "\\\\begin{equation}\n",
    " \\ \\sigma_c = (1/T) \\sum_1^n ( r_it - r_i) ( r_jt - r_j)\n",
    "\\\\end{equation}\n",
    "\n",
    "- where rˆi and rˆj are the arithmetic mean of assets i and j."
   ]
  },
  {
   "cell_type": "markdown",
   "metadata": {},
   "source": [
    "#### The covariance matrix($\\sigma_c$) results in:  "
   ]
  },
  {
   "cell_type": "code",
   "execution_count": 16,
   "metadata": {
    "collapsed": false
   },
   "outputs": [
    {
     "data": {
      "text/plain": [
       "array([[ 0.00314014,  0.0041508 ,  0.00162361,  0.00143165],\n",
       "       [ 0.0041508 ,  0.06109909, -0.00167029, -0.00245394],\n",
       "       [ 0.00162361, -0.00167029,  0.00291397,  0.0031798 ],\n",
       "       [ 0.00143165, -0.00245394,  0.0031798 ,  0.00563179]])"
      ]
     },
     "execution_count": 16,
     "metadata": {},
     "output_type": "execute_result"
    }
   ],
   "source": [
    "sigma_i_j"
   ]
  },
  {
   "cell_type": "markdown",
   "metadata": {},
   "source": [
    "#### The geometric mean results in: "
   ]
  },
  {
   "cell_type": "code",
   "execution_count": 14,
   "metadata": {
    "collapsed": false
   },
   "outputs": [
    {
     "data": {
      "text/plain": [
       "[0.068908335389828101,\n",
       " 0.080776084248156854,\n",
       " 0.025892621885867273,\n",
       " 0.03098611592954259]"
      ]
     },
     "execution_count": 14,
     "metadata": {},
     "output_type": "execute_result"
    }
   ],
   "source": [
    "geom_mu"
   ]
  },
  {
   "cell_type": "markdown",
   "metadata": {},
   "source": [
    "By introducing $\\alpha$ and $\\beta$\n",
    "\n",
    "\\\\begin{equation}\n",
    "max \\ f(x,y) =  {\\alpha f_1(x,y) + \\beta f_2(x,y)}\n",
    "\\\\end{equation}\n",
    "\n",
    "- The Pareto frontier is developed as a solution space by weighting the objectives\n",
    "- The weights are assigned arbitrarily complimenting each other which sum up to 1\n",
    "- Initially we proceed by equal weighting $\\alpha$ = 0.5 and $\\beta$ = 0.5"
   ]
  },
  {
   "cell_type": "markdown",
   "metadata": {},
   "source": [
    "### Non-linear optimization: Using Exterior Penalty method"
   ]
  },
  {
   "cell_type": "markdown",
   "metadata": {},
   "source": [
    "**Method Used:**\n",
    "\n",
    "$$\n",
    "\\begin{align*}\n",
    "    \\psi(x,\\rho_p) &= J(X) + \\rho_p*P(X)\\\\\n",
    "    P(X) &= {\\sum_{j=1}^{n}max [0,g_j(X)]^2} + {\\sum_{k=1}^{m_2} h_k(x)^2}\\\\\n",
    "\\end{align*}\n",
    "$$\n"
   ]
  },
  {
   "cell_type": "markdown",
   "metadata": {},
   "source": [
    "- if all constraints are satisfied, then **P(x)=0**\n",
    "- **$ \\rho_p $** = penalty parameter; starts as a small number and increases\n",
    "- if **$ \\rho_p $** is small, **$ \\psi(x,\\rho_p) $** is easy to minimize but yields large constraint violations\n",
    "- if **$ \\rho_p $** is large, constraints are all nearly satisfied but optimization problem is numerically ill-conditioned\n",
    "- if optimization stops before convergence is reached, the design will be infeasible"
   ]
  },
  {
   "cell_type": "markdown",
   "metadata": {},
   "source": [
    "**Penalty Function Used:**\n",
    "\n",
    "$$\n",
    "\\begin{align*}\n",
    "    \\psi(x,\\rho_p) &= J(X) + \\rho_p*({\\sum_{j=1}^{n} [g_j(X)]^2} + {\\sum_{k=1}^{m_2} h_k(x)^2})\\\\\n",
    "\\end{align*}\n",
    "$$\n",
    "\n",
    "- **$g_j(X)$** contains those inequality constraints that are violated at x\n",
    "- It can be shown that as $\\rho_p->large$ $lim (x*(\\rho_p))=x*$\n",
    "- $\\psi(x,\\rho_p)$ is defined everywhere"
   ]
  },
  {
   "cell_type": "markdown",
   "metadata": {},
   "source": [
    "**Algorithm Used:**\n",
    "\n",
    "- choose $\\rho_0$, set $k=10^0$\n",
    "- find min $\\psi(x,\\rho_k)$ => $x_k*$\n",
    "- if not converged, set $ 10^{k+1} $ > $ 10^{k} $ , k <- k+1 and repeat"
   ]
  },
  {
   "cell_type": "markdown",
   "metadata": {},
   "source": [
    "**Implementation:**"
   ]
  },
  {
   "cell_type": "code",
   "execution_count": 64,
   "metadata": {
    "collapsed": false
   },
   "outputs": [],
   "source": [
    "import numpy as np\n",
    "from sympy import *\n",
    "import math\n",
    "import scipy\n",
    "import pandas as pd\n",
    "import warnings\n",
    "from ggplot import *\n",
    "%matplotlib inline\n",
    "warnings.filterwarnings(\"ignore\")"
   ]
  },
  {
   "cell_type": "markdown",
   "metadata": {},
   "source": [
    "#### Pre-process to compute geometric mean and covariance"
   ]
  },
  {
   "cell_type": "code",
   "execution_count": 65,
   "metadata": {
    "collapsed": true
   },
   "outputs": [],
   "source": [
    "Return_table  = pd.DataFrame()\n",
    "Return_table['A'] = np.array([.0063,.0015,.01861,.0356,.1011,.0911,.0981,.1009,.0670,.1819])\n",
    "Return_table['B'] = np.array([.0066,.00762,-.0248,-.0551,.0112,.0019,.7891,.0912,.0781,.0911])\n",
    "Return_table['C'] = np.array([.00107,-.0684,.02876,.0320,.1181,-.01123,-.00121,.01231,.0791,.0812])\n",
    "Return_table['D'] = np.array([.0234,-.0753,.08761,.0315,.1039,-.1009,-.0121,.0978,.0782,.1012])\n",
    "\n",
    "def geom_mean():\n",
    "    mu_A,mu_B,mu_C,mu_D = 1,1,1,1\n",
    "    for i in range(len(Return_table)):\n",
    "        mu_A *= (1+Return_table.loc[i,'A'])\n",
    "        mu_B *= (1+Return_table.loc[i,'B'])\n",
    "        mu_C *= (1+Return_table.loc[i,'C'])\n",
    "        mu_D *= (1+Return_table.loc[i,'D'])\n",
    "    return [mu_A**(.1) - 1,mu_B**.10 - 1,mu_C**.10 - 1,mu_D**.10 - 1]\n",
    "\n",
    "geom_mu = geom_mean()\n",
    "sigma_i_j = np.cov(np.array([Return_table['A'], Return_table['B'], Return_table['C'],Return_table['D']]))"
   ]
  },
  {
   "cell_type": "markdown",
   "metadata": {},
   "source": [
    "#### Exterior Penalty method implementation"
   ]
  },
  {
   "cell_type": "code",
   "execution_count": 78,
   "metadata": {
    "collapsed": false
   },
   "outputs": [],
   "source": [
    "def function(w1,w2):\n",
    "    x, y, z, w = symbols('x y z w',real=True)\n",
    "    arr = np.matrix([[x],[y],[z],[w]])\n",
    "    return (((arr.T) * sigma_i_j * arr)*w1 - (geom_mu * arr)*w2).item(0)\n",
    "\n",
    "def constratints():\n",
    "    x, y, z, w = symbols('x y z w',real=True)\n",
    "    g1 = x + y + z + w - 1\n",
    "    g2,g3,g4,g5 = x,y,z,w\n",
    "    return g1,g2,g3,g4,g5\n",
    "\n",
    "def penalized_function(mu,g1,g2,g3,g4,g5,w1,w2):\n",
    "    return function(w1,w2) + mu * (g1**2) + mu*((g2**2) + (g3**2) + (g4**2) + (g5**2))\n",
    "\n",
    "def non_linear_solve(mu,g1,g2,g3,g4,g5,starting_vector,w1,w2):\n",
    "    return np.array(nsolve([diff(penalized_function(mu,g1,g2,g3,g4,g5,w1,w2),x),diff(penalized_function(mu,g1,g2,g3,g4,g5,w1,w2),y),diff(penalized_function(mu,g1,g2,g3,g4,g5,w1,w2),z),diff(penalized_function(mu,g1,g2,g3,g4,g5,w1,w2),w)],[x,y,z,w],starting_vector))\n",
    "   \n",
    "def check_for_constraints(a):\n",
    "    idx = np.array([])\n",
    "    for i in range(len(a)):\n",
    "        if a[i] < 0.: \n",
    "            idx = np.append(idx,1)\n",
    "        else: \n",
    "            idx = np.append(idx,0)\n",
    "    return idx"
   ]
  },
  {
   "cell_type": "code",
   "execution_count": 88,
   "metadata": {
    "collapsed": false,
    "scrolled": false
   },
   "outputs": [],
   "source": [
    "def exterior_penalty(w1,w2):\n",
    "    x, y, z, w = symbols('x y z w',real=True)\n",
    "    starting_vector = [1 for _ in range(4)]\n",
    "    g1,g2,g3,g4,g5 = constratints()\n",
    "\n",
    "    # penalize everything to get the initial vector\n",
    "    soln0 = non_linear_solve(1,g1,g2,g3,g4,g5,starting_vector,w1,w2)\n",
    "    function_value = function(w1,w2).subs({x:soln0[0],y:soln0[1],z:soln0[2],w:soln0[3]})\n",
    "\n",
    "    itr = 13\n",
    "    for k in range(itr):\n",
    "        idx = check_for_constraints(soln0)\n",
    "        soln = non_linear_solve(10**k,g1,g2*idx[0],g3*idx[1],g4*idx[2],g5*idx[3],starting_vector,w1,w2)\n",
    "        function_value = function(w1,w2).subs({x:soln[0],y:soln[1],z:soln[2],w:soln[3]})\n",
    "        print 'iteration',k,'Mu: ',10**k,'x1 x2 x3 x4 = ',round(soln[0],3),round(soln[1],3),round(soln[2],3),round(soln[3],3),'f(x1,x2): ',round(function_value,9)\n",
    "        soln0 = soln  \n",
    "        if abs((g1.subs({x:soln[0],y:soln[1],z:soln[2],w:soln[3]}))) < 10**(-17):\n",
    "            break\n",
    "    print \"Converged Successfully in iterations: \",k"
   ]
  },
  {
   "cell_type": "code",
   "execution_count": 86,
   "metadata": {
    "collapsed": false
   },
   "outputs": [
    {
     "name": "stdout",
     "output_type": "stream",
     "text": [
      "iteration 0 Mu:  1 x1 x2 x3 x4 =  9.932 -0.528 -11.263 2.868 f(x1,x2):  -0.119667831\n",
      "iteration 1 Mu:  10 x1 x2 x3 x4 =  3.922 -0.0 -0.001 -2.92 f(x1,x2):  -0.058116574\n",
      "iteration 2 Mu:  100 x1 x2 x3 x4 =  1.0 0.0 -0.0 -0.0 f(x1,x2):  -0.032892609\n",
      "iteration 3 Mu:  1000 x1 x2 x3 x4 =  0.912 0.088 -0.0 -0.0 f(x1,x2):  -0.033101573\n",
      "iteration 4 Mu:  10000 x1 x2 x3 x4 =  0.912 0.088 -0.0 -0.0 f(x1,x2):  -0.033100834\n",
      "iteration 5 Mu:  100000 x1 x2 x3 x4 =  0.912 0.088 -0.0 -0.0 f(x1,x2):  -0.03310076\n",
      "iteration 6 Mu:  1000000 x1 x2 x3 x4 =  0.912 0.088 -0.0 -0.0 f(x1,x2):  -0.033100752\n",
      "iteration 7 Mu:  10000000 x1 x2 x3 x4 =  0.912 0.088 -0.0 -0.0 f(x1,x2):  -0.033100752\n",
      "iteration 8 Mu:  100000000 x1 x2 x3 x4 =  0.912 0.088 -0.0 -0.0 f(x1,x2):  -0.033100751\n",
      "iteration 9 Mu:  1000000000 x1 x2 x3 x4 =  0.912 0.088 -0.0 -0.0 f(x1,x2):  -0.033100751\n",
      "iteration 10 Mu:  10000000000 x1 x2 x3 x4 =  0.914 0.086 -0.0 -0.0 f(x1,x2):  -0.033100646\n",
      "iteration 11 Mu:  100000000000 x1 x2 x3 x4 =  0.911 0.089 -0.0 -0.0 f(x1,x2):  -0.0331007\n",
      "iteration 12 Mu:  1000000000000 x1 x2 x3 x4 =  0.833 0.167 -0.0 -0.0 f(x1,x2):  -0.032927723\n",
      "Converged Successfully in iterations:  12\n"
     ]
    }
   ],
   "source": [
    "exterior_penalty(0.5,0.5)"
   ]
  },
  {
   "cell_type": "markdown",
   "metadata": {},
   "source": [
    "#### Results:\n",
    "- The converging function value is **-0.032927723**\n",
    "- Using the initial value as Mu = 10^0 = 1 final solution of x is **[ 0.833 0.167 -0.0 -0.0]**\n",
    "- The algorithm converged in **12 iterations** using the above mu values and tolerance of **10^-8** in constraints\n",
    "\n",
    "The investment strategy would be:\n",
    "\n",
    "For equal weights of risk and return $\\alpha$ = 0.5 and $\\beta$ = 0.5\n",
    "- X1 = 83.33%\n",
    "- X2 = 16.7%\n",
    "- X3 = 00.00%\n",
    "- X4 = 00.00%\n",
    "\n",
    "The **Risk** & **Return**:"
   ]
  },
  {
   "cell_type": "code",
   "execution_count": 125,
   "metadata": {
    "collapsed": false
   },
   "outputs": [
    {
     "data": {
      "text/plain": [
       "0.00503774215370480"
      ]
     },
     "execution_count": 125,
     "metadata": {},
     "output_type": "execute_result"
    }
   ],
   "source": [
    "function1(1.,0.).subs({x:0.833,y:0.167,z:0.,w:0.})"
   ]
  },
  {
   "cell_type": "markdown",
   "metadata": {},
   "source": [
    "The **Risk** = 0.0050377"
   ]
  },
  {
   "cell_type": "code",
   "execution_count": 61,
   "metadata": {
    "collapsed": false
   },
   "outputs": [
    {
     "data": {
      "text/plain": [
       "-0.0708902494491690"
      ]
     },
     "execution_count": 61,
     "metadata": {},
     "output_type": "execute_result"
    }
   ],
   "source": [
    "function1(0.,1.).subs({x:0.833,y:0.167,z:0.,w:0.})"
   ]
  },
  {
   "cell_type": "markdown",
   "metadata": {},
   "source": [
    "The **Return** = -0.070890"
   ]
  },
  {
   "cell_type": "markdown",
   "metadata": {
    "collapsed": false
   },
   "source": [
    "#### Additional Comments:\n",
    "\n",
    "- Convergence criteria is: 20 maximum iterations or **constraints satisfied**\n",
    "- Allowing for tolerance in the constraints around **10^-8**, the iterations are further increased\n",
    "- Mu values in **12 iterations** increase to the powers of 10.\n",
    "- The computed values are cross-validated by checking plugging in these values given by the criteria defined above and checking for constraints."
   ]
  },
  {
   "cell_type": "markdown",
   "metadata": {
    "collapsed": true
   },
   "source": [
    "### Pareto Frontier: using random uniform weights"
   ]
  },
  {
   "cell_type": "markdown",
   "metadata": {
    "collapsed": false
   },
   "source": [
    "#### Approach:\n",
    "\n",
    "- We are going to vary $\\alpha$ and $\\beta$ by generating **random uniform** numbers between 0 and 1 such that $\\alpha$ + $\\beta$ = 1\n",
    "- For each combination of $\\alpha$ and $\\beta$, we shall compute the **Return** and **Risk**, by generating the **solution space** for the investment strategy"
   ]
  },
  {
   "cell_type": "markdown",
   "metadata": {
    "collapsed": true
   },
   "source": [
    "#### Implementation:"
   ]
  },
  {
   "cell_type": "code",
   "execution_count": null,
   "metadata": {
    "collapsed": true
   },
   "outputs": [],
   "source": [
    "import random\n",
    "x, y=symbols('x y',real=True)\n",
    "\n",
    "def exterior_penalty_test(w1,w2):\n",
    "    x, y, z, w = symbols('x y z w',real=True)\n",
    "    starting_vector = [1 for _ in range(4)]\n",
    "    g1,g2,g3,g4,g5 = constratints()\n",
    "    soln0 = non_linear_solve(1,g1,g2,g3,g4,g5,starting_vector,w1,w2)\n",
    "    function_value = function(w1,w2).subs({x:soln0[0],y:soln0[1],z:soln0[2],w:soln0[3]})\n",
    "    itr = 20\n",
    "    for k in range(itr):\n",
    "        idx = check_for_constraints(soln0)\n",
    "        soln = non_linear_solve(10**k,g1,g2*idx[0],g3*idx[1],g4*idx[2],g5*idx[3],starting_vector,w1,w2)\n",
    "        function_value = function(w1,w2).subs({x:soln[0],y:soln[1],z:soln[2],w:soln[3]})\n",
    "        soln0 = soln  \n",
    "        if abs((g1.subs({x:soln[0],y:soln[1],z:soln[2],w:soln[3]}))) < 10**(-8):\n",
    "            break\n",
    "    # x1,x2,x3,x4,risk,return,objective\n",
    "    return round(soln[0],2),round(soln[1],2),round(soln[2],2),round(soln[3],2),round(function(1.,0.).subs({x:soln[0],y:soln[1],z:soln[2],w:soln[3]}),4),round(function(0.,1.).subs({x:soln[0],y:soln[1],z:soln[2],w:soln[3]}),4),round(function(w1,w2).subs({x:soln[0],y:soln[1],z:soln[2],w:soln[3]}),4)"
   ]
  },
  {
   "cell_type": "markdown",
   "metadata": {},
   "source": [
    "#### Simulaiton - for 10 trials of random uniform weights:"
   ]
  },
  {
   "cell_type": "code",
   "execution_count": 121,
   "metadata": {
    "collapsed": false
   },
   "outputs": [],
   "source": [
    "def simulation(trials):\n",
    "    result = pd.DataFrame()\n",
    "    for i in range(trials):\n",
    "    # compute the random uniform weights    \n",
    "        w1 = random.uniform(0,1)\n",
    "        w2 = 1.0 - w1\n",
    "        x1,x2,x3,x4,risk,retu,objective =  exterior_penalty_test(w1,w2)\n",
    "        result.loc[i,'Risk weight(alpha)'],result.loc[i,'Return weight(beta)'] = round(w1*100,0),round(w2*100,0)\n",
    "        result.loc[i,'x1'],result.loc[i,'x2'],result.loc[i,'x3'] = x1,x2,x3\n",
    "        result.loc[i,'x4'] = x4\n",
    "        result.loc[i,'Risk'] = risk\n",
    "        result.loc[i,'Return'] = retu\n",
    "        result.loc[i,'Objective'] = objective\n",
    "    return result"
   ]
  },
  {
   "cell_type": "code",
   "execution_count": 122,
   "metadata": {
    "collapsed": false
   },
   "outputs": [
    {
     "data": {
      "text/html": [
       "<div style=\"max-height:1000px;max-width:1500px;overflow:auto;\">\n",
       "<table border=\"1\" class=\"dataframe\">\n",
       "  <thead>\n",
       "    <tr style=\"text-align: right;\">\n",
       "      <th></th>\n",
       "      <th>Risk weight(alpha)</th>\n",
       "      <th>Return weight(beta)</th>\n",
       "      <th>x1</th>\n",
       "      <th>x2</th>\n",
       "      <th>x3</th>\n",
       "      <th>x4</th>\n",
       "      <th>Risk</th>\n",
       "      <th>Return</th>\n",
       "      <th>Objective</th>\n",
       "    </tr>\n",
       "  </thead>\n",
       "  <tbody>\n",
       "    <tr>\n",
       "      <th>0</th>\n",
       "      <td>69</td>\n",
       "      <td>31</td>\n",
       "      <td>0.97</td>\n",
       "      <td>0.03</td>\n",
       "      <td>-0</td>\n",
       "      <td>-0.00</td>\n",
       "      <td>0.0033</td>\n",
       "      <td>-0.0693</td>\n",
       "      <td>-0.0195</td>\n",
       "    </tr>\n",
       "    <tr>\n",
       "      <th>1</th>\n",
       "      <td>58</td>\n",
       "      <td>42</td>\n",
       "      <td>0.94</td>\n",
       "      <td>0.06</td>\n",
       "      <td>-0</td>\n",
       "      <td>-0.00</td>\n",
       "      <td>0.0035</td>\n",
       "      <td>-0.0696</td>\n",
       "      <td>-0.0275</td>\n",
       "    </tr>\n",
       "    <tr>\n",
       "      <th>2</th>\n",
       "      <td>35</td>\n",
       "      <td>65</td>\n",
       "      <td>0.82</td>\n",
       "      <td>0.18</td>\n",
       "      <td>-0</td>\n",
       "      <td>-0.00</td>\n",
       "      <td>0.0054</td>\n",
       "      <td>-0.0711</td>\n",
       "      <td>-0.0447</td>\n",
       "    </tr>\n",
       "    <tr>\n",
       "      <th>3</th>\n",
       "      <td>32</td>\n",
       "      <td>68</td>\n",
       "      <td>0.79</td>\n",
       "      <td>0.21</td>\n",
       "      <td>-0</td>\n",
       "      <td>-0.00</td>\n",
       "      <td>0.0061</td>\n",
       "      <td>-0.0714</td>\n",
       "      <td>-0.0470</td>\n",
       "    </tr>\n",
       "    <tr>\n",
       "      <th>4</th>\n",
       "      <td>44</td>\n",
       "      <td>56</td>\n",
       "      <td>0.88</td>\n",
       "      <td>0.12</td>\n",
       "      <td>-0</td>\n",
       "      <td>-0.00</td>\n",
       "      <td>0.0042</td>\n",
       "      <td>-0.0703</td>\n",
       "      <td>-0.0378</td>\n",
       "    </tr>\n",
       "    <tr>\n",
       "      <th>5</th>\n",
       "      <td>94</td>\n",
       "      <td>6</td>\n",
       "      <td>0.93</td>\n",
       "      <td>-0.00</td>\n",
       "      <td>-0</td>\n",
       "      <td>0.07</td>\n",
       "      <td>0.0029</td>\n",
       "      <td>-0.0662</td>\n",
       "      <td>-0.0014</td>\n",
       "    </tr>\n",
       "    <tr>\n",
       "      <th>6</th>\n",
       "      <td>66</td>\n",
       "      <td>34</td>\n",
       "      <td>0.96</td>\n",
       "      <td>0.04</td>\n",
       "      <td>-0</td>\n",
       "      <td>-0.00</td>\n",
       "      <td>0.0033</td>\n",
       "      <td>-0.0693</td>\n",
       "      <td>-0.0215</td>\n",
       "    </tr>\n",
       "    <tr>\n",
       "      <th>7</th>\n",
       "      <td>39</td>\n",
       "      <td>61</td>\n",
       "      <td>0.85</td>\n",
       "      <td>0.15</td>\n",
       "      <td>-0</td>\n",
       "      <td>-0.00</td>\n",
       "      <td>0.0047</td>\n",
       "      <td>-0.0707</td>\n",
       "      <td>-0.0414</td>\n",
       "    </tr>\n",
       "    <tr>\n",
       "      <th>8</th>\n",
       "      <td>42</td>\n",
       "      <td>58</td>\n",
       "      <td>0.87</td>\n",
       "      <td>0.13</td>\n",
       "      <td>-0</td>\n",
       "      <td>-0.00</td>\n",
       "      <td>0.0043</td>\n",
       "      <td>-0.0704</td>\n",
       "      <td>-0.0390</td>\n",
       "    </tr>\n",
       "    <tr>\n",
       "      <th>9</th>\n",
       "      <td>24</td>\n",
       "      <td>76</td>\n",
       "      <td>0.68</td>\n",
       "      <td>0.32</td>\n",
       "      <td>-0</td>\n",
       "      <td>-0.00</td>\n",
       "      <td>0.0096</td>\n",
       "      <td>-0.0727</td>\n",
       "      <td>-0.0531</td>\n",
       "    </tr>\n",
       "  </tbody>\n",
       "</table>\n",
       "</div>"
      ],
      "text/plain": [
       "   Risk weight(alpha)  Return weight(beta)    x1    x2  x3    x4    Risk  \\\n",
       "0                  69                   31  0.97  0.03  -0 -0.00  0.0033   \n",
       "1                  58                   42  0.94  0.06  -0 -0.00  0.0035   \n",
       "2                  35                   65  0.82  0.18  -0 -0.00  0.0054   \n",
       "3                  32                   68  0.79  0.21  -0 -0.00  0.0061   \n",
       "4                  44                   56  0.88  0.12  -0 -0.00  0.0042   \n",
       "5                  94                    6  0.93 -0.00  -0  0.07  0.0029   \n",
       "6                  66                   34  0.96  0.04  -0 -0.00  0.0033   \n",
       "7                  39                   61  0.85  0.15  -0 -0.00  0.0047   \n",
       "8                  42                   58  0.87  0.13  -0 -0.00  0.0043   \n",
       "9                  24                   76  0.68  0.32  -0 -0.00  0.0096   \n",
       "\n",
       "   Return  Objective  \n",
       "0 -0.0693    -0.0195  \n",
       "1 -0.0696    -0.0275  \n",
       "2 -0.0711    -0.0447  \n",
       "3 -0.0714    -0.0470  \n",
       "4 -0.0703    -0.0378  \n",
       "5 -0.0662    -0.0014  \n",
       "6 -0.0693    -0.0215  \n",
       "7 -0.0707    -0.0414  \n",
       "8 -0.0704    -0.0390  \n",
       "9 -0.0727    -0.0531  "
      ]
     },
     "execution_count": 122,
     "metadata": {},
     "output_type": "execute_result"
    }
   ],
   "source": [
    "result = simulation(10)\n",
    "result"
   ]
  },
  {
   "cell_type": "code",
   "execution_count": 133,
   "metadata": {
    "collapsed": false
   },
   "outputs": [],
   "source": [
    "df = simulation(100)"
   ]
  },
  {
   "cell_type": "code",
   "execution_count": 140,
   "metadata": {
    "collapsed": false
   },
   "outputs": [
    {
     "data": {
      "image/png": "[encoded data removed]",
      "text/plain": [
       "<matplotlib.figure.Figure at 0x112d40790>"
      ]
     },
     "metadata": {},
     "output_type": "display_data"
    },
    {
     "data": {
      "text/plain": [
       "<ggplot: (290540997)>"
      ]
     },
     "execution_count": 140,
     "metadata": {},
     "output_type": "execute_result"
    }
   ],
   "source": [
    "ggplot(aes(x='Risk', y='Return'), data=df) +\\\n",
    "    geom_point(color = 'blue',alpha = 0.5) +\\\n",
    "    ggtitle(\"Pareto Frontier: Overview from 100 random uniform weights\") + \\\n",
    "    stat_smooth(colour='blue',span = 0.0) "
   ]
  },
  {
   "cell_type": "markdown",
   "metadata": {},
   "source": [
    "### Results:\n",
    "\n",
    "- As expected, we could see the curve for Risk vs Return curve steepest at high returns during minimum risk (inverse realtion)\n",
    "- The returns decrease slowly, while the risk moves increases"
   ]
  }
 ],
 "metadata": {
  "kernelspec": {
   "display_name": "Python 2",
   "language": "python",
   "name": "python2"
  },
  "language_info": {
   "codemirror_mode": {
    "name": "ipython",
    "version": 2
   },
   "file_extension": ".py",
   "mimetype": "text/x-python",
   "name": "python",
   "nbconvert_exporter": "python",
   "pygments_lexer": "ipython2",
   "version": "2.7.10"
  }
 },
 "nbformat": 4,
 "nbformat_minor": 0
}
