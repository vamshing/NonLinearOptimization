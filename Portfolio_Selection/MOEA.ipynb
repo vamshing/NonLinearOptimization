{
 "cells": [
  {
   "cell_type": "markdown",
   "metadata": {},
   "source": [
    "### 2. Multi-Objective Programming"
   ]
  },
  {
   "cell_type": "markdown",
   "metadata": {},
   "source": [
    "\n",
    "\n",
    "\\\\begin{equation}\n",
    "max \\ {(10x + y,-8x + 2y)}\n",
    "\\\\end{equation}\n",
    "\n",
    "\\\\begin{equation}\n",
    "constraints \\   x + y <= 15 \n",
    "\\\\end{equation}\n",
    "\n",
    "\\\\begin{equation}\n",
    "\\   x - y <= 5 \n",
    "\\\\end{equation}\n",
    "\n",
    "\\\\begin{equation}\n",
    "\\   x,y >= 0 \n",
    "\\\\end{equation}"
   ]
  },
  {
   "cell_type": "markdown",
   "metadata": {},
   "source": [
    "#### Objective: \n",
    "To determine the Pareto frontier for the above multi-goal problem\n",
    "\n",
    "#### Method: \n",
    "- The Pareto frontier is developed as a solution space by weighting the objectives\n",
    "- The weights are assigned arbitrarily complimenting each other which sum up to 1\n",
    "- Simple linear programming is used to solve the constrained linear optimization problem\n",
    "\n",
    "**The objective is defined as:**\n",
    "\n",
    "\\\\begin{equation}\n",
    "f_1(x,y) =  {10x + y}\n",
    "\\\\end{equation}\n",
    "\n",
    "\\\\begin{equation}\n",
    "f_2(x,y) =  {-8x + 2y}\n",
    "\\\\end{equation}\n",
    "\n",
    "\\\\begin{equation}\n",
    "max \\ f(x,y) =  {\\alpha f_1(x,y) + \\beta f_2(x,y)}\n",
    "\\\\end{equation}\n",
    "\n",
    "\\\\begin{equation}\n",
    "subject \\ to \\   x + y <= 15 \n",
    "\\\\end{equation}\n",
    "\n",
    "\\\\begin{equation}\n",
    "\\   x - y <= 5 \n",
    "\\\\end{equation}\n",
    "\n",
    "\\\\begin{equation}\n",
    "\\   x,y >= 0 \n",
    "\\\\end{equation}\n",
    "\n",
    "\\\\begin{equation}\n",
    "\\   \\alpha+\\beta=1   \n",
    "\\\\end{equation}"
   ]
  },
  {
   "cell_type": "markdown",
   "metadata": {},
   "source": [
    "#### Implementation: \n",
    "To determine the Pareto frontier:"
   ]
  },
  {
   "cell_type": "code",
   "execution_count": null,
   "metadata": {
    "collapsed": false
   },
   "outputs": [],
   "source": [
    "import numpy as np\n",
    "from sympy import *\n",
    "import math\n",
    "import random\n",
    "from scipy.optimize import linprog\n",
    "import pandas as pd\n",
    "\n",
    "def f1(x,w1):\n",
    "    return (10*x[0] + y[1])*w1\n",
    "\n",
    "def f2(x,w2):\n",
    "    return (-8*x[0] + 2*x[1])*w2\n",
    "\n",
    "\n",
    "def function(w1,w2):\n",
    "    x, y=symbols('x y',real=True)\n",
    "    f1 =  10*x + y\n",
    "    f2 = -8*x + 2*y\n",
    "    return -((w1*f1)+(w2*f2))\n",
    "\n",
    "\n",
    "A = [[1, 1], [1, -1]] # constraint coefficients\n",
    "b = [15, 5]           # constraint coefficients\n",
    "\n",
    "c = [-1., -1.5] # objective function coefficients\n",
    "\n",
    "def linear_optimization(A,b,c):\n",
    "    x0_bounds = (0., None)\n",
    "    x1_bounds = (0., None)\n",
    "    res = linprog(c, A_ub=A, b_ub=b, bounds=(x0_bounds, x1_bounds),options={\"disp\": True})\n",
    "    return res.x"
   ]
  },
  {
   "cell_type": "code",
   "execution_count": null,
   "metadata": {
    "collapsed": false
   },
   "outputs": [],
   "source": [
    "result = pd.DataFrame()\n",
    "for i in range(10):\n",
    "    x, y=symbols('x y',real=True)\n",
    "    w1 = random.uniform(0,1)\n",
    "    w2 = 1.0 - w1\n",
    "    c = []\n",
    "    c.append(function(w1,w2).subs({x:1.,y:0.}))\n",
    "    c.append(function(w1,w2).subs({x:0.,y:1.}))\n",
    "    result.loc[i,'alpha'] = w1\n",
    "    result.loc[i,'beta'] = w2\n",
    "    \n",
    "    print linear_optimization(A,b,c)\n",
    "    \n",
    "    result.loc[i,'x'] = linear_optimization(A,b,c)[0]\n",
    "    result.loc[i,'y'] = linear_optimization(A,b,c)[1]"
   ]
  },
  {
   "cell_type": "code",
   "execution_count": null,
   "metadata": {
    "collapsed": false
   },
   "outputs": [],
   "source": [
    "result['f1'] = result['alpha'] * (10 * result['x'] + result['y'])\n",
    "result['f2'] = result['beta'] * (-8 * result['x'] + 2*result['y'])\n",
    "result['f(x,y)'] = result['alpha'] * result['x']  + result['beta'] * result['y']"
   ]
  },
  {
   "cell_type": "markdown",
   "metadata": {},
   "source": [
    "#### Results:"
   ]
  },
  {
   "cell_type": "code",
   "execution_count": 84,
   "metadata": {
    "collapsed": false
   },
   "outputs": [
    {
     "data": {
      "text/html": [
       "<div>\n",
       "<table border=\"1\" class=\"dataframe\">\n",
       "  <thead>\n",
       "    <tr style=\"text-align: right;\">\n",
       "      <th></th>\n",
       "      <th>alpha</th>\n",
       "      <th>beta</th>\n",
       "      <th>x</th>\n",
       "      <th>y</th>\n",
       "      <th>f1</th>\n",
       "      <th>f2</th>\n",
       "      <th>f(x,y)</th>\n",
       "    </tr>\n",
       "  </thead>\n",
       "  <tbody>\n",
       "    <tr>\n",
       "      <th>0</th>\n",
       "      <td>0.249748</td>\n",
       "      <td>0.750252</td>\n",
       "      <td>0</td>\n",
       "      <td>15</td>\n",
       "      <td>3.746223</td>\n",
       "      <td>22.507553</td>\n",
       "      <td>11.253777</td>\n",
       "    </tr>\n",
       "    <tr>\n",
       "      <th>1</th>\n",
       "      <td>0.218162</td>\n",
       "      <td>0.781838</td>\n",
       "      <td>0</td>\n",
       "      <td>15</td>\n",
       "      <td>3.272430</td>\n",
       "      <td>23.455140</td>\n",
       "      <td>11.727570</td>\n",
       "    </tr>\n",
       "    <tr>\n",
       "      <th>2</th>\n",
       "      <td>0.200809</td>\n",
       "      <td>0.799191</td>\n",
       "      <td>0</td>\n",
       "      <td>15</td>\n",
       "      <td>3.012133</td>\n",
       "      <td>23.975734</td>\n",
       "      <td>11.987867</td>\n",
       "    </tr>\n",
       "    <tr>\n",
       "      <th>3</th>\n",
       "      <td>0.574845</td>\n",
       "      <td>0.425155</td>\n",
       "      <td>10</td>\n",
       "      <td>5</td>\n",
       "      <td>60.358692</td>\n",
       "      <td>-29.760872</td>\n",
       "      <td>7.874223</td>\n",
       "    </tr>\n",
       "    <tr>\n",
       "      <th>4</th>\n",
       "      <td>0.863910</td>\n",
       "      <td>0.136090</td>\n",
       "      <td>10</td>\n",
       "      <td>5</td>\n",
       "      <td>90.710556</td>\n",
       "      <td>-9.526296</td>\n",
       "      <td>9.319550</td>\n",
       "    </tr>\n",
       "    <tr>\n",
       "      <th>5</th>\n",
       "      <td>0.366507</td>\n",
       "      <td>0.633493</td>\n",
       "      <td>0</td>\n",
       "      <td>15</td>\n",
       "      <td>5.497612</td>\n",
       "      <td>19.004777</td>\n",
       "      <td>9.502388</td>\n",
       "    </tr>\n",
       "    <tr>\n",
       "      <th>6</th>\n",
       "      <td>0.085135</td>\n",
       "      <td>0.914865</td>\n",
       "      <td>0</td>\n",
       "      <td>15</td>\n",
       "      <td>1.277023</td>\n",
       "      <td>27.445954</td>\n",
       "      <td>13.722977</td>\n",
       "    </tr>\n",
       "    <tr>\n",
       "      <th>7</th>\n",
       "      <td>0.289157</td>\n",
       "      <td>0.710843</td>\n",
       "      <td>0</td>\n",
       "      <td>15</td>\n",
       "      <td>4.337359</td>\n",
       "      <td>21.325283</td>\n",
       "      <td>10.662641</td>\n",
       "    </tr>\n",
       "    <tr>\n",
       "      <th>8</th>\n",
       "      <td>0.051592</td>\n",
       "      <td>0.948408</td>\n",
       "      <td>0</td>\n",
       "      <td>15</td>\n",
       "      <td>0.773884</td>\n",
       "      <td>28.452232</td>\n",
       "      <td>14.226116</td>\n",
       "    </tr>\n",
       "    <tr>\n",
       "      <th>9</th>\n",
       "      <td>0.991290</td>\n",
       "      <td>0.008710</td>\n",
       "      <td>10</td>\n",
       "      <td>5</td>\n",
       "      <td>104.085499</td>\n",
       "      <td>-0.609668</td>\n",
       "      <td>9.956452</td>\n",
       "    </tr>\n",
       "  </tbody>\n",
       "</table>\n",
       "</div>"
      ],
      "text/plain": [
       "      alpha      beta   x   y          f1         f2     f(x,y)\n",
       "0  0.249748  0.750252   0  15    3.746223  22.507553  11.253777\n",
       "1  0.218162  0.781838   0  15    3.272430  23.455140  11.727570\n",
       "2  0.200809  0.799191   0  15    3.012133  23.975734  11.987867\n",
       "3  0.574845  0.425155  10   5   60.358692 -29.760872   7.874223\n",
       "4  0.863910  0.136090  10   5   90.710556  -9.526296   9.319550\n",
       "5  0.366507  0.633493   0  15    5.497612  19.004777   9.502388\n",
       "6  0.085135  0.914865   0  15    1.277023  27.445954  13.722977\n",
       "7  0.289157  0.710843   0  15    4.337359  21.325283  10.662641\n",
       "8  0.051592  0.948408   0  15    0.773884  28.452232  14.226116\n",
       "9  0.991290  0.008710  10   5  104.085499  -0.609668   9.956452"
      ]
     },
     "execution_count": 84,
     "metadata": {},
     "output_type": "execute_result"
    }
   ],
   "source": [
    "result"
   ]
  },
  {
   "cell_type": "markdown",
   "metadata": {},
   "source": [
    "#### Plot - f1 and f2:"
   ]
  },
  {
   "cell_type": "code",
   "execution_count": 107,
   "metadata": {
    "collapsed": false
   },
   "outputs": [
    {
     "data": {
      "text/plain": [
       "<matplotlib.axes._subplots.AxesSubplot at 0x7f1bce28aa10>"
      ]
     },
     "execution_count": 107,
     "metadata": {},
     "output_type": "execute_result"
    },
    {
     "data": {
      "image/png": "[encoded data removed]",
      "text/plain": [
       "<matplotlib.figure.Figure at 0x7f1bce2930d0>"
      ]
     },
     "metadata": {},
     "output_type": "display_data"
    }
   ],
   "source": [
    "import matplotlib.pyplot as plt\n",
    "import matplotlib.pyplot\n",
    "import pylab\n",
    "%matplotlib inline\n",
    "result.plot(kind='scatter', x='f1', y='f2',s=50)"
   ]
  },
  {
   "cell_type": "markdown",
   "metadata": {},
   "source": [
    "### Concluding remarks:\n",
    "\n",
    "- The frontier has two optimal solutions **[0,15]** and **[10,5]**\n",
    "- The frontier has not many listed points which could be called as optimal.\n",
    "- The competeting objectives vary with the weights as shown above in the table\n",
    "- Lower alphas tend to gravitate towards **[0,15]** while lower betas tend to **[10,5]**"
   ]
  }
 ],
 "metadata": {
  "kernelspec": {
   "display_name": "Python 2",
   "language": "python",
   "name": "python2"
  },
  "language_info": {
   "codemirror_mode": {
    "name": "ipython",
    "version": 2
   },
   "file_extension": ".py",
   "mimetype": "text/x-python",
   "name": "python",
   "nbconvert_exporter": "python",
   "pygments_lexer": "ipython2",
   "version": "2.7.10"
  }
 },
 "nbformat": 4,
 "nbformat_minor": 0
}
