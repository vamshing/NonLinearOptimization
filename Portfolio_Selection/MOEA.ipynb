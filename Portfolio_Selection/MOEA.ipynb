{
 "cells": [
  {
   "cell_type": "code",
   "execution_count": null,
   "metadata": {
    "collapsed": true
   },
   "outputs": [],
   "source": [
    "import numpy as np\n",
    "from sympy import *\n",
    "import math\n",
    "from scipy.optimize import linprog\n",
    "\n",
    "def f1(x):\n",
    "    return 10*x[0] + y[1]\n",
    "\n",
    "def f2(x):\n",
    "    return -8*x[0] + 2*x[1]\n",
    "\n",
    "\n",
    "def function():\n",
    "    x, y=symbols('x y',real=True)\n",
    "    f1 =  10*x + y\n",
    "    f2 = -8*x + 2*y\n",
    "    w1 = .5\n",
    "    w2 = .5\n",
    "    return -((w1*f1)+(w2*f2))\n",
    "\n",
    "def constratints():\n",
    "    x, y=symbols('x y',real=True)\n",
    "    g1 = (-1)*(x+y-15)\n",
    "    g2 = (-1)*(x-y-5)\n",
    "    return g1,g2\n",
    "\n",
    "\n",
    "function()\n",
    "\n",
    "c = [-1., -1.5]\n",
    "A = [[1, 1], [1, -1]]\n",
    "b = [15, 5]\n",
    "x0_bounds = (0., None)\n",
    "x1_bounds = (0., None)\n",
    "\n",
    "res = scipy.optimize.linprog(c, A_ub=A, b_ub=b, bounds=(x0_bounds, x1_bounds),options={\"disp\": True})\n",
    "\n",
    "print res"
   ]
  },
  {
   "cell_type": "code",
   "execution_count": null,
   "metadata": {
    "collapsed": true
   },
   "outputs": [],
   "source": []
  }
 ],
 "metadata": {
  "kernelspec": {
   "display_name": "Python 2",
   "language": "python",
   "name": "python2"
  },
  "language_info": {
   "codemirror_mode": {
    "name": "ipython",
    "version": 2
   },
   "file_extension": ".py",
   "mimetype": "text/x-python",
   "name": "python",
   "nbconvert_exporter": "python",
   "pygments_lexer": "ipython2",
   "version": "2.7.10"
  }
 },
 "nbformat": 4,
 "nbformat_minor": 0
}
