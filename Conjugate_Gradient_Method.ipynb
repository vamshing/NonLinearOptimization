{
 "cells": [
  {
   "cell_type": "markdown",
   "metadata": {},
   "source": [
    "##  Conjugate Gradient Method:"
   ]
  },
  {
   "cell_type": "markdown",
   "metadata": {},
   "source": [
    "\\\\begin{equation}\n",
    "min \\ f(x),\\ f(x) = 0.5x^T A x - b^T x\n",
    "\\\\end{equation}"
   ]
  },
  {
   "cell_type": "markdown",
   "metadata": {},
   "source": [
    "\\\\begin{equation}\n",
    "\\ Using \\ b^T = [4,-8,16,1,-2,9]\n",
    "\\\\end{equation}"
   ]
  },
  {
   "cell_type": "code",
   "execution_count": 118,
   "metadata": {
    "collapsed": true
   },
   "outputs": [],
   "source": [
    "import math\n",
    "import pandas\n",
    "import numpy as np"
   ]
  },
  {
   "cell_type": "markdown",
   "metadata": {},
   "source": [
    "**Initializing the vectors**"
   ]
  },
  {
   "cell_type": "code",
   "execution_count": 119,
   "metadata": {
    "collapsed": true
   },
   "outputs": [],
   "source": [
    "x0 = np.matrix([[0],[0],[0],[0],[0],[0]])\n",
    "A  = np.matrix([[4,0,0,1,0,0],[0,4,0,0,1,0],[0,0,5,0,0,1],[1,0,0,5,0,0],[0,1,0,0,6,0],[0,0,1,0,0,6]]) \n",
    "b =  np.matrix([[4],[-8],[16],[1],[-2],[9]])"
   ]
  },
  {
   "cell_type": "markdown",
   "metadata": {},
   "source": [
    "**The Function to compute the minimizer vector by Conjugate gradient method**"
   ]
  },
  {
   "cell_type": "code",
   "execution_count": 120,
   "metadata": {
    "collapsed": false
   },
   "outputs": [],
   "source": [
    "def conjugate_gradient(A, b, x0, tol = 1.0e-8, max_iter = 100):\n",
    "    \"\"\"\n",
    "    A function to solve [A]{x} = {b} linear equation system with the \n",
    "    conjugate gradient method.\n",
    "    \n",
    "    :param A : array \n",
    "        A real symmetric positive definite matrix(assumed)\n",
    "        \n",
    "    :param b : vector\n",
    "        The vector of the system which is given in RHS.\n",
    "        \n",
    "    :param x0 : vector\n",
    "        The starting guess for the solution.\n",
    "        \n",
    "    :param max_iter : integer\n",
    "        Maximum number of iterations. Iteration will stop after max_iter \n",
    "        steps even if the specified tolerance has not been achieved.\n",
    "        \n",
    "    :param tol : float\n",
    "        Tolerance to achieve. The algorithm will terminate when either \n",
    "        the relative or the absolute residual is below tol.\n",
    "        \n",
    "    :var    r0 : vector\n",
    "                 Initialization stores the value (b - a * A )\n",
    "    \n",
    "    :var    d  : vector\n",
    "    \n",
    "    :var    a  : float\n",
    "                 Iteratively computes the scalar of (r1T.r1)/(r0T.r0)\n",
    "\n",
    "    :var    ri : vector\n",
    "                 Iteratively stores the value (r - a * A * d), used to check for the convergence\n",
    "    \n",
    "    :var    x  : vector \n",
    "                 Stores the solution for the next iteration iteratively\n",
    "                 \n",
    "    :var    b  : float\n",
    "                 Iteratively computes the scalar of (riT.ri)/(diT.A.di)\n",
    "    \"\"\"\n",
    "    x = x0\n",
    "    r0 = b - np.dot(A, x)\n",
    "    d = r0\n",
    "\n",
    "#   Iterations:   \n",
    "    for i in xrange(max_iter):\n",
    "        a = float(np.dot(r0.T, r0)/np.dot(np.dot(d.T, A), d))\n",
    "        x = x + d*a\n",
    "        ri = r0 - np.dot(A*a, d)\n",
    "        \n",
    "        print \"iteration: \",i, \"r(i): \",round(np.linalg.norm(ri),5)\n",
    "\n",
    "        if np.linalg.norm(ri) < tol:\n",
    "            print \"\\nConverged Successfully in iterations :\",i\n",
    "            print \"The result of vector x:\"\n",
    "            return np.around(x,decimals=10)\n",
    "            break\n",
    "        b = float(np.dot(ri.T, ri)/np.dot(r0.T, r0))\n",
    "        d = ri + b * d\n",
    "        r0 = ri\n",
    "    return x"
   ]
  },
  {
   "cell_type": "code",
   "execution_count": 121,
   "metadata": {
    "collapsed": false
   },
   "outputs": [
    {
     "name": "stdout",
     "output_type": "stream",
     "text": [
      "iteration:  0 r(i):  20.54264\n",
      "iteration:  1 r(i):  10.48844\n",
      "iteration:  2 r(i):  5.69484\n",
      "iteration:  3 r(i):  3.39053\n",
      "iteration:  4 r(i):  2.18629\n",
      "iteration:  5 r(i):  1.41935\n",
      "iteration:  6 r(i):  0.86272\n",
      "iteration:  7 r(i):  0.48876\n",
      "iteration:  8 r(i):  0.27119\n",
      "iteration:  9 r(i):  0.15636\n",
      "iteration:  10 r(i):  0.09683\n",
      "iteration:  11 r(i):  0.06273\n",
      "iteration:  12 r(i):  0.03945\n",
      "iteration:  13 r(i):  0.02287\n",
      "iteration:  14 r(i):  0.01234\n",
      "iteration:  15 r(i):  0.00647\n",
      "iteration:  16 r(i):  0.00345\n",
      "iteration:  17 r(i):  0.00197\n",
      "iteration:  18 r(i):  0.00123\n",
      "iteration:  19 r(i):  0.00083\n",
      "iteration:  20 r(i):  0.00055\n",
      "iteration:  21 r(i):  0.00034\n",
      "iteration:  22 r(i):  0.0002\n",
      "iteration:  23 r(i):  0.00011\n",
      "iteration:  24 r(i):  6e-05\n",
      "iteration:  25 r(i):  4e-05\n",
      "iteration:  26 r(i):  2e-05\n",
      "iteration:  27 r(i):  1e-05\n",
      "iteration:  28 r(i):  1e-05\n",
      "iteration:  29 r(i):  0.0\n",
      "iteration:  30 r(i):  0.0\n",
      "iteration:  31 r(i):  0.0\n",
      "iteration:  32 r(i):  0.0\n",
      "iteration:  33 r(i):  0.0\n",
      "iteration:  34 r(i):  0.0\n",
      "iteration:  35 r(i):  0.0\n",
      "iteration:  36 r(i):  0.0\n",
      "iteration:  37 r(i):  0.0\n",
      "iteration:  38 r(i):  0.0\n",
      "iteration:  39 r(i):  0.0\n",
      "iteration:  40 r(i):  0.0\n",
      "iteration:  41 r(i):  0.0\n",
      "iteration:  42 r(i):  0.0\n",
      "iteration:  43 r(i):  0.0\n",
      "iteration:  44 r(i):  0.0\n",
      "iteration:  45 r(i):  0.0\n",
      "iteration:  46 r(i):  0.0\n",
      "iteration:  47 r(i):  0.0\n",
      "iteration:  48 r(i):  0.0\n",
      "iteration:  49 r(i):  0.0\n",
      "\n",
      "Converged Successfully in iterations : 49\n",
      "The result of vector x:\n"
     ]
    },
    {
     "data": {
      "text/plain": [
       "array([[ 1.],\n",
       "       [-2.],\n",
       "       [ 3.],\n",
       "       [ 0.],\n",
       "       [-0.],\n",
       "       [ 1.]])"
      ]
     },
     "execution_count": 121,
     "metadata": {},
     "output_type": "execute_result"
    }
   ],
   "source": [
    "conjugate_gradient(A, b, x0, tol = 1.0e-10, max_iter = 100)"
   ]
  },
  {
   "cell_type": "markdown",
   "metadata": {},
   "source": [
    "**Comments on Results:**"
   ]
  },
  {
   "cell_type": "markdown",
   "metadata": {},
   "source": [
    "- Convergence criteria is: 100 maximum iterations or **||ri|| ≤ 10^(-8)**\n",
    "- Using the initial guess as xT = [0,0,0,0,0,0] approxiamated value of x is **[1.0,-2.0,3.0,0,0,1.0]**\n",
    "- The algorithm converged in **49 iterations** using the above guess vector\n",
    "- The computed values are cross-validates by checking plugging in these values given by the criteria defined above and   checking for convergence ~0."
   ]
  },
  {
   "cell_type": "markdown",
   "metadata": {},
   "source": [
    "**Comment on Method Used:**\n",
    "- The conjugate gradient method works by generating a set of vectors d that are conjugate with respect to the matrix     A. That is, **dTi A dj = 0, i != j**\n",
    "- The formula for αi( used as **a** here) corresponds to an **exact line search along the direction di(used as d in     the code)**"
   ]
  },
  {
   "cell_type": "code",
   "execution_count": null,
   "metadata": {
    "collapsed": true
   },
   "outputs": [],
   "source": []
  }
 ],
 "metadata": {
  "kernelspec": {
   "display_name": "Python 2",
   "language": "python",
   "name": "python2"
  },
  "language_info": {
   "codemirror_mode": {
    "name": "ipython",
    "version": 2
   },
   "file_extension": ".py",
   "mimetype": "text/x-python",
   "name": "python",
   "nbconvert_exporter": "python",
   "pygments_lexer": "ipython2",
   "version": "2.7.10"
  }
 },
 "nbformat": 4,
 "nbformat_minor": 0
}
