{
 "cells": [
  {
   "cell_type": "markdown",
   "metadata": {},
   "source": [
    "Approximate the minimum value of the function : \n",
    "\\begin{equation}\n",
    "  f(x) = exp(-x) + x^2\n",
    "\\end{equation}\n"
   ]
  },
  {
   "cell_type": "markdown",
   "metadata": {},
   "source": [
    "### Algorithm Implementation "
   ]
  },
  {
   "cell_type": "code",
   "execution_count": 2,
   "metadata": {
    "collapsed": true
   },
   "outputs": [],
   "source": [
    "# Import Libraries and setting the Golden ratio value\n",
    "import math\n",
    "R  = ((5 ** 0.5) - 1) / 2\n",
    "import numpy as np"
   ]
  },
  {
   "cell_type": "code",
   "execution_count": 4,
   "metadata": {
    "collapsed": false
   },
   "outputs": [],
   "source": [
    "def fun(x): return math.exp(-x) + x**2 \n",
    "def fun_derv(x): return -math.exp(-x) + 2*x  #function to return the derivative\n",
    "def Bi_section(lb,ub,tol): #method to compute the minima by bisection \n",
    "    iteration = 0\n",
    "    c = .5*(lb+ub)\n",
    "    fc = fun_derv(c)\n",
    "    print \"Starting with Upper and Lower Bound \",ub,lb\n",
    "    while (abs(ub-lb) > tol):\n",
    "        iteration += 1 # counter to count the number of iterations \n",
    "        if fc < 0: #check for the derivative of the point whether negative\n",
    "            lb = c     # setting the lb point by golden bisection method\n",
    "            print round(ub,5),round(lb,5)\n",
    "            c = .5*(lb+ub) # setting the c point by taking the mean\n",
    "            fc = fun_derv(c) #check for the derivative\n",
    "        else:\n",
    "            ub = c\n",
    "            print round(ub,5),round(lb,5)\n",
    "            c = .5*(lb+ub)\n",
    "            fc = fun_derv(c)\n",
    "\n",
    "    print \"\\nConverged after %g iterations \\nPoint is : \"%iteration,round(.5*(ub+lb),6)"
   ]
  },
  {
   "cell_type": "code",
   "execution_count": 5,
   "metadata": {
    "collapsed": false
   },
   "outputs": [
    {
     "name": "stdout",
     "output_type": "stream",
     "text": [
      "Starting with Upper and Lower Bound  100 -100\n",
      "100.0 0.0\n",
      "50.0 0.0\n",
      "25.0 0.0\n",
      "12.5 0.0\n",
      "6.25 0.0\n",
      "3.125 0.0\n",
      "1.5625 0.0\n",
      "0.78125 0.0\n",
      "0.39063 0.0\n",
      "0.39063 0.19531\n",
      "0.39063 0.29297\n",
      "0.39063 0.3418\n",
      "0.36621 0.3418\n",
      "0.354 0.3418\n",
      "0.354 0.3479\n",
      "0.354 0.35095\n",
      "0.35248 0.35095\n",
      "0.35248 0.35172\n",
      "\n",
      "Converged after 18 iterations \n",
      "Point is :  0.352097\n"
     ]
    }
   ],
   "source": [
    "Bi_section(-100,100,.001)"
   ]
  },
  {
   "cell_type": "markdown",
   "metadata": {},
   "source": [
    "Comments on Result:\n",
    "- The tolerance for the convergence is set to be **0.001**\n",
    "- The upper bound is **100** and the lower bound is **-100**\n",
    "- Using the above values, the golden section implementation converged after **18** iterations.\n",
    "- Therefore, the point of minima is **0.352097**"
   ]
  },
  {
   "cell_type": "code",
   "execution_count": null,
   "metadata": {
    "collapsed": true
   },
   "outputs": [],
   "source": []
  }
 ],
 "metadata": {
  "kernelspec": {
   "display_name": "Python 2",
   "language": "python",
   "name": "python2"
  },
  "language_info": {
   "codemirror_mode": {
    "name": "ipython",
    "version": 2
   },
   "file_extension": ".py",
   "mimetype": "text/x-python",
   "name": "python",
   "nbconvert_exporter": "python",
   "pygments_lexer": "ipython2",
   "version": "2.7.6"
  }
 },
 "nbformat": 4,
 "nbformat_minor": 0
}
