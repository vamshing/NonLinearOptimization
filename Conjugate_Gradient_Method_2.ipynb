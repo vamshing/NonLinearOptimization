{
 "cells": [
  {
   "cell_type": "markdown",
   "metadata": {},
   "source": [
    "##  Conjugate Gradient Method_2:"
   ]
  },
  {
   "cell_type": "markdown",
   "metadata": {},
   "source": [
    "\\\\begin{equation}\n",
    "min \\ f(x),\\ f(x) = 0.5x^T A x - b^T x\n",
    "\\\\end{equation}"
   ]
  },
  {
   "cell_type": "markdown",
   "metadata": {},
   "source": [
    "\\begin{eqnarray}\n",
    "\\ A = \\begin{pmatrix}\n",
    "1 & 0 & 0 \\\\\n",
    "0 & 5 & 0 \\\\\n",
    "0 & 0 & 25 \\\\\n",
    "\\end{pmatrix}\n",
    "\\end{eqnarray}"
   ]
  },
  {
   "cell_type": "markdown",
   "metadata": {},
   "source": [
    "\\\\begin{equation}\n",
    "\\ Using \\ b^T = [-1,-1,-1]\n",
    "\\\\end{equation}"
   ]
  },
  {
   "cell_type": "code",
   "execution_count": 90,
   "metadata": {
    "collapsed": false
   },
   "outputs": [],
   "source": [
    "import math\n",
    "import numpy as np"
   ]
  },
  {
   "cell_type": "markdown",
   "metadata": {},
   "source": [
    "**Initializing the vectors**"
   ]
  },
  {
   "cell_type": "code",
   "execution_count": 91,
   "metadata": {
    "collapsed": true
   },
   "outputs": [],
   "source": [
    "x0 = np.matrix([[0],[0],[0]])\n",
    "A  = np.matrix([[1,0,0],[0,5,0],[0,0,25]]) \n",
    "b =  np.matrix([[-1],[-1],[-1]])"
   ]
  },
  {
   "cell_type": "markdown",
   "metadata": {},
   "source": [
    "**The Function to compute the minimizer vector by Conjugate gradient method**"
   ]
  },
  {
   "cell_type": "code",
   "execution_count": 109,
   "metadata": {
    "collapsed": false
   },
   "outputs": [],
   "source": [
    "def conjugate_gradient(A, b, x0, tol = 1.0e-8, max_iter = 100):\n",
    "    \"\"\"\n",
    "    A function to solve [A]{x} = {b} linear equation system with the \n",
    "    conjugate gradient method.\n",
    "    \n",
    "    :param A : array \n",
    "        A real symmetric positive definite matrix(assumed)\n",
    "        \n",
    "    :param b : vector\n",
    "        The vector of the system which is given in RHS.\n",
    "        \n",
    "    :param x0 : vector\n",
    "        The starting guess for the solution.\n",
    "        \n",
    "    :param max_iter : integer\n",
    "        Maximum number of iterations. Iteration will stop after max_iter \n",
    "        steps even if the specified tolerance has not been achieved.\n",
    "        \n",
    "    :param tol : float\n",
    "        Tolerance to achieve. The algorithm will terminate when either \n",
    "        the relative or the absolute residual is below tol.\n",
    "        \n",
    "    :var    r0 : vector\n",
    "                 Initialization stores the value (b - a * A )\n",
    "    \n",
    "    :var    d  : vector\n",
    "    \n",
    "    :var    a  : float\n",
    "                 Iteratively computes the scalar of (r1T.r1)/(r0T.r0)\n",
    "\n",
    "    :var    ri : vector\n",
    "                 Iteratively stores the value (r - a * A * d), used to check for the convergence\n",
    "    \n",
    "    :var    x  : vector \n",
    "                 Stores the solution for the next iteration iteratively\n",
    "                 \n",
    "    :var    b  : float\n",
    "                 Iteratively computes the scalar of (riT.ri)/(diT.A.di)\n",
    "    \"\"\"\n",
    "    x = x0\n",
    "    r0 = b - np.dot(A, x)\n",
    "    d = r0\n",
    "    \n",
    "    def function_value(x):\n",
    "        return round(np.dot(0.5 * x.T,np.dot(A,x)).item(0) - np.dot(b.T,x).item(0),4)\n",
    "    \n",
    "#   Iterations:   \n",
    "    for i in xrange(max_iter):\n",
    "        a = float(np.dot(r0.T, r0)/np.dot(np.dot(d.T, A), d))\n",
    "        x = x + d*a\n",
    "        ri = r0 - np.dot(A*a, d)\n",
    "        \n",
    "        print \"iteration: \",i, \"r(i): \",round(np.linalg.norm(ri),5),\"xi :(\",round(x.item(0),4),\",\",round(x.item(1),4),\",\",round(x.item(2),4),\")\",\"F(xi): \",function_value(x)\n",
    "        \n",
    "        if np.linalg.norm(ri) < tol:\n",
    "            print \"\\nConverged Successfully in iterations :\",i\n",
    "            print \"The result of vector x:\"\n",
    "            return np.around(x,decimals=10)\n",
    "            break\n",
    "        b2 = float(np.dot(ri.T, ri)/np.dot(r0.T, r0))\n",
    "        d = ri + b2 * d\n",
    "        r0 = ri\n",
    "    return x"
   ]
  },
  {
   "cell_type": "code",
   "execution_count": 110,
   "metadata": {
    "collapsed": false,
    "scrolled": false
   },
   "outputs": [
    {
     "name": "stdout",
     "output_type": "stream",
     "text": [
      "iteration:  0 r(i):  1.73205 xi :( 0.0 , 0.0 , 0.0 ) F(xi):  0.0\n",
      "iteration:  1 r(i):  1.23458 xi :( -0.0484 , -0.0484 , -0.0484 ) F(xi):  -0.1089\n",
      "iteration:  2 r(i):  1.42683 xi :( -0.132 , -0.1238 , -0.0827 ) F(xi):  -0.206\n",
      "iteration:  3 r(i):  1.3112 xi :( -0.2742 , -0.2356 , -0.0831 ) F(xi):  -0.3302\n",
      "iteration:  4 r(i):  0.86392 xi :( -0.3714 , -0.2923 , -0.0549 ) F(xi):  -0.3983\n",
      "iteration:  5 r(i):  0.82692 xi :( -0.4421 , -0.3072 , -0.0283 ) F(xi):  -0.4339\n",
      "iteration:  6 r(i):  1.14915 xi :( -0.5851 , -0.3014 , -0.0022 ) F(xi):  -0.4904\n",
      "iteration:  7 r(i):  1.00087 xi :( -0.8089 , -0.2721 , -0.0034 ) F(xi):  -0.5721\n",
      "iteration:  8 r(i):  0.47564 xi :( -0.9059 , -0.2518 , -0.0245 ) F(xi):  -0.6059\n",
      "iteration:  9 r(i):  0.23975 xi :( -0.9275 , -0.2425 , -0.0366 ) F(xi):  -0.6127\n",
      "iteration:  10 r(i):  0.19517 xi :( -0.9371 , -0.2333 , -0.0432 ) F(xi):  -0.6151\n",
      "iteration:  11 r(i):  0.18725 xi :( -0.9485 , -0.2182 , -0.0462 ) F(xi):  -0.6174\n",
      "iteration:  12 r(i):  0.11001 xi :( -0.9572 , -0.2059 , -0.0439 ) F(xi):  -0.6188\n",
      "iteration:  13 r(i):  0.05217 xi :( -0.9604 , -0.2022 , -0.0413 ) F(xi):  -0.6192\n",
      "iteration:  14 r(i):  0.03839 xi :( -0.9622 , -0.2009 , -0.0398 ) F(xi):  -0.6193\n",
      "iteration:  15 r(i):  0.05146 xi :( -0.966 , -0.1993 , -0.0385 ) F(xi):  -0.6194\n",
      "iteration:  16 r(i):  0.06207 xi :( -0.9754 , -0.1963 , -0.0378 ) F(xi):  -0.6196\n",
      "iteration:  17 r(i):  0.04158 xi :( -0.9836 , -0.1945 , -0.0389 ) F(xi):  -0.6198\n",
      "iteration:  18 r(i):  0.03039 xi :( -0.9872 , -0.1945 , -0.0401 ) F(xi):  -0.6198\n",
      "iteration:  19 r(i):  0.03322 xi :( -0.9907 , -0.1956 , -0.0409 ) F(xi):  -0.6199\n",
      "iteration:  20 r(i):  0.02854 xi :( -0.9952 , -0.1977 , -0.041 ) F(xi):  -0.62\n",
      "iteration:  21 r(i):  0.01356 xi :( -0.9973 , -0.1989 , -0.0405 ) F(xi):  -0.62\n",
      "iteration:  22 r(i):  0.00583 xi :( -0.9977 , -0.1992 , -0.0402 ) F(xi):  -0.62\n",
      "iteration:  23 r(i):  0.00372 xi :( -0.9978 , -0.1994 , -0.04 ) F(xi):  -0.62\n",
      "iteration:  24 r(i):  0.00383 xi :( -0.998 , -0.1996 , -0.0399 ) F(xi):  -0.62\n",
      "iteration:  25 r(i):  0.00333 xi :( -0.9983 , -0.1999 , -0.0399 ) F(xi):  -0.62\n",
      "iteration:  26 r(i):  0.00197 xi :( -0.9985 , -0.2001 , -0.04 ) F(xi):  -0.62\n",
      "iteration:  27 r(i):  0.00161 xi :( -0.9986 , -0.2001 , -0.04 ) F(xi):  -0.62\n",
      "iteration:  28 r(i):  0.00227 xi :( -0.9988 , -0.2002 , -0.0401 ) F(xi):  -0.62\n",
      "iteration:  29 r(i):  0.00267 xi :( -0.9993 , -0.2002 , -0.0401 ) F(xi):  -0.62\n",
      "iteration:  30 r(i):  0.00154 xi :( -0.9997 , -0.2002 , -0.0401 ) F(xi):  -0.62\n",
      "iteration:  31 r(i):  0.0008 xi :( -0.9998 , -0.2001 , -0.04 ) F(xi):  -0.62\n",
      "iteration:  32 r(i):  0.00066 xi :( -0.9998 , -0.2001 , -0.04 ) F(xi):  -0.62\n",
      "iteration:  33 r(i):  0.00064 xi :( -0.9999 , -0.2001 , -0.04 ) F(xi):  -0.62\n",
      "iteration:  34 r(i):  0.00037 xi :( -0.9999 , -0.2 , -0.04 ) F(xi):  -0.62\n",
      "iteration:  35 r(i):  0.00016 xi :( -0.9999 , -0.2 , -0.04 ) F(xi):  -0.62\n",
      "iteration:  36 r(i):  0.0001 xi :( -0.9999 , -0.2 , -0.04 ) F(xi):  -0.62\n",
      "iteration:  37 r(i):  0.0001 xi :( -0.9999 , -0.2 , -0.04 ) F(xi):  -0.62\n",
      "iteration:  38 r(i):  0.00013 xi :( -0.9999 , -0.2 , -0.04 ) F(xi):  -0.62\n",
      "iteration:  39 r(i):  0.0001 xi :( -0.9999 , -0.2 , -0.04 ) F(xi):  -0.62\n",
      "iteration:  40 r(i):  7e-05 xi :( -1.0 , -0.2 , -0.04 ) F(xi):  -0.62\n",
      "iteration:  41 r(i):  9e-05 xi :( -1.0 , -0.2 , -0.04 ) F(xi):  -0.62\n",
      "iteration:  42 r(i):  9e-05 xi :( -1.0 , -0.2 , -0.04 ) F(xi):  -0.62\n",
      "iteration:  43 r(i):  5e-05 xi :( -1.0 , -0.2 , -0.04 ) F(xi):  -0.62\n",
      "iteration:  44 r(i):  2e-05 xi :( -1.0 , -0.2 , -0.04 ) F(xi):  -0.62\n",
      "iteration:  45 r(i):  1e-05 xi :( -1.0 , -0.2 , -0.04 ) F(xi):  -0.62\n",
      "iteration:  46 r(i):  1e-05 xi :( -1.0 , -0.2 , -0.04 ) F(xi):  -0.62\n",
      "iteration:  47 r(i):  1e-05 xi :( -1.0 , -0.2 , -0.04 ) F(xi):  -0.62\n",
      "iteration:  48 r(i):  1e-05 xi :( -1.0 , -0.2 , -0.04 ) F(xi):  -0.62\n",
      "iteration:  49 r(i):  0.0 xi :( -1.0 , -0.2 , -0.04 ) F(xi):  -0.62\n",
      "iteration:  50 r(i):  0.0 xi :( -1.0 , -0.2 , -0.04 ) F(xi):  -0.62\n",
      "iteration:  51 r(i):  1e-05 xi :( -1.0 , -0.2 , -0.04 ) F(xi):  -0.62\n",
      "iteration:  52 r(i):  0.0 xi :( -1.0 , -0.2 , -0.04 ) F(xi):  -0.62\n",
      "iteration:  53 r(i):  0.0 xi :( -1.0 , -0.2 , -0.04 ) F(xi):  -0.62\n",
      "iteration:  54 r(i):  0.0 xi :( -1.0 , -0.2 , -0.04 ) F(xi):  -0.62\n",
      "iteration:  55 r(i):  0.0 xi :( -1.0 , -0.2 , -0.04 ) F(xi):  -0.62\n",
      "iteration:  56 r(i):  0.0 xi :( -1.0 , -0.2 , -0.04 ) F(xi):  -0.62\n",
      "iteration:  57 r(i):  0.0 xi :( -1.0 , -0.2 , -0.04 ) F(xi):  -0.62\n",
      "iteration:  58 r(i):  0.0 xi :( -1.0 , -0.2 , -0.04 ) F(xi):  -0.62\n",
      "iteration:  59 r(i):  0.0 xi :( -1.0 , -0.2 , -0.04 ) F(xi):  -0.62\n",
      "iteration:  60 r(i):  0.0 xi :( -1.0 , -0.2 , -0.04 ) F(xi):  -0.62\n",
      "iteration:  61 r(i):  0.0 xi :( -1.0 , -0.2 , -0.04 ) F(xi):  -0.62\n",
      "iteration:  62 r(i):  0.0 xi :( -1.0 , -0.2 , -0.04 ) F(xi):  -0.62\n",
      "iteration:  63 r(i):  0.0 xi :( -1.0 , -0.2 , -0.04 ) F(xi):  -0.62\n",
      "iteration:  64 r(i):  0.0 xi :( -1.0 , -0.2 , -0.04 ) F(xi):  -0.62\n",
      "iteration:  65 r(i):  0.0 xi :( -1.0 , -0.2 , -0.04 ) F(xi):  -0.62\n",
      "iteration:  66 r(i):  0.0 xi :( -1.0 , -0.2 , -0.04 ) F(xi):  -0.62\n",
      "iteration:  67 r(i):  0.0 xi :( -1.0 , -0.2 , -0.04 ) F(xi):  -0.62\n",
      "iteration:  68 r(i):  0.0 xi :( -1.0 , -0.2 , -0.04 ) F(xi):  -0.62\n",
      "iteration:  69 r(i):  0.0 xi :( -1.0 , -0.2 , -0.04 ) F(xi):  -0.62\n",
      "iteration:  70 r(i):  0.0 xi :( -1.0 , -0.2 , -0.04 ) F(xi):  -0.62\n",
      "iteration:  71 r(i):  0.0 xi :( -1.0 , -0.2 , -0.04 ) F(xi):  -0.62\n",
      "\n",
      "Converged Successfully in iterations : 71\n",
      "The result of vector x:\n"
     ]
    },
    {
     "data": {
      "text/plain": [
       "array([[-0.99999999],\n",
       "       [-0.2       ],\n",
       "       [-0.04      ]])"
      ]
     },
     "execution_count": 110,
     "metadata": {},
     "output_type": "execute_result"
    }
   ],
   "source": [
    "conjugate_gradient(A, b, x0, tol = 1.0e-08, max_iter = 100)"
   ]
  },
  {
   "cell_type": "markdown",
   "metadata": {},
   "source": [
    "**Comments on Results:**"
   ]
  },
  {
   "cell_type": "markdown",
   "metadata": {},
   "source": [
    "- Convergence criteria is: 100 maximum iterations or **||ri|| ≤ 10^(-8)**\n",
    "- Using the initial guess as xT = [0,0,0] approxiamated value of x is **[-1.0,-0.2,0.04]**\n",
    "- The converging function value is **-0.62**\n",
    "- The algorithm converged in **71 iterations** using the above guess vector\n",
    "- The computed values are cross-validates by checking plugging in these values given by the criteria defined above and   checking for convergence ~0."
   ]
  },
  {
   "cell_type": "markdown",
   "metadata": {},
   "source": [
    "**Comment on Method Used:**\n",
    "- The conjugate gradient method works by generating a set of vectors d that are conjugate with respect to the matrix     A. That is, **dTi A dj = 0, i != j**\n",
    "- The formula for αi( used as **a** here) corresponds to an **exact line search along the direction di(used as d in     the code)**"
   ]
  },
  {
   "cell_type": "code",
   "execution_count": null,
   "metadata": {
    "collapsed": true
   },
   "outputs": [],
   "source": []
  }
 ],
 "metadata": {
  "kernelspec": {
   "display_name": "Python 2",
   "language": "python",
   "name": "python2"
  },
  "language_info": {
   "codemirror_mode": {
    "name": "ipython",
    "version": 2
   },
   "file_extension": ".py",
   "mimetype": "text/x-python",
   "name": "python",
   "nbconvert_exporter": "python",
   "pygments_lexer": "ipython2",
   "version": "2.7.10"
  }
 },
 "nbformat": 4,
 "nbformat_minor": 0
}
